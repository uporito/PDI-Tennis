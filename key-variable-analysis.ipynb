{
 "cells": [
  {
   "cell_type": "markdown",
   "metadata": {},
   "source": [
    "# Analysis of Key Variables\n",
    "\n",
    "After the preliminary analysis, we'll try to apply our findings to a much larger data set : all the ATP Singles (World Tour, Challenger, Futures) matches since 1970. For this step, we have two objectives :\n",
    "1. Identify all the key variables we will take into account to build our models (we will concern ourselves with their 'weights' when we build the models)\n",
    "2. Identify the data sets for which these variables can actually be exploited (i.e format - maybe Futures matches are too volatile to predict, and timeframe - maybe the game has evolved too much since 1990)"
   ]
  },
  {
   "cell_type": "code",
   "execution_count": null,
   "metadata": {},
   "outputs": [],
   "source": []
  }
 ],
 "metadata": {
  "interpreter": {
   "hash": "0b93062363e5a5b4fa26c1845ae4a0b4a25f0e99a4bdf65960ff0b8d7a276f44"
  },
  "kernelspec": {
   "display_name": "Python 3.6.5 64-bit ('base': conda)",
   "name": "python3"
  },
  "language_info": {
   "codemirror_mode": {
    "name": "ipython",
    "version": 3
   },
   "file_extension": ".py",
   "mimetype": "text/x-python",
   "name": "python",
   "nbconvert_exporter": "python",
   "pygments_lexer": "ipython3",
   "version": "3.6.5"
  },
  "orig_nbformat": 4
 },
 "nbformat": 4,
 "nbformat_minor": 2
}
