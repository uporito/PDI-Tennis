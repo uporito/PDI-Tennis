{
 "cells": [
  {
   "cell_type": "markdown",
   "metadata": {},
   "source": [
    "# Regression Tree\n",
    "\n",
    "It's time to design our generic regression tree model that can be applied to any player. It will be based on the regression tree we designed using Federer as an exemple."
   ]
  },
  {
   "cell_type": "code",
   "execution_count": 145,
   "metadata": {},
   "outputs": [],
   "source": [
    "### IMPORTS ###\n",
    "\n",
    "import numpy as np\n",
    "import pandas as pd\n",
    "import matplotlib.pyplot as plt"
   ]
  },
  {
   "cell_type": "markdown",
   "metadata": {},
   "source": [
    "We select the player and generate a table containing that player's matches which we will store in \"player.csv\", as to avoid creating one table for each player.  \n",
    "Note : This setup step has to be repeated each time we change players."
   ]
  },
  {
   "cell_type": "code",
   "execution_count": 146,
   "metadata": {},
   "outputs": [
    {
     "data": {
      "text/html": [
       "<div>\n",
       "<style scoped>\n",
       "    .dataframe tbody tr th:only-of-type {\n",
       "        vertical-align: middle;\n",
       "    }\n",
       "\n",
       "    .dataframe tbody tr th {\n",
       "        vertical-align: top;\n",
       "    }\n",
       "\n",
       "    .dataframe thead th {\n",
       "        text-align: right;\n",
       "    }\n",
       "</style>\n",
       "<table border=\"1\" class=\"dataframe\">\n",
       "  <thead>\n",
       "    <tr style=\"text-align: right;\">\n",
       "      <th></th>\n",
       "      <th>tourney_name</th>\n",
       "      <th>surface</th>\n",
       "      <th>tourney_level</th>\n",
       "      <th>tourney_date</th>\n",
       "      <th>player_age</th>\n",
       "      <th>opp_name</th>\n",
       "      <th>opp_hand</th>\n",
       "      <th>opp_ht</th>\n",
       "      <th>opp_ioc</th>\n",
       "      <th>opp_age</th>\n",
       "      <th>score</th>\n",
       "      <th>best_of</th>\n",
       "      <th>round</th>\n",
       "      <th>minutes</th>\n",
       "      <th>player_rank</th>\n",
       "      <th>player_rank_points</th>\n",
       "      <th>opp_rank</th>\n",
       "      <th>opp_rank_points</th>\n",
       "      <th>player_won</th>\n",
       "      <th>consecutive</th>\n",
       "    </tr>\n",
       "  </thead>\n",
       "  <tbody>\n",
       "    <tr>\n",
       "      <th>36750</th>\n",
       "      <td>Mallorca</td>\n",
       "      <td>Clay</td>\n",
       "      <td>A</td>\n",
       "      <td>20020429</td>\n",
       "      <td>15.904175</td>\n",
       "      <td>Ramon Delgado</td>\n",
       "      <td>R</td>\n",
       "      <td>185.0</td>\n",
       "      <td>PAR</td>\n",
       "      <td>25.453799</td>\n",
       "      <td>6-4 6-4</td>\n",
       "      <td>3</td>\n",
       "      <td>R32</td>\n",
       "      <td>83.0</td>\n",
       "      <td>762.0</td>\n",
       "      <td>14.0</td>\n",
       "      <td>81.0</td>\n",
       "      <td>490.0</td>\n",
       "      <td>1</td>\n",
       "      <td>0</td>\n",
       "    </tr>\n",
       "    <tr>\n",
       "      <th>36763</th>\n",
       "      <td>Mallorca</td>\n",
       "      <td>Clay</td>\n",
       "      <td>A</td>\n",
       "      <td>20020429</td>\n",
       "      <td>15.904175</td>\n",
       "      <td>Olivier Rochus</td>\n",
       "      <td>R</td>\n",
       "      <td>168.0</td>\n",
       "      <td>BEL</td>\n",
       "      <td>21.275838</td>\n",
       "      <td>6-2 6-2</td>\n",
       "      <td>3</td>\n",
       "      <td>R16</td>\n",
       "      <td>62.0</td>\n",
       "      <td>762.0</td>\n",
       "      <td>14.0</td>\n",
       "      <td>70.0</td>\n",
       "      <td>571.0</td>\n",
       "      <td>0</td>\n",
       "      <td>0</td>\n",
       "    </tr>\n",
       "    <tr>\n",
       "      <th>37358</th>\n",
       "      <td>Bastad</td>\n",
       "      <td>Clay</td>\n",
       "      <td>A</td>\n",
       "      <td>20030707</td>\n",
       "      <td>17.092402</td>\n",
       "      <td>Younes El Aynaoui</td>\n",
       "      <td>R</td>\n",
       "      <td>193.0</td>\n",
       "      <td>MAR</td>\n",
       "      <td>31.816564</td>\n",
       "      <td>6-3 4-6 6-3</td>\n",
       "      <td>3</td>\n",
       "      <td>R32</td>\n",
       "      <td>102.0</td>\n",
       "      <td>61.0</td>\n",
       "      <td>639.0</td>\n",
       "      <td>21.0</td>\n",
       "      <td>1300.0</td>\n",
       "      <td>1</td>\n",
       "      <td>0</td>\n",
       "    </tr>\n",
       "    <tr>\n",
       "      <th>37368</th>\n",
       "      <td>Bastad</td>\n",
       "      <td>Clay</td>\n",
       "      <td>A</td>\n",
       "      <td>20030707</td>\n",
       "      <td>17.092402</td>\n",
       "      <td>Albert Portas</td>\n",
       "      <td>R</td>\n",
       "      <td>188.0</td>\n",
       "      <td>ESP</td>\n",
       "      <td>29.639973</td>\n",
       "      <td>6-0 6-4</td>\n",
       "      <td>3</td>\n",
       "      <td>R16</td>\n",
       "      <td>71.0</td>\n",
       "      <td>61.0</td>\n",
       "      <td>639.0</td>\n",
       "      <td>83.0</td>\n",
       "      <td>489.0</td>\n",
       "      <td>1</td>\n",
       "      <td>1</td>\n",
       "    </tr>\n",
       "    <tr>\n",
       "      <th>37373</th>\n",
       "      <td>Bastad</td>\n",
       "      <td>Clay</td>\n",
       "      <td>A</td>\n",
       "      <td>20030707</td>\n",
       "      <td>17.092402</td>\n",
       "      <td>Nicolas Lapentti</td>\n",
       "      <td>R</td>\n",
       "      <td>188.0</td>\n",
       "      <td>ECU</td>\n",
       "      <td>26.896646</td>\n",
       "      <td>3-6 6-3 7-6(6)</td>\n",
       "      <td>3</td>\n",
       "      <td>QF</td>\n",
       "      <td>176.0</td>\n",
       "      <td>61.0</td>\n",
       "      <td>639.0</td>\n",
       "      <td>76.0</td>\n",
       "      <td>530.0</td>\n",
       "      <td>0</td>\n",
       "      <td>0</td>\n",
       "    </tr>\n",
       "    <tr>\n",
       "      <th>...</th>\n",
       "      <td>...</td>\n",
       "      <td>...</td>\n",
       "      <td>...</td>\n",
       "      <td>...</td>\n",
       "      <td>...</td>\n",
       "      <td>...</td>\n",
       "      <td>...</td>\n",
       "      <td>...</td>\n",
       "      <td>...</td>\n",
       "      <td>...</td>\n",
       "      <td>...</td>\n",
       "      <td>...</td>\n",
       "      <td>...</td>\n",
       "      <td>...</td>\n",
       "      <td>...</td>\n",
       "      <td>...</td>\n",
       "      <td>...</td>\n",
       "      <td>...</td>\n",
       "      <td>...</td>\n",
       "      <td>...</td>\n",
       "    </tr>\n",
       "    <tr>\n",
       "      <th>85403</th>\n",
       "      <td>Roland Garros</td>\n",
       "      <td>Clay</td>\n",
       "      <td>G</td>\n",
       "      <td>20210531</td>\n",
       "      <td>34.992471</td>\n",
       "      <td>Jannik Sinner</td>\n",
       "      <td>R</td>\n",
       "      <td>188.0</td>\n",
       "      <td>ITA</td>\n",
       "      <td>19.789185</td>\n",
       "      <td>7-5 6-3 6-0</td>\n",
       "      <td>5</td>\n",
       "      <td>R16</td>\n",
       "      <td>137.0</td>\n",
       "      <td>3.0</td>\n",
       "      <td>9630.0</td>\n",
       "      <td>19.0</td>\n",
       "      <td>2500.0</td>\n",
       "      <td>1</td>\n",
       "      <td>10</td>\n",
       "    </tr>\n",
       "    <tr>\n",
       "      <th>85410</th>\n",
       "      <td>Roland Garros</td>\n",
       "      <td>Clay</td>\n",
       "      <td>G</td>\n",
       "      <td>20210531</td>\n",
       "      <td>34.992471</td>\n",
       "      <td>Diego Schwartzman</td>\n",
       "      <td>R</td>\n",
       "      <td>170.0</td>\n",
       "      <td>ARG</td>\n",
       "      <td>28.788501</td>\n",
       "      <td>6-3 4-6 6-4 6-0</td>\n",
       "      <td>5</td>\n",
       "      <td>QF</td>\n",
       "      <td>165.0</td>\n",
       "      <td>3.0</td>\n",
       "      <td>9630.0</td>\n",
       "      <td>10.0</td>\n",
       "      <td>3465.0</td>\n",
       "      <td>1</td>\n",
       "      <td>11</td>\n",
       "    </tr>\n",
       "    <tr>\n",
       "      <th>85413</th>\n",
       "      <td>Roland Garros</td>\n",
       "      <td>Clay</td>\n",
       "      <td>G</td>\n",
       "      <td>20210531</td>\n",
       "      <td>34.992471</td>\n",
       "      <td>Novak Djokovic</td>\n",
       "      <td>R</td>\n",
       "      <td>188.0</td>\n",
       "      <td>SRB</td>\n",
       "      <td>34.026010</td>\n",
       "      <td>3-6 6-3 7-6(4) 6-2</td>\n",
       "      <td>5</td>\n",
       "      <td>SF</td>\n",
       "      <td>251.0</td>\n",
       "      <td>3.0</td>\n",
       "      <td>9630.0</td>\n",
       "      <td>1.0</td>\n",
       "      <td>11313.0</td>\n",
       "      <td>0</td>\n",
       "      <td>0</td>\n",
       "    </tr>\n",
       "    <tr>\n",
       "      <th>85907</th>\n",
       "      <td>Washington</td>\n",
       "      <td>Hard</td>\n",
       "      <td>A</td>\n",
       "      <td>20210802</td>\n",
       "      <td>35.164956</td>\n",
       "      <td>Lloyd Harris</td>\n",
       "      <td>R</td>\n",
       "      <td>193.0</td>\n",
       "      <td>RSA</td>\n",
       "      <td>24.435318</td>\n",
       "      <td>6-4 1-6 6-4</td>\n",
       "      <td>3</td>\n",
       "      <td>R16</td>\n",
       "      <td>130.0</td>\n",
       "      <td>3.0</td>\n",
       "      <td>8270.0</td>\n",
       "      <td>50.0</td>\n",
       "      <td>1303.0</td>\n",
       "      <td>0</td>\n",
       "      <td>0</td>\n",
       "    </tr>\n",
       "    <tr>\n",
       "      <th>85915</th>\n",
       "      <td>Washington</td>\n",
       "      <td>Hard</td>\n",
       "      <td>A</td>\n",
       "      <td>20210802</td>\n",
       "      <td>35.164956</td>\n",
       "      <td>Jack Sock</td>\n",
       "      <td>R</td>\n",
       "      <td>185.0</td>\n",
       "      <td>USA</td>\n",
       "      <td>28.854209</td>\n",
       "      <td>6-2 4-6 7-6(1)</td>\n",
       "      <td>3</td>\n",
       "      <td>R32</td>\n",
       "      <td>184.0</td>\n",
       "      <td>3.0</td>\n",
       "      <td>8270.0</td>\n",
       "      <td>192.0</td>\n",
       "      <td>373.0</td>\n",
       "      <td>1</td>\n",
       "      <td>0</td>\n",
       "    </tr>\n",
       "  </tbody>\n",
       "</table>\n",
       "<p>1172 rows × 20 columns</p>\n",
       "</div>"
      ],
      "text/plain": [
       "        tourney_name surface tourney_level  tourney_date  player_age  \\\n",
       "36750       Mallorca    Clay             A      20020429   15.904175   \n",
       "36763       Mallorca    Clay             A      20020429   15.904175   \n",
       "37358         Bastad    Clay             A      20030707   17.092402   \n",
       "37368         Bastad    Clay             A      20030707   17.092402   \n",
       "37373         Bastad    Clay             A      20030707   17.092402   \n",
       "...              ...     ...           ...           ...         ...   \n",
       "85403  Roland Garros    Clay             G      20210531   34.992471   \n",
       "85410  Roland Garros    Clay             G      20210531   34.992471   \n",
       "85413  Roland Garros    Clay             G      20210531   34.992471   \n",
       "85907     Washington    Hard             A      20210802   35.164956   \n",
       "85915     Washington    Hard             A      20210802   35.164956   \n",
       "\n",
       "                opp_name opp_hand  opp_ht opp_ioc    opp_age  \\\n",
       "36750      Ramon Delgado        R   185.0     PAR  25.453799   \n",
       "36763     Olivier Rochus        R   168.0     BEL  21.275838   \n",
       "37358  Younes El Aynaoui        R   193.0     MAR  31.816564   \n",
       "37368      Albert Portas        R   188.0     ESP  29.639973   \n",
       "37373   Nicolas Lapentti        R   188.0     ECU  26.896646   \n",
       "...                  ...      ...     ...     ...        ...   \n",
       "85403      Jannik Sinner        R   188.0     ITA  19.789185   \n",
       "85410  Diego Schwartzman        R   170.0     ARG  28.788501   \n",
       "85413     Novak Djokovic        R   188.0     SRB  34.026010   \n",
       "85907       Lloyd Harris        R   193.0     RSA  24.435318   \n",
       "85915          Jack Sock        R   185.0     USA  28.854209   \n",
       "\n",
       "                    score  best_of round  minutes  player_rank  \\\n",
       "36750             6-4 6-4        3   R32     83.0        762.0   \n",
       "36763             6-2 6-2        3   R16     62.0        762.0   \n",
       "37358         6-3 4-6 6-3        3   R32    102.0         61.0   \n",
       "37368             6-0 6-4        3   R16     71.0         61.0   \n",
       "37373      3-6 6-3 7-6(6)        3    QF    176.0         61.0   \n",
       "...                   ...      ...   ...      ...          ...   \n",
       "85403         7-5 6-3 6-0        5   R16    137.0          3.0   \n",
       "85410     6-3 4-6 6-4 6-0        5    QF    165.0          3.0   \n",
       "85413  3-6 6-3 7-6(4) 6-2        5    SF    251.0          3.0   \n",
       "85907         6-4 1-6 6-4        3   R16    130.0          3.0   \n",
       "85915      6-2 4-6 7-6(1)        3   R32    184.0          3.0   \n",
       "\n",
       "       player_rank_points  opp_rank  opp_rank_points player_won  consecutive  \n",
       "36750                14.0      81.0            490.0          1            0  \n",
       "36763                14.0      70.0            571.0          0            0  \n",
       "37358               639.0      21.0           1300.0          1            0  \n",
       "37368               639.0      83.0            489.0          1            1  \n",
       "37373               639.0      76.0            530.0          0            0  \n",
       "...                   ...       ...              ...        ...          ...  \n",
       "85403              9630.0      19.0           2500.0          1           10  \n",
       "85410              9630.0      10.0           3465.0          1           11  \n",
       "85413              9630.0       1.0          11313.0          0            0  \n",
       "85907              8270.0      50.0           1303.0          0            0  \n",
       "85915              8270.0     192.0            373.0          1            0  \n",
       "\n",
       "[1172 rows x 20 columns]"
      ]
     },
     "metadata": {},
     "output_type": "display_data"
    },
    {
     "name": "stdout",
     "output_type": "stream",
     "text": [
      "Rafael Nadal has 1172 recorded matches.\n"
     ]
    }
   ],
   "source": [
    "### CLEAN PLAYER MATCHES TABLES ###\n",
    "\n",
    "PLAYER = \"Rafael Nadal\"\n",
    "setup = True\n",
    "\n",
    "if (setup) :    # Creating the table (if the player.csv table currently contains information for another player)\n",
    "\n",
    "    atp = pd.read_csv(\"atp_cat.csv\")\n",
    "\n",
    "    player_won = atp[atp[\"winner_name\"] == PLAYER]\n",
    "    player_lost = atp[atp[\"loser_name\"] == PLAYER]\n",
    "\n",
    "    # We'll drop all of the player's information except his age and rank\n",
    "    player_won = player_won.drop(labels=[\"winner_name\", \"winner_hand\", \"winner_ht\", \"winner_ioc\"], axis=1)\n",
    "    player_won = player_won.rename(columns={\"winner_age\": \"player_age\", \"winner_rank\": \"player_rank\", \"winner_rank_points\": \"player_rank_points\",\n",
    "                                    \"loser_name\":\"opp_name\", \"loser_hand\":\"opp_hand\", \"loser_ht\":\"opp_ht\", \"loser_ioc\":\"opp_ioc\", \"loser_age\":\"opp_age\",\n",
    "                                    \"loser_rank\": \"opp_rank\", \"loser_rank_points\": \"opp_rank_points\"})\n",
    "    player_won[\"index2\"] = player_won.index\n",
    "    player_won[\"player_won\"] = \"1\"\n",
    "\n",
    "    player_lost = player_lost.drop(labels=[\"loser_name\", \"loser_hand\", \"loser_ht\", \"loser_ioc\"], axis=1)\n",
    "    player_lost = player_lost.rename(columns={\"loser_age\": \"player_age\", \"loser_rank\": \"player_rank\", \"loser_rank_points\": \"player_rank_points\",\n",
    "                                        \"winner_name\":\"opp_name\", \"winner_hand\":\"opp_hand\", \"winner_ht\":\"opp_ht\", \"winner_ioc\":\"opp_ioc\", \"winner_age\":\"opp_age\",\n",
    "                                        \"winner_rank\": \"opp_rank\", \"winner_rank_points\": \"opp_rank_points\"})\n",
    "    player_lost[\"index2\"] = player_lost.index\n",
    "    player_lost[\"player_won\"] = \"0\"\n",
    "\n",
    "    player = pd.concat([player_won, player_lost])\n",
    "    player = player.drop([\"Unnamed: 0\", \"index2\"] , axis=1)\n",
    "    player.sort_index(inplace=True)\n",
    "\n",
    "    # Win streaks\n",
    "    result = player.player_won.astype(int)\n",
    "    consecutive = result.groupby((result != result.shift()).cumsum()).cumcount()\n",
    "    wins = pd.DataFrame({\"win\" : result, \"consecutive\" : consecutive})\n",
    "    m = wins.win == 1\n",
    "    wins.consecutive = wins.consecutive.where(m, 0)\n",
    "    player[\"consecutive\"] = wins.consecutive\n",
    "\n",
    "    player.to_csv(\"player.csv\")     # Saving the table for ease of use\n",
    "\n",
    "else :  # player.csv already contains this player's information\n",
    "\n",
    "    player = pd.read_csv(\"player.csv\")\n",
    "\n",
    "display(player)\n",
    "print(f\"{PLAYER} has {len(player)} recorded matches.\")"
   ]
  },
  {
   "cell_type": "markdown",
   "metadata": {},
   "source": [
    "## Regression Decision Tree\n",
    "\n",
    "We will create a decision tree using these features :\n",
    "- Surface  \n",
    "- Best of  \n",
    "- Opponent hand  \n",
    "- Opponent height  \n",
    "- Opponent country  \n",
    "- Ranking difference  \n",
    "- Tournament level  \n",
    "- Match round (QF, SF, F, etc...)\n",
    "- Player form  \n",
    "\n",
    "Some of these features seem irrelevant, and they probably are. However, since we will use GridSearchCV to perform feature selection, we will feed the model all the information we have and let it select what is important (ie. the optimal splits in terms of information gain)."
   ]
  },
  {
   "cell_type": "markdown",
   "metadata": {},
   "source": [
    "### Formatting\n",
    "\n",
    "The \"player.csv\" table contains many unecessary columns. Here, we create a player1 table containing all the features we potentially need for our model and format them correctly. Specifically, we use one-hot encoding to split categorical data into multiple boolean columns."
   ]
  },
  {
   "cell_type": "code",
   "execution_count": 147,
   "metadata": {},
   "outputs": [
    {
     "name": "stderr",
     "output_type": "stream",
     "text": [
      "C:\\Users\\uporito\\Anaconda3\\lib\\site-packages\\ipykernel_launcher.py:2: SettingWithCopyWarning: \n",
      "A value is trying to be set on a copy of a slice from a DataFrame.\n",
      "Try using .loc[row_indexer,col_indexer] = value instead\n",
      "\n",
      "See the caveats in the documentation: https://pandas.pydata.org/pandas-docs/stable/user_guide/indexing.html#returning-a-view-versus-a-copy\n",
      "  \n",
      "C:\\Users\\uporito\\Anaconda3\\lib\\site-packages\\ipykernel_launcher.py:3: SettingWithCopyWarning: \n",
      "A value is trying to be set on a copy of a slice from a DataFrame.\n",
      "Try using .loc[row_indexer,col_indexer] = value instead\n",
      "\n",
      "See the caveats in the documentation: https://pandas.pydata.org/pandas-docs/stable/user_guide/indexing.html#returning-a-view-versus-a-copy\n",
      "  This is separate from the ipykernel package so we can avoid doing imports until\n"
     ]
    },
    {
     "data": {
      "text/html": [
       "<div>\n",
       "<style scoped>\n",
       "    .dataframe tbody tr th:only-of-type {\n",
       "        vertical-align: middle;\n",
       "    }\n",
       "\n",
       "    .dataframe tbody tr th {\n",
       "        vertical-align: top;\n",
       "    }\n",
       "\n",
       "    .dataframe thead th {\n",
       "        text-align: right;\n",
       "    }\n",
       "</style>\n",
       "<table border=\"1\" class=\"dataframe\">\n",
       "  <thead>\n",
       "    <tr style=\"text-align: right;\">\n",
       "      <th></th>\n",
       "      <th>minutes</th>\n",
       "      <th>opp_ht</th>\n",
       "      <th>opp_age</th>\n",
       "      <th>rank_diff</th>\n",
       "      <th>consecutive</th>\n",
       "      <th>surface_Carpet</th>\n",
       "      <th>surface_Clay</th>\n",
       "      <th>surface_Grass</th>\n",
       "      <th>surface_Hard</th>\n",
       "      <th>best_of_3</th>\n",
       "      <th>...</th>\n",
       "      <th>tourney_level_G</th>\n",
       "      <th>tourney_level_M</th>\n",
       "      <th>round_F</th>\n",
       "      <th>round_QF</th>\n",
       "      <th>round_R128</th>\n",
       "      <th>round_R16</th>\n",
       "      <th>round_R32</th>\n",
       "      <th>round_R64</th>\n",
       "      <th>round_RR</th>\n",
       "      <th>round_SF</th>\n",
       "    </tr>\n",
       "  </thead>\n",
       "  <tbody>\n",
       "    <tr>\n",
       "      <th>85403</th>\n",
       "      <td>137.0</td>\n",
       "      <td>188.0</td>\n",
       "      <td>19.789185</td>\n",
       "      <td>-16.0</td>\n",
       "      <td>10</td>\n",
       "      <td>0</td>\n",
       "      <td>1</td>\n",
       "      <td>0</td>\n",
       "      <td>0</td>\n",
       "      <td>0</td>\n",
       "      <td>...</td>\n",
       "      <td>1</td>\n",
       "      <td>0</td>\n",
       "      <td>0</td>\n",
       "      <td>0</td>\n",
       "      <td>0</td>\n",
       "      <td>1</td>\n",
       "      <td>0</td>\n",
       "      <td>0</td>\n",
       "      <td>0</td>\n",
       "      <td>0</td>\n",
       "    </tr>\n",
       "    <tr>\n",
       "      <th>85410</th>\n",
       "      <td>165.0</td>\n",
       "      <td>170.0</td>\n",
       "      <td>28.788501</td>\n",
       "      <td>-7.0</td>\n",
       "      <td>11</td>\n",
       "      <td>0</td>\n",
       "      <td>1</td>\n",
       "      <td>0</td>\n",
       "      <td>0</td>\n",
       "      <td>0</td>\n",
       "      <td>...</td>\n",
       "      <td>1</td>\n",
       "      <td>0</td>\n",
       "      <td>0</td>\n",
       "      <td>1</td>\n",
       "      <td>0</td>\n",
       "      <td>0</td>\n",
       "      <td>0</td>\n",
       "      <td>0</td>\n",
       "      <td>0</td>\n",
       "      <td>0</td>\n",
       "    </tr>\n",
       "    <tr>\n",
       "      <th>85413</th>\n",
       "      <td>251.0</td>\n",
       "      <td>188.0</td>\n",
       "      <td>34.026010</td>\n",
       "      <td>2.0</td>\n",
       "      <td>0</td>\n",
       "      <td>0</td>\n",
       "      <td>1</td>\n",
       "      <td>0</td>\n",
       "      <td>0</td>\n",
       "      <td>0</td>\n",
       "      <td>...</td>\n",
       "      <td>1</td>\n",
       "      <td>0</td>\n",
       "      <td>0</td>\n",
       "      <td>0</td>\n",
       "      <td>0</td>\n",
       "      <td>0</td>\n",
       "      <td>0</td>\n",
       "      <td>0</td>\n",
       "      <td>0</td>\n",
       "      <td>1</td>\n",
       "    </tr>\n",
       "    <tr>\n",
       "      <th>85907</th>\n",
       "      <td>130.0</td>\n",
       "      <td>193.0</td>\n",
       "      <td>24.435318</td>\n",
       "      <td>-47.0</td>\n",
       "      <td>0</td>\n",
       "      <td>0</td>\n",
       "      <td>0</td>\n",
       "      <td>0</td>\n",
       "      <td>1</td>\n",
       "      <td>1</td>\n",
       "      <td>...</td>\n",
       "      <td>0</td>\n",
       "      <td>0</td>\n",
       "      <td>0</td>\n",
       "      <td>0</td>\n",
       "      <td>0</td>\n",
       "      <td>1</td>\n",
       "      <td>0</td>\n",
       "      <td>0</td>\n",
       "      <td>0</td>\n",
       "      <td>0</td>\n",
       "    </tr>\n",
       "    <tr>\n",
       "      <th>85915</th>\n",
       "      <td>184.0</td>\n",
       "      <td>185.0</td>\n",
       "      <td>28.854209</td>\n",
       "      <td>-189.0</td>\n",
       "      <td>0</td>\n",
       "      <td>0</td>\n",
       "      <td>0</td>\n",
       "      <td>0</td>\n",
       "      <td>1</td>\n",
       "      <td>1</td>\n",
       "      <td>...</td>\n",
       "      <td>0</td>\n",
       "      <td>0</td>\n",
       "      <td>0</td>\n",
       "      <td>0</td>\n",
       "      <td>0</td>\n",
       "      <td>0</td>\n",
       "      <td>1</td>\n",
       "      <td>0</td>\n",
       "      <td>0</td>\n",
       "      <td>0</td>\n",
       "    </tr>\n",
       "  </tbody>\n",
       "</table>\n",
       "<p>5 rows × 26 columns</p>\n",
       "</div>"
      ],
      "text/plain": [
       "       minutes  opp_ht    opp_age  rank_diff  consecutive  surface_Carpet  \\\n",
       "85403    137.0   188.0  19.789185      -16.0           10               0   \n",
       "85410    165.0   170.0  28.788501       -7.0           11               0   \n",
       "85413    251.0   188.0  34.026010        2.0            0               0   \n",
       "85907    130.0   193.0  24.435318      -47.0            0               0   \n",
       "85915    184.0   185.0  28.854209     -189.0            0               0   \n",
       "\n",
       "       surface_Clay  surface_Grass  surface_Hard  best_of_3  ...  \\\n",
       "85403             1              0             0          0  ...   \n",
       "85410             1              0             0          0  ...   \n",
       "85413             1              0             0          0  ...   \n",
       "85907             0              0             1          1  ...   \n",
       "85915             0              0             1          1  ...   \n",
       "\n",
       "       tourney_level_G  tourney_level_M  round_F  round_QF  round_R128  \\\n",
       "85403                1                0        0         0           0   \n",
       "85410                1                0        0         1           0   \n",
       "85413                1                0        0         0           0   \n",
       "85907                0                0        0         0           0   \n",
       "85915                0                0        0         0           0   \n",
       "\n",
       "       round_R16  round_R32  round_R64  round_RR  round_SF  \n",
       "85403          1          0          0         0         0  \n",
       "85410          0          0          0         0         0  \n",
       "85413          0          0          0         0         1  \n",
       "85907          1          0          0         0         0  \n",
       "85915          0          1          0         0         0  \n",
       "\n",
       "[5 rows x 26 columns]"
      ]
     },
     "execution_count": 147,
     "metadata": {},
     "output_type": "execute_result"
    }
   ],
   "source": [
    "player1 = player[[\"minutes\", \"surface\", \"best_of\", \"opp_hand\", \"opp_ht\", \"opp_age\", \"tourney_level\", \"round\"]]\n",
    "player1[\"rank_diff\"] = player[\"player_rank\"] - player[\"opp_rank\"]\n",
    "player1[\"consecutive\"] = player[\"consecutive\"]\n",
    "\n",
    "\n",
    "# One-Hot Encoding\n",
    "player1 = pd.get_dummies(data=player1, columns=[\"surface\", \"best_of\", \"opp_hand\", \"tourney_level\", \"round\"])\n",
    "\n",
    "player1 = player1.dropna(axis=0, how='any')\n",
    "\n",
    "player1 = player1.drop([\"round_BR\"] , axis=1)\n",
    "\n",
    "player1.tail(5)"
   ]
  },
  {
   "cell_type": "markdown",
   "metadata": {},
   "source": [
    "### Regression Decision Tree\n"
   ]
  },
  {
   "cell_type": "markdown",
   "metadata": {},
   "source": [
    "\n",
    "#### Pre-processing\n",
    "\n",
    "For pre-processing we have three options :\n",
    "- not scaling x or y\n",
    "- scaling both x and y\n",
    "- scaling x but not y   \n",
    "  \n",
    "I feel like scaling gives us better results but adds a hurdle in interpreting the tree's visualization since it displays scaled values. We can scale both input and output values back, just not display them with sklearns's plot_tree (or any tree visualization that I've found so far). For now, the roundabout solution is just to print out the scaled input and output."
   ]
  },
  {
   "cell_type": "code",
   "execution_count": 148,
   "metadata": {},
   "outputs": [
    {
     "data": {
      "text/html": [
       "<div>\n",
       "<style scoped>\n",
       "    .dataframe tbody tr th:only-of-type {\n",
       "        vertical-align: middle;\n",
       "    }\n",
       "\n",
       "    .dataframe tbody tr th {\n",
       "        vertical-align: top;\n",
       "    }\n",
       "\n",
       "    .dataframe thead th {\n",
       "        text-align: right;\n",
       "    }\n",
       "</style>\n",
       "<table border=\"1\" class=\"dataframe\">\n",
       "  <thead>\n",
       "    <tr style=\"text-align: right;\">\n",
       "      <th></th>\n",
       "      <th>opp_ht</th>\n",
       "      <th>opp_age</th>\n",
       "      <th>rank_diff</th>\n",
       "      <th>consecutive</th>\n",
       "      <th>surface_Carpet</th>\n",
       "      <th>surface_Clay</th>\n",
       "      <th>surface_Grass</th>\n",
       "      <th>surface_Hard</th>\n",
       "      <th>best_of_3</th>\n",
       "      <th>best_of_5</th>\n",
       "      <th>...</th>\n",
       "      <th>tourney_level_G</th>\n",
       "      <th>tourney_level_M</th>\n",
       "      <th>round_F</th>\n",
       "      <th>round_QF</th>\n",
       "      <th>round_R128</th>\n",
       "      <th>round_R16</th>\n",
       "      <th>round_R32</th>\n",
       "      <th>round_R64</th>\n",
       "      <th>round_RR</th>\n",
       "      <th>round_SF</th>\n",
       "    </tr>\n",
       "  </thead>\n",
       "  <tbody>\n",
       "    <tr>\n",
       "      <th>36750</th>\n",
       "      <td>185.0</td>\n",
       "      <td>25.453799</td>\n",
       "      <td>681.0</td>\n",
       "      <td>0</td>\n",
       "      <td>0</td>\n",
       "      <td>1</td>\n",
       "      <td>0</td>\n",
       "      <td>0</td>\n",
       "      <td>1</td>\n",
       "      <td>0</td>\n",
       "      <td>...</td>\n",
       "      <td>0</td>\n",
       "      <td>0</td>\n",
       "      <td>0</td>\n",
       "      <td>0</td>\n",
       "      <td>0</td>\n",
       "      <td>0</td>\n",
       "      <td>1</td>\n",
       "      <td>0</td>\n",
       "      <td>0</td>\n",
       "      <td>0</td>\n",
       "    </tr>\n",
       "    <tr>\n",
       "      <th>36763</th>\n",
       "      <td>168.0</td>\n",
       "      <td>21.275838</td>\n",
       "      <td>692.0</td>\n",
       "      <td>0</td>\n",
       "      <td>0</td>\n",
       "      <td>1</td>\n",
       "      <td>0</td>\n",
       "      <td>0</td>\n",
       "      <td>1</td>\n",
       "      <td>0</td>\n",
       "      <td>...</td>\n",
       "      <td>0</td>\n",
       "      <td>0</td>\n",
       "      <td>0</td>\n",
       "      <td>0</td>\n",
       "      <td>0</td>\n",
       "      <td>1</td>\n",
       "      <td>0</td>\n",
       "      <td>0</td>\n",
       "      <td>0</td>\n",
       "      <td>0</td>\n",
       "    </tr>\n",
       "    <tr>\n",
       "      <th>37358</th>\n",
       "      <td>193.0</td>\n",
       "      <td>31.816564</td>\n",
       "      <td>40.0</td>\n",
       "      <td>0</td>\n",
       "      <td>0</td>\n",
       "      <td>1</td>\n",
       "      <td>0</td>\n",
       "      <td>0</td>\n",
       "      <td>1</td>\n",
       "      <td>0</td>\n",
       "      <td>...</td>\n",
       "      <td>0</td>\n",
       "      <td>0</td>\n",
       "      <td>0</td>\n",
       "      <td>0</td>\n",
       "      <td>0</td>\n",
       "      <td>0</td>\n",
       "      <td>1</td>\n",
       "      <td>0</td>\n",
       "      <td>0</td>\n",
       "      <td>0</td>\n",
       "    </tr>\n",
       "    <tr>\n",
       "      <th>37368</th>\n",
       "      <td>188.0</td>\n",
       "      <td>29.639973</td>\n",
       "      <td>-22.0</td>\n",
       "      <td>1</td>\n",
       "      <td>0</td>\n",
       "      <td>1</td>\n",
       "      <td>0</td>\n",
       "      <td>0</td>\n",
       "      <td>1</td>\n",
       "      <td>0</td>\n",
       "      <td>...</td>\n",
       "      <td>0</td>\n",
       "      <td>0</td>\n",
       "      <td>0</td>\n",
       "      <td>0</td>\n",
       "      <td>0</td>\n",
       "      <td>1</td>\n",
       "      <td>0</td>\n",
       "      <td>0</td>\n",
       "      <td>0</td>\n",
       "      <td>0</td>\n",
       "    </tr>\n",
       "    <tr>\n",
       "      <th>37373</th>\n",
       "      <td>188.0</td>\n",
       "      <td>26.896646</td>\n",
       "      <td>-15.0</td>\n",
       "      <td>0</td>\n",
       "      <td>0</td>\n",
       "      <td>1</td>\n",
       "      <td>0</td>\n",
       "      <td>0</td>\n",
       "      <td>1</td>\n",
       "      <td>0</td>\n",
       "      <td>...</td>\n",
       "      <td>0</td>\n",
       "      <td>0</td>\n",
       "      <td>0</td>\n",
       "      <td>1</td>\n",
       "      <td>0</td>\n",
       "      <td>0</td>\n",
       "      <td>0</td>\n",
       "      <td>0</td>\n",
       "      <td>0</td>\n",
       "      <td>0</td>\n",
       "    </tr>\n",
       "  </tbody>\n",
       "</table>\n",
       "<p>5 rows × 25 columns</p>\n",
       "</div>"
      ],
      "text/plain": [
       "       opp_ht    opp_age  rank_diff  consecutive  surface_Carpet  \\\n",
       "36750   185.0  25.453799      681.0            0               0   \n",
       "36763   168.0  21.275838      692.0            0               0   \n",
       "37358   193.0  31.816564       40.0            0               0   \n",
       "37368   188.0  29.639973      -22.0            1               0   \n",
       "37373   188.0  26.896646      -15.0            0               0   \n",
       "\n",
       "       surface_Clay  surface_Grass  surface_Hard  best_of_3  best_of_5  ...  \\\n",
       "36750             1              0             0          1          0  ...   \n",
       "36763             1              0             0          1          0  ...   \n",
       "37358             1              0             0          1          0  ...   \n",
       "37368             1              0             0          1          0  ...   \n",
       "37373             1              0             0          1          0  ...   \n",
       "\n",
       "       tourney_level_G  tourney_level_M  round_F  round_QF  round_R128  \\\n",
       "36750                0                0        0         0           0   \n",
       "36763                0                0        0         0           0   \n",
       "37358                0                0        0         0           0   \n",
       "37368                0                0        0         0           0   \n",
       "37373                0                0        0         1           0   \n",
       "\n",
       "       round_R16  round_R32  round_R64  round_RR  round_SF  \n",
       "36750          0          1          0         0         0  \n",
       "36763          1          0          0         0         0  \n",
       "37358          0          1          0         0         0  \n",
       "37368          1          0          0         0         0  \n",
       "37373          0          0          0         0         0  \n",
       "\n",
       "[5 rows x 25 columns]"
      ]
     },
     "metadata": {},
     "output_type": "display_data"
    },
    {
     "data": {
      "text/html": [
       "<div>\n",
       "<style scoped>\n",
       "    .dataframe tbody tr th:only-of-type {\n",
       "        vertical-align: middle;\n",
       "    }\n",
       "\n",
       "    .dataframe tbody tr th {\n",
       "        vertical-align: top;\n",
       "    }\n",
       "\n",
       "    .dataframe thead th {\n",
       "        text-align: right;\n",
       "    }\n",
       "</style>\n",
       "<table border=\"1\" class=\"dataframe\">\n",
       "  <thead>\n",
       "    <tr style=\"text-align: right;\">\n",
       "      <th></th>\n",
       "      <th>0</th>\n",
       "    </tr>\n",
       "  </thead>\n",
       "  <tbody>\n",
       "    <tr>\n",
       "      <th>0</th>\n",
       "      <td>83.0</td>\n",
       "    </tr>\n",
       "    <tr>\n",
       "      <th>1</th>\n",
       "      <td>62.0</td>\n",
       "    </tr>\n",
       "    <tr>\n",
       "      <th>2</th>\n",
       "      <td>102.0</td>\n",
       "    </tr>\n",
       "    <tr>\n",
       "      <th>3</th>\n",
       "      <td>71.0</td>\n",
       "    </tr>\n",
       "    <tr>\n",
       "      <th>4</th>\n",
       "      <td>176.0</td>\n",
       "    </tr>\n",
       "  </tbody>\n",
       "</table>\n",
       "</div>"
      ],
      "text/plain": [
       "       0\n",
       "0   83.0\n",
       "1   62.0\n",
       "2  102.0\n",
       "3   71.0\n",
       "4  176.0"
      ]
     },
     "metadata": {},
     "output_type": "display_data"
    }
   ],
   "source": [
    "### PRE-PROCESSING ###\n",
    "\n",
    "from sklearn import tree\n",
    "from sklearn.tree import DecisionTreeRegressor\n",
    "from sklearn.metrics import mean_squared_error\n",
    "from sklearn import model_selection\n",
    "from sklearn.model_selection import train_test_split\n",
    "from sklearn.preprocessing import StandardScaler\n",
    "\n",
    "target='minutes'\n",
    "\n",
    "scale_x = False\n",
    "scale_y = False\n",
    "\n",
    "def preprocessing(scale_x=False, scale_y=False) :\n",
    "\n",
    "    # 1. X, y unscaled\n",
    "    X = player1.drop([target], axis=1)\n",
    "    y = np.asarray(player1[target])\n",
    "    y = y.reshape(-1,1)\n",
    "\n",
    "    xscaler = StandardScaler()\n",
    "    yscaler = StandardScaler()\n",
    "\n",
    "    if (scale_x) :\n",
    "        print(\"Scaling X...\")\n",
    "        xscaler.fit(X[['opp_ht', 'opp_age', 'rank_diff']])\n",
    "        X[['opp_ht', 'opp_age', 'rank_diff']] = xscaler.transform(X[['opp_ht', 'opp_age', 'rank_diff']])\n",
    "\n",
    "    if (scale_y) :\n",
    "        print(\"Scaling y...\")\n",
    "        yscaler.fit(y)\n",
    "        y = yscaler.transform(y)\n",
    "\n",
    "    display(pd.DataFrame(X).head())\n",
    "    display(pd.DataFrame(y).head())\n",
    "\n",
    "    return X, y, xscaler, yscaler\n",
    "\n",
    "X, y, xscaler, yscaler = preprocessing(scale_x, scale_y)"
   ]
  },
  {
   "cell_type": "markdown",
   "metadata": {},
   "source": [
    "#### Building the tree\n",
    "\n",
    "To build a good tree, we need to select values for the tree's parameters (e.g. max depth, minimum samples per leaf). We'll perform this \"Hyperparameter Tuning\" using GridSearchCV, a library which selects the best tree by trying every combination of parameters we give it and performing a cross validation. The trees are commpared based on the R² criteria.  \n",
    "  \n",
    "![score formula](res/score.png \"sklearn score\")  "
   ]
  },
  {
   "cell_type": "code",
   "execution_count": 149,
   "metadata": {},
   "outputs": [],
   "source": [
    "### PARAMETER SELECTION ###\n",
    "\n",
    "from sklearn.model_selection import GridSearchCV\n",
    "\n",
    "params = {\n",
    "    # \"criterion\":(\"squared_error\", \"friedman_mse\", \"absolute_error\", \"poisson\"), \n",
    "    \"max_depth\":np.arange(3, 10), \n",
    "    \"min_samples_leaf\":np.arange(1, 80), \n",
    "    # \"min_weight_fraction_leaf\":[0.5, 0.4, 0.3, 0.2, 0.1, 0.05, 0.075, 0.001], \n",
    "    # \"max_features\":np.arange(1, 25)\n",
    "}\n",
    "\n",
    "dtr = DecisionTreeRegressor(random_state=42)\n",
    "dtr_cv = GridSearchCV(dtr, params, scoring=\"r2\", n_jobs=-1, verbose=1, cv=10)"
   ]
  },
  {
   "cell_type": "code",
   "execution_count": 150,
   "metadata": {},
   "outputs": [],
   "source": [
    "### CUSTOM PREDICTION ###\n",
    "\n",
    "def custom_predict(dtr, scale_x, scale_y, height, age, rank_diff, consecutive, surface, best_of, hand, level, round) :\n",
    "    # returns the predicted length of a match given a set of match conditions\n",
    "\n",
    "    # surface : carpet(1), clay(2), grass(3), hard(4)\n",
    "    # best of : 3(1), 5(2)\n",
    "    # hand : left(1), right(2)\n",
    "    # level : A(1), D(2), F(3), G(4), M(5)\n",
    "    # round : F(1), QF(2), R128(3), R16(4), R32(5), R64(6), R(7), SF(8)\n",
    "\n",
    "    surface_input = [0, 0, 0, 0]\n",
    "    surface_input[surface - 1] = 1\n",
    "\n",
    "    bo_input = [0, 0]\n",
    "    bo_input[best_of - 1] = 1\n",
    "\n",
    "    hand_input = [0, 0]\n",
    "    hand_input[hand - 1] = 1\n",
    "\n",
    "    level_input = [0, 0, 0, 0, 0]\n",
    "    level_input[level - 1] = 1\n",
    "\n",
    "    round_input = [0, 0, 0, 0, 0, 0, 0, 0]\n",
    "    round_input[round - 1] = 1\n",
    "\n",
    "    if (not scale_x and not scale_y) :  # 1. X, y unscaled\n",
    "        input = [height, age, rank_diff] + [consecutive] + surface_input + bo_input + hand_input + level_input + round_input\n",
    "        print(\"Input : \", input)\n",
    "\n",
    "        input = [input]\n",
    "\n",
    "        print(\"Prediction : \", dtr.predict(input), \" minutes\")\n",
    "\n",
    "    # input = [180, 0, 0, 0, 1, 0, 0, 0, 1]\n",
    "\n",
    "    elif (scale_x and scale_y) :    # 2. X, y scaled\n",
    "        input = xscaler.transform([[height, age, rank_diff]])\n",
    "        input = np.append(input[0], consecutive, surface_input + bo_input + hand_input + level_input + round_input)\n",
    "        print(\"Scaled input : \", input)\n",
    "\n",
    "        input = [input]\n",
    "\n",
    "        print(\"Scaled Prediction : \", dtr.predict(input), \" minutes\")\n",
    "        print(\"Prediction : \", yscaler.inverse_transform(dtr.predict(input)), \" minutes\")\n",
    "\n",
    "    elif (scale_x and not scale_y) :    # 3. X scaled, y unscaled\n",
    "        input = xscaler.transform([[height, age, rank_diff]]).tolist()\n",
    "        input = np.append(input[0], [consecutive] + surface_input + bo_input + hand_input + level_input + round_input)\n",
    "        print(\"Scaled input : \", input)\n",
    "        \n",
    "        input = [input]\n",
    "\n",
    "        print(\"Prediction : \", dtr.predict(input)[0], \" minutes\")\n",
    "\n",
    "    return(dtr.predict(input)[0])\n",
    "\n",
    "# e.g. prediction = predict(scale_x, scale_y, 180, 22, 0, 0, 4, 1, 2, 4, 5)"
   ]
  },
  {
   "cell_type": "code",
   "execution_count": 155,
   "metadata": {},
   "outputs": [
    {
     "name": "stdout",
     "output_type": "stream",
     "text": [
      "Fitting 10 folds for each of 553 candidates, totalling 5530 fits\n"
     ]
    },
    {
     "name": "stderr",
     "output_type": "stream",
     "text": [
      "[Parallel(n_jobs=-1)]: Using backend LokyBackend with 8 concurrent workers.\n",
      "[Parallel(n_jobs=-1)]: Done  56 tasks      | elapsed:    0.2s\n",
      "[Parallel(n_jobs=-1)]: Done 2160 tasks      | elapsed:    3.8s\n",
      "[Parallel(n_jobs=-1)]: Done 5530 out of 5530 | elapsed:    9.5s finished\n",
      "[Parallel(n_jobs=-1)]: Using backend LokyBackend with 8 concurrent workers.\n"
     ]
    },
    {
     "name": "stdout",
     "output_type": "stream",
     "text": [
      "Best parameters: {'max_depth': 3, 'min_samples_leaf': 43})\n",
      "Training score 1 :  0.34202224457332153\n",
      "Testing score 1 :  0.31064023853769496\n",
      "Input :  [188, 22.76, -89, 2, 0, 0, 0, 1, 1, 0, 0, 1, 1, 0, 0, 0, 0, 0, 0, 0, 0, 0, 0, 0, 1]\n",
      "Prediction :  [97.43518519]  minutes\n",
      "Fitting 10 folds for each of 553 candidates, totalling 5530 fits\n"
     ]
    },
    {
     "name": "stderr",
     "output_type": "stream",
     "text": [
      "[Parallel(n_jobs=-1)]: Done  56 tasks      | elapsed:    0.2s\n",
      "[Parallel(n_jobs=-1)]: Done 2096 tasks      | elapsed:    3.6s\n",
      "[Parallel(n_jobs=-1)]: Done 5466 tasks      | elapsed:    9.2s\n",
      "[Parallel(n_jobs=-1)]: Done 5530 out of 5530 | elapsed:    9.3s finished\n"
     ]
    },
    {
     "name": "stdout",
     "output_type": "stream",
     "text": [
      "Best parameters: {'max_depth': 4, 'min_samples_leaf': 77})\n",
      "Training score 2 :  0.3354005488675257\n",
      "Testing score 2 :  0.28713715026388764\n",
      "Input :  [188, 22.76, -89, 2, 0, 0, 0, 1, 1, 0, 0, 1, 1, 0, 0, 0, 0, 0, 0, 0, 0, 0, 0, 0, 1]\n",
      "Prediction :  [98.34259259]  minutes\n",
      "Fitting 10 folds for each of 553 candidates, totalling 5530 fits\n"
     ]
    },
    {
     "name": "stderr",
     "output_type": "stream",
     "text": [
      "[Parallel(n_jobs=-1)]: Using backend LokyBackend with 8 concurrent workers.\n",
      "[Parallel(n_jobs=-1)]: Done  56 tasks      | elapsed:    0.2s\n",
      "[Parallel(n_jobs=-1)]: Done 2160 tasks      | elapsed:    3.5s\n",
      "[Parallel(n_jobs=-1)]: Done 5530 out of 5530 | elapsed:    8.8s finished\n",
      "[Parallel(n_jobs=-1)]: Using backend LokyBackend with 8 concurrent workers.\n"
     ]
    },
    {
     "name": "stdout",
     "output_type": "stream",
     "text": [
      "Best parameters: {'max_depth': 3, 'min_samples_leaf': 37})\n",
      "Training score 3 :  0.36754705325015313\n",
      "Testing score 3 :  0.28791997136537306\n",
      "Input :  [188, 22.76, -89, 2, 0, 0, 0, 1, 1, 0, 0, 1, 1, 0, 0, 0, 0, 0, 0, 0, 0, 0, 0, 0, 1]\n",
      "Prediction :  [97.88888889]  minutes\n",
      "Fitting 10 folds for each of 553 candidates, totalling 5530 fits\n"
     ]
    },
    {
     "name": "stderr",
     "output_type": "stream",
     "text": [
      "[Parallel(n_jobs=-1)]: Done  56 tasks      | elapsed:    0.1s\n",
      "[Parallel(n_jobs=-1)]: Done 2160 tasks      | elapsed:    3.5s\n",
      "[Parallel(n_jobs=-1)]: Done 5530 out of 5530 | elapsed:    8.8s finished\n",
      "[Parallel(n_jobs=-1)]: Using backend LokyBackend with 8 concurrent workers.\n"
     ]
    },
    {
     "name": "stdout",
     "output_type": "stream",
     "text": [
      "Best parameters: {'max_depth': 5, 'min_samples_leaf': 53})\n",
      "Training score 4 :  0.3525232878180984\n",
      "Testing score 4 :  0.29825858640550007\n",
      "Input :  [188, 22.76, -89, 2, 0, 0, 0, 1, 1, 0, 0, 1, 1, 0, 0, 0, 0, 0, 0, 0, 0, 0, 0, 0, 1]\n",
      "Prediction :  [103.33333333]  minutes\n",
      "Fitting 10 folds for each of 553 candidates, totalling 5530 fits\n"
     ]
    },
    {
     "name": "stderr",
     "output_type": "stream",
     "text": [
      "[Parallel(n_jobs=-1)]: Done  56 tasks      | elapsed:    0.2s\n",
      "[Parallel(n_jobs=-1)]: Done 2160 tasks      | elapsed:    3.6s\n",
      "[Parallel(n_jobs=-1)]: Done 5530 out of 5530 | elapsed:    9.1s finished\n",
      "[Parallel(n_jobs=-1)]: Using backend LokyBackend with 8 concurrent workers.\n"
     ]
    },
    {
     "name": "stdout",
     "output_type": "stream",
     "text": [
      "Best parameters: {'max_depth': 3, 'min_samples_leaf': 58})\n",
      "Training score 5 :  0.33309863781616234\n",
      "Testing score 5 :  0.3110130771935833\n",
      "Input :  [188, 22.76, -89, 2, 0, 0, 0, 1, 1, 0, 0, 1, 1, 0, 0, 0, 0, 0, 0, 0, 0, 0, 0, 0, 1]\n",
      "Prediction :  [97.17821782]  minutes\n",
      "Fitting 10 folds for each of 553 candidates, totalling 5530 fits\n"
     ]
    },
    {
     "name": "stderr",
     "output_type": "stream",
     "text": [
      "[Parallel(n_jobs=-1)]: Done  56 tasks      | elapsed:    0.2s\n",
      "[Parallel(n_jobs=-1)]: Done 2160 tasks      | elapsed:    3.9s\n",
      "[Parallel(n_jobs=-1)]: Done 5530 out of 5530 | elapsed:    9.2s finished\n",
      "[Parallel(n_jobs=-1)]: Using backend LokyBackend with 8 concurrent workers.\n"
     ]
    },
    {
     "name": "stdout",
     "output_type": "stream",
     "text": [
      "Best parameters: {'max_depth': 3, 'min_samples_leaf': 46})\n",
      "Training score 6 :  0.35847668063176974\n",
      "Testing score 6 :  0.27601262954145267\n",
      "Input :  [188, 22.76, -89, 2, 0, 0, 0, 1, 1, 0, 0, 1, 1, 0, 0, 0, 0, 0, 0, 0, 0, 0, 0, 0, 1]\n",
      "Prediction :  [96.45528455]  minutes\n",
      "Fitting 10 folds for each of 553 candidates, totalling 5530 fits\n"
     ]
    },
    {
     "name": "stderr",
     "output_type": "stream",
     "text": [
      "[Parallel(n_jobs=-1)]: Done  56 tasks      | elapsed:    0.2s\n",
      "[Parallel(n_jobs=-1)]: Done 2160 tasks      | elapsed:    3.6s\n",
      "[Parallel(n_jobs=-1)]: Done 5530 out of 5530 | elapsed:    8.9s finished\n",
      "[Parallel(n_jobs=-1)]: Using backend LokyBackend with 8 concurrent workers.\n"
     ]
    },
    {
     "name": "stdout",
     "output_type": "stream",
     "text": [
      "Best parameters: {'max_depth': 3, 'min_samples_leaf': 52})\n",
      "Training score 7 :  0.3383654325886465\n",
      "Testing score 7 :  0.3262829024417805\n",
      "Input :  [188, 22.76, -89, 2, 0, 0, 0, 1, 1, 0, 0, 1, 1, 0, 0, 0, 0, 0, 0, 0, 0, 0, 0, 0, 1]\n",
      "Prediction :  [102.26666667]  minutes\n",
      "Fitting 10 folds for each of 553 candidates, totalling 5530 fits\n"
     ]
    },
    {
     "name": "stderr",
     "output_type": "stream",
     "text": [
      "[Parallel(n_jobs=-1)]: Done  56 tasks      | elapsed:    0.1s\n",
      "[Parallel(n_jobs=-1)]: Done 2160 tasks      | elapsed:    3.6s\n",
      "[Parallel(n_jobs=-1)]: Done 5530 out of 5530 | elapsed:   10.2s finished\n",
      "[Parallel(n_jobs=-1)]: Using backend LokyBackend with 8 concurrent workers.\n"
     ]
    },
    {
     "name": "stdout",
     "output_type": "stream",
     "text": [
      "Best parameters: {'max_depth': 4, 'min_samples_leaf': 79})\n",
      "Training score 8 :  0.3290390506232824\n",
      "Testing score 8 :  0.3283903988305875\n",
      "Input :  [188, 22.76, -89, 2, 0, 0, 0, 1, 1, 0, 0, 1, 1, 0, 0, 0, 0, 0, 0, 0, 0, 0, 0, 0, 1]\n",
      "Prediction :  [96.76271186]  minutes\n",
      "Fitting 10 folds for each of 553 candidates, totalling 5530 fits\n"
     ]
    },
    {
     "name": "stderr",
     "output_type": "stream",
     "text": [
      "[Parallel(n_jobs=-1)]: Done  56 tasks      | elapsed:    0.2s\n",
      "[Parallel(n_jobs=-1)]: Done 2160 tasks      | elapsed:    4.6s\n",
      "[Parallel(n_jobs=-1)]: Done 5530 out of 5530 | elapsed:   10.7s finished\n",
      "[Parallel(n_jobs=-1)]: Using backend LokyBackend with 8 concurrent workers.\n"
     ]
    },
    {
     "name": "stdout",
     "output_type": "stream",
     "text": [
      "Best parameters: {'max_depth': 4, 'min_samples_leaf': 37})\n",
      "Training score 9 :  0.4039050476790509\n",
      "Testing score 9 :  0.1912187274182281\n",
      "Input :  [188, 22.76, -89, 2, 0, 0, 0, 1, 1, 0, 0, 1, 1, 0, 0, 0, 0, 0, 0, 0, 0, 0, 0, 0, 1]\n",
      "Prediction :  [105.11637931]  minutes\n",
      "Fitting 10 folds for each of 553 candidates, totalling 5530 fits\n"
     ]
    },
    {
     "name": "stderr",
     "output_type": "stream",
     "text": [
      "[Parallel(n_jobs=-1)]: Done  56 tasks      | elapsed:    0.2s\n",
      "[Parallel(n_jobs=-1)]: Done 2160 tasks      | elapsed:    4.2s\n",
      "[Parallel(n_jobs=-1)]: Done 5530 out of 5530 | elapsed:   10.3s finished\n",
      "[Parallel(n_jobs=-1)]: Using backend LokyBackend with 8 concurrent workers.\n"
     ]
    },
    {
     "name": "stdout",
     "output_type": "stream",
     "text": [
      "Best parameters: {'max_depth': 4, 'min_samples_leaf': 30})\n",
      "Training score 10 :  0.404652660662259\n",
      "Testing score 10 :  0.18117262280592805\n",
      "Input :  [188, 22.76, -89, 2, 0, 0, 0, 1, 1, 0, 0, 1, 1, 0, 0, 0, 0, 0, 0, 0, 0, 0, 0, 0, 1]\n",
      "Prediction :  [104.63636364]  minutes\n",
      "Fitting 10 folds for each of 553 candidates, totalling 5530 fits\n"
     ]
    },
    {
     "name": "stderr",
     "output_type": "stream",
     "text": [
      "[Parallel(n_jobs=-1)]: Done  56 tasks      | elapsed:    0.2s\n",
      "[Parallel(n_jobs=-1)]: Done 2160 tasks      | elapsed:    4.8s\n",
      "[Parallel(n_jobs=-1)]: Done 5530 out of 5530 | elapsed:   11.7s finished\n",
      "[Parallel(n_jobs=-1)]: Using backend LokyBackend with 8 concurrent workers.\n"
     ]
    },
    {
     "name": "stdout",
     "output_type": "stream",
     "text": [
      "Best parameters: {'max_depth': 3, 'min_samples_leaf': 57})\n",
      "Training score 11 :  0.34207275225158007\n",
      "Testing score 11 :  0.32502391130775987\n",
      "Input :  [188, 22.76, -89, 2, 0, 0, 0, 1, 1, 0, 0, 1, 1, 0, 0, 0, 0, 0, 0, 0, 0, 0, 0, 0, 1]\n",
      "Prediction :  [101.70454545]  minutes\n",
      "Fitting 10 folds for each of 553 candidates, totalling 5530 fits\n"
     ]
    },
    {
     "name": "stderr",
     "output_type": "stream",
     "text": [
      "[Parallel(n_jobs=-1)]: Done  56 tasks      | elapsed:    0.2s\n",
      "[Parallel(n_jobs=-1)]: Done 2160 tasks      | elapsed:    4.0s\n",
      "[Parallel(n_jobs=-1)]: Done 5530 out of 5530 | elapsed:    9.9s finished\n",
      "[Parallel(n_jobs=-1)]: Using backend LokyBackend with 8 concurrent workers.\n"
     ]
    },
    {
     "name": "stdout",
     "output_type": "stream",
     "text": [
      "Best parameters: {'max_depth': 3, 'min_samples_leaf': 79})\n",
      "Training score 12 :  0.32315485170201397\n",
      "Testing score 12 :  0.32265775552764564\n",
      "Input :  [188, 22.76, -89, 2, 0, 0, 0, 1, 1, 0, 0, 1, 1, 0, 0, 0, 0, 0, 0, 0, 0, 0, 0, 0, 1]\n",
      "Prediction :  [103.32738095]  minutes\n",
      "Fitting 10 folds for each of 553 candidates, totalling 5530 fits\n"
     ]
    },
    {
     "name": "stderr",
     "output_type": "stream",
     "text": [
      "[Parallel(n_jobs=-1)]: Done  56 tasks      | elapsed:    0.2s\n",
      "[Parallel(n_jobs=-1)]: Done 2160 tasks      | elapsed:    3.9s\n",
      "[Parallel(n_jobs=-1)]: Done 5530 out of 5530 | elapsed:    9.7s finished\n",
      "[Parallel(n_jobs=-1)]: Using backend LokyBackend with 8 concurrent workers.\n"
     ]
    },
    {
     "name": "stdout",
     "output_type": "stream",
     "text": [
      "Best parameters: {'max_depth': 3, 'min_samples_leaf': 44})\n",
      "Training score 13 :  0.365203469614913\n",
      "Testing score 13 :  0.2673962705963766\n",
      "Input :  [188, 22.76, -89, 2, 0, 0, 0, 1, 1, 0, 0, 1, 1, 0, 0, 0, 0, 0, 0, 0, 0, 0, 0, 0, 1]\n",
      "Prediction :  [96.47058824]  minutes\n",
      "Fitting 10 folds for each of 553 candidates, totalling 5530 fits\n"
     ]
    },
    {
     "name": "stderr",
     "output_type": "stream",
     "text": [
      "[Parallel(n_jobs=-1)]: Done  56 tasks      | elapsed:    0.2s\n",
      "[Parallel(n_jobs=-1)]: Done 2160 tasks      | elapsed:    4.0s\n",
      "[Parallel(n_jobs=-1)]: Done 5530 out of 5530 | elapsed:    9.7s finished\n",
      "[Parallel(n_jobs=-1)]: Using backend LokyBackend with 8 concurrent workers.\n"
     ]
    },
    {
     "name": "stdout",
     "output_type": "stream",
     "text": [
      "Best parameters: {'max_depth': 3, 'min_samples_leaf': 66})\n",
      "Training score 14 :  0.3416333540517582\n",
      "Testing score 14 :  0.28086167095022496\n",
      "Input :  [188, 22.76, -89, 2, 0, 0, 0, 1, 1, 0, 0, 1, 1, 0, 0, 0, 0, 0, 0, 0, 0, 0, 0, 0, 1]\n",
      "Prediction :  [93.7755102]  minutes\n",
      "Fitting 10 folds for each of 553 candidates, totalling 5530 fits\n"
     ]
    },
    {
     "name": "stderr",
     "output_type": "stream",
     "text": [
      "[Parallel(n_jobs=-1)]: Done  56 tasks      | elapsed:    0.2s\n",
      "[Parallel(n_jobs=-1)]: Done 2160 tasks      | elapsed:    3.9s\n",
      "[Parallel(n_jobs=-1)]: Done 5530 out of 5530 | elapsed:    9.2s finished\n",
      "[Parallel(n_jobs=-1)]: Using backend LokyBackend with 8 concurrent workers.\n"
     ]
    },
    {
     "name": "stdout",
     "output_type": "stream",
     "text": [
      "Best parameters: {'max_depth': 4, 'min_samples_leaf': 60})\n",
      "Training score 15 :  0.3575966154878385\n",
      "Testing score 15 :  0.2923512186149225\n",
      "Input :  [188, 22.76, -89, 2, 0, 0, 0, 1, 1, 0, 0, 1, 1, 0, 0, 0, 0, 0, 0, 0, 0, 0, 0, 0, 1]\n",
      "Prediction :  [96.45205479]  minutes\n",
      "Fitting 10 folds for each of 553 candidates, totalling 5530 fits\n"
     ]
    },
    {
     "name": "stderr",
     "output_type": "stream",
     "text": [
      "[Parallel(n_jobs=-1)]: Done  56 tasks      | elapsed:    0.1s\n",
      "[Parallel(n_jobs=-1)]: Done 3824 tasks      | elapsed:    5.9s\n",
      "[Parallel(n_jobs=-1)]: Done 5530 out of 5530 | elapsed:    8.3s finished\n",
      "[Parallel(n_jobs=-1)]: Using backend LokyBackend with 8 concurrent workers.\n"
     ]
    },
    {
     "name": "stdout",
     "output_type": "stream",
     "text": [
      "Best parameters: {'max_depth': 3, 'min_samples_leaf': 38})\n",
      "Training score 16 :  0.3449659100129785\n",
      "Testing score 16 :  0.3436992503583953\n",
      "Input :  [188, 22.76, -89, 2, 0, 0, 0, 1, 1, 0, 0, 1, 1, 0, 0, 0, 0, 0, 0, 0, 0, 0, 0, 0, 1]\n",
      "Prediction :  [99.07291667]  minutes\n",
      "Fitting 10 folds for each of 553 candidates, totalling 5530 fits\n"
     ]
    },
    {
     "name": "stderr",
     "output_type": "stream",
     "text": [
      "[Parallel(n_jobs=-1)]: Done  56 tasks      | elapsed:    0.1s\n",
      "[Parallel(n_jobs=-1)]: Done 2160 tasks      | elapsed:    3.5s\n",
      "[Parallel(n_jobs=-1)]: Done 5530 out of 5530 | elapsed:   10.0s finished\n",
      "[Parallel(n_jobs=-1)]: Using backend LokyBackend with 8 concurrent workers.\n"
     ]
    },
    {
     "name": "stdout",
     "output_type": "stream",
     "text": [
      "Best parameters: {'max_depth': 4, 'min_samples_leaf': 73})\n",
      "Training score 17 :  0.34870805161384455\n",
      "Testing score 17 :  0.2923054108438824\n",
      "Input :  [188, 22.76, -89, 2, 0, 0, 0, 1, 1, 0, 0, 1, 1, 0, 0, 0, 0, 0, 0, 0, 0, 0, 0, 0, 1]\n",
      "Prediction :  [113.2875]  minutes\n",
      "Fitting 10 folds for each of 553 candidates, totalling 5530 fits\n"
     ]
    },
    {
     "name": "stderr",
     "output_type": "stream",
     "text": [
      "[Parallel(n_jobs=-1)]: Done  56 tasks      | elapsed:    0.2s\n",
      "[Parallel(n_jobs=-1)]: Done 2160 tasks      | elapsed:    4.4s\n",
      "[Parallel(n_jobs=-1)]: Done 5530 out of 5530 | elapsed:   10.6s finished\n",
      "[Parallel(n_jobs=-1)]: Using backend LokyBackend with 8 concurrent workers.\n"
     ]
    },
    {
     "name": "stdout",
     "output_type": "stream",
     "text": [
      "Best parameters: {'max_depth': 3, 'min_samples_leaf': 41})\n",
      "Training score 18 :  0.35475696588957417\n",
      "Testing score 18 :  0.29296279832658556\n",
      "Input :  [188, 22.76, -89, 2, 0, 0, 0, 1, 1, 0, 0, 1, 1, 0, 0, 0, 0, 0, 0, 0, 0, 0, 0, 0, 1]\n",
      "Prediction :  [91.8877551]  minutes\n",
      "Fitting 10 folds for each of 553 candidates, totalling 5530 fits\n"
     ]
    },
    {
     "name": "stderr",
     "output_type": "stream",
     "text": [
      "[Parallel(n_jobs=-1)]: Done  56 tasks      | elapsed:    0.1s\n",
      "[Parallel(n_jobs=-1)]: Done 2160 tasks      | elapsed:    3.9s\n",
      "[Parallel(n_jobs=-1)]: Done 5530 out of 5530 | elapsed:   10.6s finished\n",
      "[Parallel(n_jobs=-1)]: Using backend LokyBackend with 8 concurrent workers.\n"
     ]
    },
    {
     "name": "stdout",
     "output_type": "stream",
     "text": [
      "Best parameters: {'max_depth': 4, 'min_samples_leaf': 79})\n",
      "Training score 19 :  0.3256653494941609\n",
      "Testing score 19 :  0.33303087468302583\n",
      "Input :  [188, 22.76, -89, 2, 0, 0, 0, 1, 1, 0, 0, 1, 1, 0, 0, 0, 0, 0, 0, 0, 0, 0, 0, 0, 1]\n",
      "Prediction :  [107.62025316]  minutes\n",
      "Fitting 10 folds for each of 553 candidates, totalling 5530 fits\n"
     ]
    },
    {
     "name": "stderr",
     "output_type": "stream",
     "text": [
      "[Parallel(n_jobs=-1)]: Done  56 tasks      | elapsed:    0.2s\n",
      "[Parallel(n_jobs=-1)]: Done 2160 tasks      | elapsed:    3.7s\n",
      "[Parallel(n_jobs=-1)]: Done 5530 out of 5530 | elapsed:    9.6s finished\n",
      "[Parallel(n_jobs=-1)]: Using backend LokyBackend with 8 concurrent workers.\n"
     ]
    },
    {
     "name": "stdout",
     "output_type": "stream",
     "text": [
      "Best parameters: {'max_depth': 3, 'min_samples_leaf': 1})\n",
      "Training score 20 :  0.36838432457024806\n",
      "Testing score 20 :  0.2722725968378058\n",
      "Input :  [188, 22.76, -89, 2, 0, 0, 0, 1, 1, 0, 0, 1, 1, 0, 0, 0, 0, 0, 0, 0, 0, 0, 0, 0, 1]\n",
      "Prediction :  [90.91943128]  minutes\n",
      "Fitting 10 folds for each of 553 candidates, totalling 5530 fits\n"
     ]
    },
    {
     "name": "stderr",
     "output_type": "stream",
     "text": [
      "[Parallel(n_jobs=-1)]: Done  56 tasks      | elapsed:    0.1s\n",
      "[Parallel(n_jobs=-1)]: Done 2160 tasks      | elapsed:    4.4s\n",
      "[Parallel(n_jobs=-1)]: Done 5530 out of 5530 | elapsed:   11.5s finished\n",
      "[Parallel(n_jobs=-1)]: Using backend LokyBackend with 8 concurrent workers.\n"
     ]
    },
    {
     "name": "stdout",
     "output_type": "stream",
     "text": [
      "Best parameters: {'max_depth': 4, 'min_samples_leaf': 22})\n",
      "Training score 21 :  0.40239021640328365\n",
      "Testing score 21 :  0.2521708531122374\n",
      "Input :  [188, 22.76, -89, 2, 0, 0, 0, 1, 1, 0, 0, 1, 1, 0, 0, 0, 0, 0, 0, 0, 0, 0, 0, 0, 1]\n",
      "Prediction :  [90.43636364]  minutes\n",
      "Fitting 10 folds for each of 553 candidates, totalling 5530 fits\n"
     ]
    },
    {
     "name": "stderr",
     "output_type": "stream",
     "text": [
      "[Parallel(n_jobs=-1)]: Done  56 tasks      | elapsed:    0.3s\n",
      "[Parallel(n_jobs=-1)]: Done 2160 tasks      | elapsed:    4.2s\n",
      "[Parallel(n_jobs=-1)]: Done 5530 out of 5530 | elapsed:   10.8s finished\n",
      "[Parallel(n_jobs=-1)]: Using backend LokyBackend with 8 concurrent workers.\n"
     ]
    },
    {
     "name": "stdout",
     "output_type": "stream",
     "text": [
      "Best parameters: {'max_depth': 3, 'min_samples_leaf': 15})\n",
      "Training score 22 :  0.35343862667050363\n",
      "Testing score 22 :  0.30245609339423807\n",
      "Input :  [188, 22.76, -89, 2, 0, 0, 0, 1, 1, 0, 0, 1, 1, 0, 0, 0, 0, 0, 0, 0, 0, 0, 0, 0, 1]\n",
      "Prediction :  [102.84916201]  minutes\n",
      "Fitting 10 folds for each of 553 candidates, totalling 5530 fits\n"
     ]
    },
    {
     "name": "stderr",
     "output_type": "stream",
     "text": [
      "[Parallel(n_jobs=-1)]: Done  56 tasks      | elapsed:    0.2s\n",
      "[Parallel(n_jobs=-1)]: Done 2160 tasks      | elapsed:    3.9s\n",
      "[Parallel(n_jobs=-1)]: Done 5530 out of 5530 | elapsed:   10.4s finished\n",
      "[Parallel(n_jobs=-1)]: Using backend LokyBackend with 8 concurrent workers.\n"
     ]
    },
    {
     "name": "stdout",
     "output_type": "stream",
     "text": [
      "Best parameters: {'max_depth': 5, 'min_samples_leaf': 43})\n",
      "Training score 23 :  0.38912319808180085\n",
      "Testing score 23 :  0.2567705717328076\n",
      "Input :  [188, 22.76, -89, 2, 0, 0, 0, 1, 1, 0, 0, 1, 1, 0, 0, 0, 0, 0, 0, 0, 0, 0, 0, 0, 1]\n",
      "Prediction :  [92.20754717]  minutes\n",
      "Fitting 10 folds for each of 553 candidates, totalling 5530 fits\n"
     ]
    },
    {
     "name": "stderr",
     "output_type": "stream",
     "text": [
      "[Parallel(n_jobs=-1)]: Done  56 tasks      | elapsed:    0.2s\n",
      "[Parallel(n_jobs=-1)]: Done 2160 tasks      | elapsed:    5.0s\n",
      "[Parallel(n_jobs=-1)]: Done 5530 out of 5530 | elapsed:   11.9s finished\n",
      "[Parallel(n_jobs=-1)]: Using backend LokyBackend with 8 concurrent workers.\n"
     ]
    },
    {
     "name": "stdout",
     "output_type": "stream",
     "text": [
      "Best parameters: {'max_depth': 4, 'min_samples_leaf': 47})\n",
      "Training score 24 :  0.35329574657830265\n",
      "Testing score 24 :  0.28875600666855816\n",
      "Input :  [188, 22.76, -89, 2, 0, 0, 0, 1, 1, 0, 0, 1, 1, 0, 0, 0, 0, 0, 0, 0, 0, 0, 0, 0, 1]\n",
      "Prediction :  [98.69230769]  minutes\n",
      "Fitting 10 folds for each of 553 candidates, totalling 5530 fits\n"
     ]
    },
    {
     "name": "stderr",
     "output_type": "stream",
     "text": [
      "[Parallel(n_jobs=-1)]: Done  56 tasks      | elapsed:    0.3s\n",
      "[Parallel(n_jobs=-1)]: Done 1200 tasks      | elapsed:    3.6s\n",
      "[Parallel(n_jobs=-1)]: Done 3200 tasks      | elapsed:    8.9s\n",
      "[Parallel(n_jobs=-1)]: Done 5530 out of 5530 | elapsed:   15.3s finished\n",
      "[Parallel(n_jobs=-1)]: Using backend LokyBackend with 8 concurrent workers.\n"
     ]
    },
    {
     "name": "stdout",
     "output_type": "stream",
     "text": [
      "Best parameters: {'max_depth': 3, 'min_samples_leaf': 45})\n",
      "Training score 25 :  0.37818840225246253\n",
      "Testing score 25 :  0.23947452293974802\n",
      "Input :  [188, 22.76, -89, 2, 0, 0, 0, 1, 1, 0, 0, 1, 1, 0, 0, 0, 0, 0, 0, 0, 0, 0, 0, 0, 1]\n",
      "Prediction :  [92.01036269]  minutes\n",
      "Fitting 10 folds for each of 553 candidates, totalling 5530 fits\n"
     ]
    },
    {
     "name": "stderr",
     "output_type": "stream",
     "text": [
      "[Parallel(n_jobs=-1)]: Done  56 tasks      | elapsed:    0.5s\n",
      "[Parallel(n_jobs=-1)]: Done 1104 tasks      | elapsed:    3.5s\n",
      "[Parallel(n_jobs=-1)]: Done 3104 tasks      | elapsed:    9.3s\n",
      "[Parallel(n_jobs=-1)]: Done 5530 out of 5530 | elapsed:   15.0s finished\n",
      "[Parallel(n_jobs=-1)]: Using backend LokyBackend with 8 concurrent workers.\n"
     ]
    },
    {
     "name": "stdout",
     "output_type": "stream",
     "text": [
      "Best parameters: {'max_depth': 4, 'min_samples_leaf': 34})\n",
      "Training score 26 :  0.37645162432494306\n",
      "Testing score 26 :  0.2621237506378099\n",
      "Input :  [188, 22.76, -89, 2, 0, 0, 0, 1, 1, 0, 0, 1, 1, 0, 0, 0, 0, 0, 0, 0, 0, 0, 0, 0, 1]\n",
      "Prediction :  [107.72727273]  minutes\n",
      "Fitting 10 folds for each of 553 candidates, totalling 5530 fits\n"
     ]
    },
    {
     "name": "stderr",
     "output_type": "stream",
     "text": [
      "[Parallel(n_jobs=-1)]: Done  56 tasks      | elapsed:    0.3s\n",
      "[Parallel(n_jobs=-1)]: Done 1200 tasks      | elapsed:    2.9s\n",
      "[Parallel(n_jobs=-1)]: Done 3200 tasks      | elapsed:    7.1s\n",
      "[Parallel(n_jobs=-1)]: Done 5530 out of 5530 | elapsed:   12.0s finished\n",
      "[Parallel(n_jobs=-1)]: Using backend LokyBackend with 8 concurrent workers.\n"
     ]
    },
    {
     "name": "stdout",
     "output_type": "stream",
     "text": [
      "Best parameters: {'max_depth': 3, 'min_samples_leaf': 56})\n",
      "Training score 27 :  0.34660784080123874\n",
      "Testing score 27 :  0.30394702106608174\n",
      "Input :  [188, 22.76, -89, 2, 0, 0, 0, 1, 1, 0, 0, 1, 1, 0, 0, 0, 0, 0, 0, 0, 0, 0, 0, 0, 1]\n",
      "Prediction :  [94.46766169]  minutes\n",
      "Fitting 10 folds for each of 553 candidates, totalling 5530 fits\n"
     ]
    },
    {
     "name": "stderr",
     "output_type": "stream",
     "text": [
      "[Parallel(n_jobs=-1)]: Done  56 tasks      | elapsed:    0.3s\n",
      "[Parallel(n_jobs=-1)]: Done 2160 tasks      | elapsed:    4.1s\n",
      "[Parallel(n_jobs=-1)]: Done 5530 out of 5530 | elapsed:   10.6s finished\n",
      "[Parallel(n_jobs=-1)]: Using backend LokyBackend with 8 concurrent workers.\n"
     ]
    },
    {
     "name": "stdout",
     "output_type": "stream",
     "text": [
      "Best parameters: {'max_depth': 4, 'min_samples_leaf': 76})\n",
      "Training score 28 :  0.33785947677491757\n",
      "Testing score 28 :  0.31352562390726224\n",
      "Input :  [188, 22.76, -89, 2, 0, 0, 0, 1, 1, 0, 0, 1, 1, 0, 0, 0, 0, 0, 0, 0, 0, 0, 0, 0, 1]\n",
      "Prediction :  [97.07633588]  minutes\n",
      "Fitting 10 folds for each of 553 candidates, totalling 5530 fits\n"
     ]
    },
    {
     "name": "stderr",
     "output_type": "stream",
     "text": [
      "[Parallel(n_jobs=-1)]: Done  56 tasks      | elapsed:    0.2s\n",
      "[Parallel(n_jobs=-1)]: Done 2160 tasks      | elapsed:    4.7s\n",
      "[Parallel(n_jobs=-1)]: Done 5530 out of 5530 | elapsed:   10.6s finished\n",
      "[Parallel(n_jobs=-1)]: Using backend LokyBackend with 8 concurrent workers.\n"
     ]
    },
    {
     "name": "stdout",
     "output_type": "stream",
     "text": [
      "Best parameters: {'max_depth': 4, 'min_samples_leaf': 77})\n",
      "Training score 29 :  0.3309777186244506\n",
      "Testing score 29 :  0.30815531868819157\n",
      "Input :  [188, 22.76, -89, 2, 0, 0, 0, 1, 1, 0, 0, 1, 1, 0, 0, 0, 0, 0, 0, 0, 0, 0, 0, 0, 1]\n",
      "Prediction :  [108.12987013]  minutes\n",
      "Fitting 10 folds for each of 553 candidates, totalling 5530 fits\n"
     ]
    },
    {
     "name": "stderr",
     "output_type": "stream",
     "text": [
      "[Parallel(n_jobs=-1)]: Done  56 tasks      | elapsed:    0.2s\n",
      "[Parallel(n_jobs=-1)]: Done 2160 tasks      | elapsed:    3.9s\n",
      "[Parallel(n_jobs=-1)]: Done 5530 out of 5530 | elapsed:    9.2s finished\n",
      "[Parallel(n_jobs=-1)]: Using backend LokyBackend with 8 concurrent workers.\n"
     ]
    },
    {
     "name": "stdout",
     "output_type": "stream",
     "text": [
      "Best parameters: {'max_depth': 3, 'min_samples_leaf': 37})\n",
      "Training score 30 :  0.33697114357317304\n",
      "Testing score 30 :  0.3391688819163574\n",
      "Input :  [188, 22.76, -89, 2, 0, 0, 0, 1, 1, 0, 0, 1, 1, 0, 0, 0, 0, 0, 0, 0, 0, 0, 0, 0, 1]\n",
      "Prediction :  [104.14723926]  minutes\n",
      "Fitting 10 folds for each of 553 candidates, totalling 5530 fits\n"
     ]
    },
    {
     "name": "stderr",
     "output_type": "stream",
     "text": [
      "[Parallel(n_jobs=-1)]: Done  56 tasks      | elapsed:    0.1s\n",
      "[Parallel(n_jobs=-1)]: Done 2160 tasks      | elapsed:    3.6s\n",
      "[Parallel(n_jobs=-1)]: Done 5530 out of 5530 | elapsed:    9.1s finished\n",
      "[Parallel(n_jobs=-1)]: Using backend LokyBackend with 8 concurrent workers.\n"
     ]
    },
    {
     "name": "stdout",
     "output_type": "stream",
     "text": [
      "Best parameters: {'max_depth': 3, 'min_samples_leaf': 74})\n",
      "Training score 31 :  0.34690613401730697\n",
      "Testing score 31 :  0.27199418361140604\n",
      "Input :  [188, 22.76, -89, 2, 0, 0, 0, 1, 1, 0, 0, 1, 1, 0, 0, 0, 0, 0, 0, 0, 0, 0, 0, 0, 1]\n",
      "Prediction :  [97.75824176]  minutes\n",
      "Fitting 10 folds for each of 553 candidates, totalling 5530 fits\n"
     ]
    },
    {
     "name": "stderr",
     "output_type": "stream",
     "text": [
      "[Parallel(n_jobs=-1)]: Done  56 tasks      | elapsed:    0.1s\n",
      "[Parallel(n_jobs=-1)]: Done 2160 tasks      | elapsed:    3.4s\n",
      "[Parallel(n_jobs=-1)]: Done 5530 out of 5530 | elapsed:    9.4s finished\n",
      "[Parallel(n_jobs=-1)]: Using backend LokyBackend with 8 concurrent workers.\n"
     ]
    },
    {
     "name": "stdout",
     "output_type": "stream",
     "text": [
      "Best parameters: {'max_depth': 3, 'min_samples_leaf': 77})\n",
      "Training score 32 :  0.3245544500884451\n",
      "Testing score 32 :  0.32788478629770057\n",
      "Input :  [188, 22.76, -89, 2, 0, 0, 0, 1, 1, 0, 0, 1, 1, 0, 0, 0, 0, 0, 0, 0, 0, 0, 0, 0, 1]\n",
      "Prediction :  [101.41201717]  minutes\n",
      "Fitting 10 folds for each of 553 candidates, totalling 5530 fits\n"
     ]
    },
    {
     "name": "stderr",
     "output_type": "stream",
     "text": [
      "[Parallel(n_jobs=-1)]: Done  56 tasks      | elapsed:    0.2s\n",
      "[Parallel(n_jobs=-1)]: Done 2160 tasks      | elapsed:    4.3s\n",
      "[Parallel(n_jobs=-1)]: Done 5530 out of 5530 | elapsed:    9.9s finished\n",
      "[Parallel(n_jobs=-1)]: Using backend LokyBackend with 8 concurrent workers.\n"
     ]
    },
    {
     "name": "stdout",
     "output_type": "stream",
     "text": [
      "Best parameters: {'max_depth': 4, 'min_samples_leaf': 45})\n",
      "Training score 33 :  0.36558742984232506\n",
      "Testing score 33 :  0.29712031108494497\n",
      "Input :  [188, 22.76, -89, 2, 0, 0, 0, 1, 1, 0, 0, 1, 1, 0, 0, 0, 0, 0, 0, 0, 0, 0, 0, 0, 1]\n",
      "Prediction :  [100.71794872]  minutes\n",
      "Fitting 10 folds for each of 553 candidates, totalling 5530 fits\n"
     ]
    },
    {
     "name": "stderr",
     "output_type": "stream",
     "text": [
      "[Parallel(n_jobs=-1)]: Done  56 tasks      | elapsed:    0.2s\n",
      "[Parallel(n_jobs=-1)]: Done 2160 tasks      | elapsed:    4.0s\n",
      "[Parallel(n_jobs=-1)]: Done 5530 out of 5530 | elapsed:    9.4s finished\n",
      "[Parallel(n_jobs=-1)]: Using backend LokyBackend with 8 concurrent workers.\n"
     ]
    },
    {
     "name": "stdout",
     "output_type": "stream",
     "text": [
      "Best parameters: {'max_depth': 4, 'min_samples_leaf': 44})\n",
      "Training score 34 :  0.34586727285474983\n",
      "Testing score 34 :  0.31859081843892967\n",
      "Input :  [188, 22.76, -89, 2, 0, 0, 0, 1, 1, 0, 0, 1, 1, 0, 0, 0, 0, 0, 0, 0, 0, 0, 0, 0, 1]\n",
      "Prediction :  [91.74545455]  minutes\n",
      "Fitting 10 folds for each of 553 candidates, totalling 5530 fits\n"
     ]
    },
    {
     "name": "stderr",
     "output_type": "stream",
     "text": [
      "[Parallel(n_jobs=-1)]: Done  56 tasks      | elapsed:    0.2s\n",
      "[Parallel(n_jobs=-1)]: Done 3824 tasks      | elapsed:    6.4s\n",
      "[Parallel(n_jobs=-1)]: Done 5530 out of 5530 | elapsed:    9.4s finished\n",
      "[Parallel(n_jobs=-1)]: Using backend LokyBackend with 8 concurrent workers.\n"
     ]
    },
    {
     "name": "stdout",
     "output_type": "stream",
     "text": [
      "Best parameters: {'max_depth': 3, 'min_samples_leaf': 45})\n",
      "Training score 35 :  0.34207161695459554\n",
      "Testing score 35 :  0.3453836856177095\n",
      "Input :  [188, 22.76, -89, 2, 0, 0, 0, 1, 1, 0, 0, 1, 1, 0, 0, 0, 0, 0, 0, 0, 0, 0, 0, 0, 1]\n",
      "Prediction :  [98.32786885]  minutes\n",
      "Fitting 10 folds for each of 553 candidates, totalling 5530 fits\n"
     ]
    },
    {
     "name": "stderr",
     "output_type": "stream",
     "text": [
      "[Parallel(n_jobs=-1)]: Done  56 tasks      | elapsed:    0.1s\n",
      "[Parallel(n_jobs=-1)]: Done 2160 tasks      | elapsed:    4.2s\n",
      "[Parallel(n_jobs=-1)]: Done 5530 out of 5530 | elapsed:   13.0s finished\n",
      "[Parallel(n_jobs=-1)]: Using backend LokyBackend with 8 concurrent workers.\n"
     ]
    },
    {
     "name": "stdout",
     "output_type": "stream",
     "text": [
      "Best parameters: {'max_depth': 5, 'min_samples_leaf': 57})\n",
      "Training score 36 :  0.3824740669757878\n",
      "Testing score 36 :  0.20500164824426859\n",
      "Input :  [188, 22.76, -89, 2, 0, 0, 0, 1, 1, 0, 0, 1, 1, 0, 0, 0, 0, 0, 0, 0, 0, 0, 0, 0, 1]\n",
      "Prediction :  [103.76923077]  minutes\n",
      "Fitting 10 folds for each of 553 candidates, totalling 5530 fits\n"
     ]
    },
    {
     "name": "stderr",
     "output_type": "stream",
     "text": [
      "[Parallel(n_jobs=-1)]: Done  56 tasks      | elapsed:    0.3s\n",
      "[Parallel(n_jobs=-1)]: Done 2160 tasks      | elapsed:    5.2s\n",
      "[Parallel(n_jobs=-1)]: Done 5530 out of 5530 | elapsed:   10.6s finished\n",
      "[Parallel(n_jobs=-1)]: Using backend LokyBackend with 8 concurrent workers.\n"
     ]
    },
    {
     "name": "stdout",
     "output_type": "stream",
     "text": [
      "Best parameters: {'max_depth': 3, 'min_samples_leaf': 62})\n",
      "Training score 37 :  0.33502187507724257\n",
      "Testing score 37 :  0.33702899385538554\n",
      "Input :  [188, 22.76, -89, 2, 0, 0, 0, 1, 1, 0, 0, 1, 1, 0, 0, 0, 0, 0, 0, 0, 0, 0, 0, 0, 1]\n",
      "Prediction :  [97.57943925]  minutes\n",
      "Fitting 10 folds for each of 553 candidates, totalling 5530 fits\n"
     ]
    },
    {
     "name": "stderr",
     "output_type": "stream",
     "text": [
      "[Parallel(n_jobs=-1)]: Done  56 tasks      | elapsed:    0.1s\n",
      "[Parallel(n_jobs=-1)]: Done 2160 tasks      | elapsed:    3.5s\n",
      "[Parallel(n_jobs=-1)]: Done 5530 out of 5530 | elapsed:    8.8s finished\n",
      "[Parallel(n_jobs=-1)]: Using backend LokyBackend with 8 concurrent workers.\n"
     ]
    },
    {
     "name": "stdout",
     "output_type": "stream",
     "text": [
      "Best parameters: {'max_depth': 4, 'min_samples_leaf': 61})\n",
      "Training score 38 :  0.3319633515323296\n",
      "Testing score 38 :  0.34225336260608075\n",
      "Input :  [188, 22.76, -89, 2, 0, 0, 0, 1, 1, 0, 0, 1, 1, 0, 0, 0, 0, 0, 0, 0, 0, 0, 0, 0, 1]\n",
      "Prediction :  [109.58823529]  minutes\n",
      "Fitting 10 folds for each of 553 candidates, totalling 5530 fits\n"
     ]
    },
    {
     "name": "stderr",
     "output_type": "stream",
     "text": [
      "[Parallel(n_jobs=-1)]: Done  56 tasks      | elapsed:    0.2s\n",
      "[Parallel(n_jobs=-1)]: Done 2160 tasks      | elapsed:    3.5s\n",
      "[Parallel(n_jobs=-1)]: Done 5530 out of 5530 | elapsed:    9.3s finished\n",
      "[Parallel(n_jobs=-1)]: Using backend LokyBackend with 8 concurrent workers.\n"
     ]
    },
    {
     "name": "stdout",
     "output_type": "stream",
     "text": [
      "Best parameters: {'max_depth': 3, 'min_samples_leaf': 62})\n",
      "Training score 39 :  0.331365481320128\n",
      "Testing score 39 :  0.3426124803045295\n",
      "Input :  [188, 22.76, -89, 2, 0, 0, 0, 1, 1, 0, 0, 1, 1, 0, 0, 0, 0, 0, 0, 0, 0, 0, 0, 0, 1]\n",
      "Prediction :  [100.08270677]  minutes\n",
      "Fitting 10 folds for each of 553 candidates, totalling 5530 fits\n"
     ]
    },
    {
     "name": "stderr",
     "output_type": "stream",
     "text": [
      "[Parallel(n_jobs=-1)]: Done  56 tasks      | elapsed:    0.1s\n",
      "[Parallel(n_jobs=-1)]: Done 3824 tasks      | elapsed:    6.2s\n",
      "[Parallel(n_jobs=-1)]: Done 5530 out of 5530 | elapsed:    8.7s finished\n",
      "[Parallel(n_jobs=-1)]: Using backend LokyBackend with 8 concurrent workers.\n"
     ]
    },
    {
     "name": "stdout",
     "output_type": "stream",
     "text": [
      "Best parameters: {'max_depth': 4, 'min_samples_leaf': 69})\n",
      "Training score 40 :  0.34145298231670074\n",
      "Testing score 40 :  0.278629609284184\n",
      "Input :  [188, 22.76, -89, 2, 0, 0, 0, 1, 1, 0, 0, 1, 1, 0, 0, 0, 0, 0, 0, 0, 0, 0, 0, 0, 1]\n",
      "Prediction :  [101.71794872]  minutes\n",
      "Fitting 10 folds for each of 553 candidates, totalling 5530 fits\n"
     ]
    },
    {
     "name": "stderr",
     "output_type": "stream",
     "text": [
      "[Parallel(n_jobs=-1)]: Done  56 tasks      | elapsed:    0.1s\n",
      "[Parallel(n_jobs=-1)]: Done 2160 tasks      | elapsed:    3.6s\n",
      "[Parallel(n_jobs=-1)]: Done 5530 out of 5530 | elapsed:    9.0s finished\n",
      "[Parallel(n_jobs=-1)]: Using backend LokyBackend with 8 concurrent workers.\n"
     ]
    },
    {
     "name": "stdout",
     "output_type": "stream",
     "text": [
      "Best parameters: {'max_depth': 3, 'min_samples_leaf': 59})\n",
      "Training score 41 :  0.4001420438958011\n",
      "Testing score 41 :  0.14993475755729113\n",
      "Input :  [188, 22.76, -89, 2, 0, 0, 0, 1, 1, 0, 0, 1, 1, 0, 0, 0, 0, 0, 0, 0, 0, 0, 0, 0, 1]\n",
      "Prediction :  [97.19]  minutes\n",
      "Fitting 10 folds for each of 553 candidates, totalling 5530 fits\n"
     ]
    },
    {
     "name": "stderr",
     "output_type": "stream",
     "text": [
      "[Parallel(n_jobs=-1)]: Done  56 tasks      | elapsed:    0.1s\n",
      "[Parallel(n_jobs=-1)]: Done 3824 tasks      | elapsed:    6.1s\n",
      "[Parallel(n_jobs=-1)]: Done 5530 out of 5530 | elapsed:    8.7s finished\n",
      "[Parallel(n_jobs=-1)]: Using backend LokyBackend with 8 concurrent workers.\n"
     ]
    },
    {
     "name": "stdout",
     "output_type": "stream",
     "text": [
      "Best parameters: {'max_depth': 5, 'min_samples_leaf': 78})\n",
      "Training score 42 :  0.327185547909279\n",
      "Testing score 42 :  0.32442593021622557\n",
      "Input :  [188, 22.76, -89, 2, 0, 0, 0, 1, 1, 0, 0, 1, 1, 0, 0, 0, 0, 0, 0, 0, 0, 0, 0, 0, 1]\n",
      "Prediction :  [96.19387755]  minutes\n",
      "Fitting 10 folds for each of 553 candidates, totalling 5530 fits\n"
     ]
    },
    {
     "name": "stderr",
     "output_type": "stream",
     "text": [
      "[Parallel(n_jobs=-1)]: Done  56 tasks      | elapsed:    0.1s\n",
      "[Parallel(n_jobs=-1)]: Done 2160 tasks      | elapsed:    3.5s\n",
      "[Parallel(n_jobs=-1)]: Done 5530 out of 5530 | elapsed:    8.9s finished\n",
      "[Parallel(n_jobs=-1)]: Using backend LokyBackend with 8 concurrent workers.\n"
     ]
    },
    {
     "name": "stdout",
     "output_type": "stream",
     "text": [
      "Best parameters: {'max_depth': 3, 'min_samples_leaf': 61})\n",
      "Training score 43 :  0.36103316923445594\n",
      "Testing score 43 :  0.2646723375156923\n",
      "Input :  [188, 22.76, -89, 2, 0, 0, 0, 1, 1, 0, 0, 1, 1, 0, 0, 0, 0, 0, 0, 0, 0, 0, 0, 0, 1]\n",
      "Prediction :  [99.37634409]  minutes\n",
      "Fitting 10 folds for each of 553 candidates, totalling 5530 fits\n"
     ]
    },
    {
     "name": "stderr",
     "output_type": "stream",
     "text": [
      "[Parallel(n_jobs=-1)]: Done  56 tasks      | elapsed:    0.1s\n",
      "[Parallel(n_jobs=-1)]: Done 3824 tasks      | elapsed:    6.1s\n",
      "[Parallel(n_jobs=-1)]: Done 5530 out of 5530 | elapsed:    8.8s finished\n",
      "[Parallel(n_jobs=-1)]: Using backend LokyBackend with 8 concurrent workers.\n"
     ]
    },
    {
     "name": "stdout",
     "output_type": "stream",
     "text": [
      "Best parameters: {'max_depth': 5, 'min_samples_leaf': 72})\n",
      "Training score 44 :  0.3257947609466577\n",
      "Testing score 44 :  0.3399485797669042\n",
      "Input :  [188, 22.76, -89, 2, 0, 0, 0, 1, 1, 0, 0, 1, 1, 0, 0, 0, 0, 0, 0, 0, 0, 0, 0, 0, 1]\n",
      "Prediction :  [110.025]  minutes\n",
      "Fitting 10 folds for each of 553 candidates, totalling 5530 fits\n"
     ]
    },
    {
     "name": "stderr",
     "output_type": "stream",
     "text": [
      "[Parallel(n_jobs=-1)]: Done  56 tasks      | elapsed:    0.1s\n",
      "[Parallel(n_jobs=-1)]: Done 2160 tasks      | elapsed:    3.6s\n",
      "[Parallel(n_jobs=-1)]: Done 5530 out of 5530 | elapsed:    9.0s finished\n",
      "[Parallel(n_jobs=-1)]: Using backend LokyBackend with 8 concurrent workers.\n"
     ]
    },
    {
     "name": "stdout",
     "output_type": "stream",
     "text": [
      "Best parameters: {'max_depth': 4, 'min_samples_leaf': 79})\n",
      "Training score 45 :  0.33302521522765205\n",
      "Testing score 45 :  0.29309756874158543\n",
      "Input :  [188, 22.76, -89, 2, 0, 0, 0, 1, 1, 0, 0, 1, 1, 0, 0, 0, 0, 0, 0, 0, 0, 0, 0, 0, 1]\n",
      "Prediction :  [97.37037037]  minutes\n",
      "Fitting 10 folds for each of 553 candidates, totalling 5530 fits\n"
     ]
    },
    {
     "name": "stderr",
     "output_type": "stream",
     "text": [
      "[Parallel(n_jobs=-1)]: Done  56 tasks      | elapsed:    0.1s\n",
      "[Parallel(n_jobs=-1)]: Done 3824 tasks      | elapsed:    6.2s\n",
      "[Parallel(n_jobs=-1)]: Done 5530 out of 5530 | elapsed:    9.3s finished\n",
      "[Parallel(n_jobs=-1)]: Using backend LokyBackend with 8 concurrent workers.\n"
     ]
    },
    {
     "name": "stdout",
     "output_type": "stream",
     "text": [
      "Best parameters: {'max_depth': 3, 'min_samples_leaf': 77})\n",
      "Training score 46 :  0.3299972199843473\n",
      "Testing score 46 :  0.3339736065163639\n",
      "Input :  [188, 22.76, -89, 2, 0, 0, 0, 1, 1, 0, 0, 1, 1, 0, 0, 0, 0, 0, 0, 0, 0, 0, 0, 0, 1]\n",
      "Prediction :  [97.96969697]  minutes\n",
      "Fitting 10 folds for each of 553 candidates, totalling 5530 fits\n"
     ]
    },
    {
     "name": "stderr",
     "output_type": "stream",
     "text": [
      "[Parallel(n_jobs=-1)]: Done  56 tasks      | elapsed:    0.3s\n",
      "[Parallel(n_jobs=-1)]: Done 2160 tasks      | elapsed:    4.9s\n",
      "[Parallel(n_jobs=-1)]: Done 5530 out of 5530 | elapsed:   11.6s finished\n",
      "[Parallel(n_jobs=-1)]: Using backend LokyBackend with 8 concurrent workers.\n"
     ]
    },
    {
     "name": "stdout",
     "output_type": "stream",
     "text": [
      "Best parameters: {'max_depth': 3, 'min_samples_leaf': 58})\n",
      "Training score 47 :  0.33880054217626165\n",
      "Testing score 47 :  0.3392631651877279\n",
      "Input :  [188, 22.76, -89, 2, 0, 0, 0, 1, 1, 0, 0, 1, 1, 0, 0, 0, 0, 0, 0, 0, 0, 0, 0, 0, 1]\n",
      "Prediction :  [97.45283019]  minutes\n",
      "Fitting 10 folds for each of 553 candidates, totalling 5530 fits\n"
     ]
    },
    {
     "name": "stderr",
     "output_type": "stream",
     "text": [
      "[Parallel(n_jobs=-1)]: Done  56 tasks      | elapsed:    0.2s\n",
      "[Parallel(n_jobs=-1)]: Done 2032 tasks      | elapsed:    4.0s\n",
      "[Parallel(n_jobs=-1)]: Done 5530 out of 5530 | elapsed:   13.0s finished\n",
      "[Parallel(n_jobs=-1)]: Using backend LokyBackend with 8 concurrent workers.\n"
     ]
    },
    {
     "name": "stdout",
     "output_type": "stream",
     "text": [
      "Best parameters: {'max_depth': 4, 'min_samples_leaf': 74})\n",
      "Training score 48 :  0.3541447317925055\n",
      "Testing score 48 :  0.28085014601520597\n",
      "Input :  [188, 22.76, -89, 2, 0, 0, 0, 1, 1, 0, 0, 1, 1, 0, 0, 0, 0, 0, 0, 0, 0, 0, 0, 0, 1]\n",
      "Prediction :  [109.14666667]  minutes\n",
      "Fitting 10 folds for each of 553 candidates, totalling 5530 fits\n"
     ]
    },
    {
     "name": "stderr",
     "output_type": "stream",
     "text": [
      "[Parallel(n_jobs=-1)]: Done  56 tasks      | elapsed:    0.2s\n",
      "[Parallel(n_jobs=-1)]: Done 2160 tasks      | elapsed:    3.9s\n",
      "[Parallel(n_jobs=-1)]: Done 5530 out of 5530 | elapsed:    9.9s finished\n",
      "[Parallel(n_jobs=-1)]: Using backend LokyBackend with 8 concurrent workers.\n"
     ]
    },
    {
     "name": "stdout",
     "output_type": "stream",
     "text": [
      "Best parameters: {'max_depth': 4, 'min_samples_leaf': 53})\n",
      "Training score 49 :  0.37458799392224185\n",
      "Testing score 49 :  0.214589666833765\n",
      "Input :  [188, 22.76, -89, 2, 0, 0, 0, 1, 1, 0, 0, 1, 1, 0, 0, 0, 0, 0, 0, 0, 0, 0, 0, 0, 1]\n",
      "Prediction :  [98.14285714]  minutes\n",
      "Fitting 10 folds for each of 553 candidates, totalling 5530 fits\n"
     ]
    },
    {
     "name": "stderr",
     "output_type": "stream",
     "text": [
      "[Parallel(n_jobs=-1)]: Done  56 tasks      | elapsed:    0.2s\n",
      "[Parallel(n_jobs=-1)]: Done 2160 tasks      | elapsed:    4.0s\n",
      "[Parallel(n_jobs=-1)]: Done 5530 out of 5530 | elapsed:   10.2s finished\n",
      "[Parallel(n_jobs=-1)]: Using backend LokyBackend with 8 concurrent workers.\n"
     ]
    },
    {
     "name": "stdout",
     "output_type": "stream",
     "text": [
      "Best parameters: {'max_depth': 3, 'min_samples_leaf': 54})\n",
      "Training score 50 :  0.3475437670553764\n",
      "Testing score 50 :  0.2938631181494522\n",
      "Input :  [188, 22.76, -89, 2, 0, 0, 0, 1, 1, 0, 0, 1, 1, 0, 0, 0, 0, 0, 0, 0, 0, 0, 0, 0, 1]\n",
      "Prediction :  [101.45098039]  minutes\n",
      "Fitting 10 folds for each of 553 candidates, totalling 5530 fits\n"
     ]
    },
    {
     "name": "stderr",
     "output_type": "stream",
     "text": [
      "[Parallel(n_jobs=-1)]: Done  56 tasks      | elapsed:    0.2s\n",
      "[Parallel(n_jobs=-1)]: Done 2160 tasks      | elapsed:    4.0s\n",
      "[Parallel(n_jobs=-1)]: Done 5530 out of 5530 | elapsed:   10.6s finished\n",
      "[Parallel(n_jobs=-1)]: Using backend LokyBackend with 8 concurrent workers.\n"
     ]
    },
    {
     "name": "stdout",
     "output_type": "stream",
     "text": [
      "Best parameters: {'max_depth': 6, 'min_samples_leaf': 52})\n",
      "Training score 51 :  0.38448100133890395\n",
      "Testing score 51 :  0.23548971451861722\n",
      "Input :  [188, 22.76, -89, 2, 0, 0, 0, 1, 1, 0, 0, 1, 1, 0, 0, 0, 0, 0, 0, 0, 0, 0, 0, 0, 1]\n",
      "Prediction :  [95.96]  minutes\n",
      "Fitting 10 folds for each of 553 candidates, totalling 5530 fits\n"
     ]
    },
    {
     "name": "stderr",
     "output_type": "stream",
     "text": [
      "[Parallel(n_jobs=-1)]: Done  56 tasks      | elapsed:    0.4s\n",
      "[Parallel(n_jobs=-1)]: Done 1168 tasks      | elapsed:    3.5s\n",
      "[Parallel(n_jobs=-1)]: Done 3168 tasks      | elapsed:    8.2s\n",
      "[Parallel(n_jobs=-1)]: Done 5530 out of 5530 | elapsed:   14.1s finished\n",
      "[Parallel(n_jobs=-1)]: Using backend LokyBackend with 8 concurrent workers.\n"
     ]
    },
    {
     "name": "stdout",
     "output_type": "stream",
     "text": [
      "Best parameters: {'max_depth': 5, 'min_samples_leaf': 28})\n",
      "Training score 52 :  0.4274200178641776\n",
      "Testing score 52 :  0.1259676504750218\n",
      "Input :  [188, 22.76, -89, 2, 0, 0, 0, 1, 1, 0, 0, 1, 1, 0, 0, 0, 0, 0, 0, 0, 0, 0, 0, 0, 1]\n",
      "Prediction :  [104.55555556]  minutes\n",
      "Fitting 10 folds for each of 553 candidates, totalling 5530 fits\n"
     ]
    },
    {
     "name": "stderr",
     "output_type": "stream",
     "text": [
      "[Parallel(n_jobs=-1)]: Done  56 tasks      | elapsed:    0.3s\n",
      "[Parallel(n_jobs=-1)]: Done 3824 tasks      | elapsed:    7.3s\n",
      "[Parallel(n_jobs=-1)]: Done 5530 out of 5530 | elapsed:   10.6s finished\n",
      "[Parallel(n_jobs=-1)]: Using backend LokyBackend with 8 concurrent workers.\n"
     ]
    },
    {
     "name": "stdout",
     "output_type": "stream",
     "text": [
      "Best parameters: {'max_depth': 3, 'min_samples_leaf': 77})\n",
      "Training score 53 :  0.3515823781029802\n",
      "Testing score 53 :  0.2590057283006929\n",
      "Input :  [188, 22.76, -89, 2, 0, 0, 0, 1, 1, 0, 0, 1, 1, 0, 0, 0, 0, 0, 0, 0, 0, 0, 0, 0, 1]\n",
      "Prediction :  [93.01960784]  minutes\n",
      "Fitting 10 folds for each of 553 candidates, totalling 5530 fits\n"
     ]
    },
    {
     "name": "stderr",
     "output_type": "stream",
     "text": [
      "[Parallel(n_jobs=-1)]: Done  56 tasks      | elapsed:    0.3s\n",
      "[Parallel(n_jobs=-1)]: Done 2160 tasks      | elapsed:    4.2s\n",
      "[Parallel(n_jobs=-1)]: Done 5530 out of 5530 | elapsed:   11.0s finished\n",
      "[Parallel(n_jobs=-1)]: Using backend LokyBackend with 8 concurrent workers.\n"
     ]
    },
    {
     "name": "stdout",
     "output_type": "stream",
     "text": [
      "Best parameters: {'max_depth': 3, 'min_samples_leaf': 76})\n",
      "Training score 54 :  0.3101593504520177\n",
      "Testing score 54 :  0.35142630087343074\n",
      "Input :  [188, 22.76, -89, 2, 0, 0, 0, 1, 1, 0, 0, 1, 1, 0, 0, 0, 0, 0, 0, 0, 0, 0, 0, 0, 1]\n",
      "Prediction :  [91.76847291]  minutes\n",
      "Fitting 10 folds for each of 553 candidates, totalling 5530 fits\n"
     ]
    },
    {
     "name": "stderr",
     "output_type": "stream",
     "text": [
      "[Parallel(n_jobs=-1)]: Done  56 tasks      | elapsed:    0.3s\n",
      "[Parallel(n_jobs=-1)]: Done 2160 tasks      | elapsed:    4.5s\n",
      "[Parallel(n_jobs=-1)]: Done 5530 out of 5530 | elapsed:   12.6s finished\n",
      "[Parallel(n_jobs=-1)]: Using backend LokyBackend with 8 concurrent workers.\n"
     ]
    },
    {
     "name": "stdout",
     "output_type": "stream",
     "text": [
      "Best parameters: {'max_depth': 4, 'min_samples_leaf': 49})\n",
      "Training score 55 :  0.3722865895679598\n",
      "Testing score 55 :  0.27343365011133935\n",
      "Input :  [188, 22.76, -89, 2, 0, 0, 0, 1, 1, 0, 0, 1, 1, 0, 0, 0, 0, 0, 0, 0, 0, 0, 0, 0, 1]\n",
      "Prediction :  [100.04123711]  minutes\n",
      "Fitting 10 folds for each of 553 candidates, totalling 5530 fits\n"
     ]
    },
    {
     "name": "stderr",
     "output_type": "stream",
     "text": [
      "[Parallel(n_jobs=-1)]: Done  56 tasks      | elapsed:    0.3s\n",
      "[Parallel(n_jobs=-1)]: Done 2160 tasks      | elapsed:    5.6s\n",
      "[Parallel(n_jobs=-1)]: Done 5530 out of 5530 | elapsed:   13.9s finished\n",
      "[Parallel(n_jobs=-1)]: Using backend LokyBackend with 8 concurrent workers.\n"
     ]
    },
    {
     "name": "stdout",
     "output_type": "stream",
     "text": [
      "Best parameters: {'max_depth': 3, 'min_samples_leaf': 37})\n",
      "Training score 56 :  0.3618860031112435\n",
      "Testing score 56 :  0.25337813741171034\n",
      "Input :  [188, 22.76, -89, 2, 0, 0, 0, 1, 1, 0, 0, 1, 1, 0, 0, 0, 0, 0, 0, 0, 0, 0, 0, 0, 1]\n",
      "Prediction :  [95.12790698]  minutes\n",
      "Fitting 10 folds for each of 553 candidates, totalling 5530 fits\n"
     ]
    },
    {
     "name": "stderr",
     "output_type": "stream",
     "text": [
      "[Parallel(n_jobs=-1)]: Done  56 tasks      | elapsed:    0.2s\n",
      "[Parallel(n_jobs=-1)]: Done 2160 tasks      | elapsed:    4.1s\n",
      "[Parallel(n_jobs=-1)]: Done 5530 out of 5530 | elapsed:    9.7s finished\n",
      "[Parallel(n_jobs=-1)]: Using backend LokyBackend with 8 concurrent workers.\n"
     ]
    },
    {
     "name": "stdout",
     "output_type": "stream",
     "text": [
      "Best parameters: {'max_depth': 3, 'min_samples_leaf': 72})\n",
      "Training score 57 :  0.343408520598249\n",
      "Testing score 57 :  0.2947586462316363\n",
      "Input :  [188, 22.76, -89, 2, 0, 0, 0, 1, 1, 0, 0, 1, 1, 0, 0, 0, 0, 0, 0, 0, 0, 0, 0, 0, 1]\n",
      "Prediction :  [96.67676768]  minutes\n",
      "Fitting 10 folds for each of 553 candidates, totalling 5530 fits\n"
     ]
    },
    {
     "name": "stderr",
     "output_type": "stream",
     "text": [
      "[Parallel(n_jobs=-1)]: Done  56 tasks      | elapsed:    0.1s\n",
      "[Parallel(n_jobs=-1)]: Done 2160 tasks      | elapsed:    3.4s\n",
      "[Parallel(n_jobs=-1)]: Done 5530 out of 5530 | elapsed:    8.6s finished\n",
      "[Parallel(n_jobs=-1)]: Using backend LokyBackend with 8 concurrent workers.\n"
     ]
    },
    {
     "name": "stdout",
     "output_type": "stream",
     "text": [
      "Best parameters: {'max_depth': 4, 'min_samples_leaf': 43})\n",
      "Training score 58 :  0.3745150834859531\n",
      "Testing score 58 :  0.25557299613376316\n",
      "Input :  [188, 22.76, -89, 2, 0, 0, 0, 1, 1, 0, 0, 1, 1, 0, 0, 0, 0, 0, 0, 0, 0, 0, 0, 0, 1]\n",
      "Prediction :  [98.26027397]  minutes\n",
      "Fitting 10 folds for each of 553 candidates, totalling 5530 fits\n"
     ]
    },
    {
     "name": "stderr",
     "output_type": "stream",
     "text": [
      "[Parallel(n_jobs=-1)]: Done  56 tasks      | elapsed:    0.1s\n",
      "[Parallel(n_jobs=-1)]: Done 2160 tasks      | elapsed:    3.4s\n",
      "[Parallel(n_jobs=-1)]: Done 5530 out of 5530 | elapsed:   10.7s finished\n",
      "[Parallel(n_jobs=-1)]: Using backend LokyBackend with 8 concurrent workers.\n"
     ]
    },
    {
     "name": "stdout",
     "output_type": "stream",
     "text": [
      "Best parameters: {'max_depth': 3, 'min_samples_leaf': 54})\n",
      "Training score 59 :  0.35132763793794486\n",
      "Testing score 59 :  0.29860386666939576\n",
      "Input :  [188, 22.76, -89, 2, 0, 0, 0, 1, 1, 0, 0, 1, 1, 0, 0, 0, 0, 0, 0, 0, 0, 0, 0, 0, 1]\n",
      "Prediction :  [101.95628415]  minutes\n",
      "Fitting 10 folds for each of 553 candidates, totalling 5530 fits\n"
     ]
    },
    {
     "name": "stderr",
     "output_type": "stream",
     "text": [
      "[Parallel(n_jobs=-1)]: Done  56 tasks      | elapsed:    0.2s\n",
      "[Parallel(n_jobs=-1)]: Done 2160 tasks      | elapsed:    4.9s\n",
      "[Parallel(n_jobs=-1)]: Done 5530 out of 5530 | elapsed:   11.5s finished\n",
      "[Parallel(n_jobs=-1)]: Using backend LokyBackend with 8 concurrent workers.\n"
     ]
    },
    {
     "name": "stdout",
     "output_type": "stream",
     "text": [
      "Best parameters: {'max_depth': 5, 'min_samples_leaf': 69})\n",
      "Training score 60 :  0.3464055430978624\n",
      "Testing score 60 :  0.2501708896841651\n",
      "Input :  [188, 22.76, -89, 2, 0, 0, 0, 1, 1, 0, 0, 1, 1, 0, 0, 0, 0, 0, 0, 0, 0, 0, 0, 0, 1]\n",
      "Prediction :  [106.55]  minutes\n",
      "Fitting 10 folds for each of 553 candidates, totalling 5530 fits\n"
     ]
    },
    {
     "name": "stderr",
     "output_type": "stream",
     "text": [
      "[Parallel(n_jobs=-1)]: Done  56 tasks      | elapsed:    0.2s\n",
      "[Parallel(n_jobs=-1)]: Done 2160 tasks      | elapsed:    3.6s\n",
      "[Parallel(n_jobs=-1)]: Done 5530 out of 5530 | elapsed:    9.1s finished\n",
      "[Parallel(n_jobs=-1)]: Using backend LokyBackend with 8 concurrent workers.\n"
     ]
    },
    {
     "name": "stdout",
     "output_type": "stream",
     "text": [
      "Best parameters: {'max_depth': 3, 'min_samples_leaf': 61})\n",
      "Training score 61 :  0.33529711671388684\n",
      "Testing score 61 :  0.276696494358173\n",
      "Input :  [188, 22.76, -89, 2, 0, 0, 0, 1, 1, 0, 0, 1, 1, 0, 0, 0, 0, 0, 0, 0, 0, 0, 0, 0, 1]\n",
      "Prediction :  [110.45964912]  minutes\n",
      "Fitting 10 folds for each of 553 candidates, totalling 5530 fits\n"
     ]
    },
    {
     "name": "stderr",
     "output_type": "stream",
     "text": [
      "[Parallel(n_jobs=-1)]: Done  56 tasks      | elapsed:    0.1s\n",
      "[Parallel(n_jobs=-1)]: Done 2160 tasks      | elapsed:    4.2s\n",
      "[Parallel(n_jobs=-1)]: Done 5530 out of 5530 | elapsed:   10.3s finished\n",
      "[Parallel(n_jobs=-1)]: Using backend LokyBackend with 8 concurrent workers.\n"
     ]
    },
    {
     "name": "stdout",
     "output_type": "stream",
     "text": [
      "Best parameters: {'max_depth': 3, 'min_samples_leaf': 55})\n",
      "Training score 62 :  0.3651025064046616\n",
      "Testing score 62 :  0.26795047578689524\n",
      "Input :  [188, 22.76, -89, 2, 0, 0, 0, 1, 1, 0, 0, 1, 1, 0, 0, 0, 0, 0, 0, 0, 0, 0, 0, 0, 1]\n",
      "Prediction :  [99.50806452]  minutes\n",
      "Fitting 10 folds for each of 553 candidates, totalling 5530 fits\n"
     ]
    },
    {
     "name": "stderr",
     "output_type": "stream",
     "text": [
      "[Parallel(n_jobs=-1)]: Done  56 tasks      | elapsed:    0.2s\n",
      "[Parallel(n_jobs=-1)]: Done 2160 tasks      | elapsed:    5.5s\n",
      "[Parallel(n_jobs=-1)]: Done 5530 out of 5530 | elapsed:   11.0s finished\n",
      "[Parallel(n_jobs=-1)]: Using backend LokyBackend with 8 concurrent workers.\n"
     ]
    },
    {
     "name": "stdout",
     "output_type": "stream",
     "text": [
      "Best parameters: {'max_depth': 3, 'min_samples_leaf': 48})\n",
      "Training score 63 :  0.3331479355397339\n",
      "Testing score 63 :  0.34127729491083425\n",
      "Input :  [188, 22.76, -89, 2, 0, 0, 0, 1, 1, 0, 0, 1, 1, 0, 0, 0, 0, 0, 0, 0, 0, 0, 0, 0, 1]\n",
      "Prediction :  [101.7472119]  minutes\n",
      "Fitting 10 folds for each of 553 candidates, totalling 5530 fits\n"
     ]
    },
    {
     "name": "stderr",
     "output_type": "stream",
     "text": [
      "[Parallel(n_jobs=-1)]: Done  56 tasks      | elapsed:    0.1s\n",
      "[Parallel(n_jobs=-1)]: Done 2160 tasks      | elapsed:    3.6s\n",
      "[Parallel(n_jobs=-1)]: Done 5530 out of 5530 | elapsed:    9.1s finished\n",
      "[Parallel(n_jobs=-1)]: Using backend LokyBackend with 8 concurrent workers.\n"
     ]
    },
    {
     "name": "stdout",
     "output_type": "stream",
     "text": [
      "Best parameters: {'max_depth': 3, 'min_samples_leaf': 63})\n",
      "Training score 64 :  0.3770093700493259\n",
      "Testing score 64 :  0.15916542782473886\n",
      "Input :  [188, 22.76, -89, 2, 0, 0, 0, 1, 1, 0, 0, 1, 1, 0, 0, 0, 0, 0, 0, 0, 0, 0, 0, 0, 1]\n",
      "Prediction :  [98.56603774]  minutes\n",
      "Fitting 10 folds for each of 553 candidates, totalling 5530 fits\n"
     ]
    },
    {
     "name": "stderr",
     "output_type": "stream",
     "text": [
      "[Parallel(n_jobs=-1)]: Done  56 tasks      | elapsed:    0.1s\n",
      "[Parallel(n_jobs=-1)]: Done 2160 tasks      | elapsed:    3.7s\n",
      "[Parallel(n_jobs=-1)]: Done 5530 out of 5530 | elapsed:    9.2s finished\n",
      "[Parallel(n_jobs=-1)]: Using backend LokyBackend with 8 concurrent workers.\n"
     ]
    },
    {
     "name": "stdout",
     "output_type": "stream",
     "text": [
      "Best parameters: {'max_depth': 5, 'min_samples_leaf': 50})\n",
      "Training score 65 :  0.37533407622509163\n",
      "Testing score 65 :  0.27239056048206267\n",
      "Input :  [188, 22.76, -89, 2, 0, 0, 0, 1, 1, 0, 0, 1, 1, 0, 0, 0, 0, 0, 0, 0, 0, 0, 0, 0, 1]\n",
      "Prediction :  [108.61538462]  minutes\n",
      "Fitting 10 folds for each of 553 candidates, totalling 5530 fits\n"
     ]
    },
    {
     "name": "stderr",
     "output_type": "stream",
     "text": [
      "[Parallel(n_jobs=-1)]: Done  56 tasks      | elapsed:    0.1s\n",
      "[Parallel(n_jobs=-1)]: Done 2160 tasks      | elapsed:    3.8s\n",
      "[Parallel(n_jobs=-1)]: Done 5530 out of 5530 | elapsed:    9.8s finished\n",
      "[Parallel(n_jobs=-1)]: Using backend LokyBackend with 8 concurrent workers.\n"
     ]
    },
    {
     "name": "stdout",
     "output_type": "stream",
     "text": [
      "Best parameters: {'max_depth': 5, 'min_samples_leaf': 68})\n",
      "Training score 66 :  0.3606125882505561\n",
      "Testing score 66 :  0.2279350617161927\n",
      "Input :  [188, 22.76, -89, 2, 0, 0, 0, 1, 1, 0, 0, 1, 1, 0, 0, 0, 0, 0, 0, 0, 0, 0, 0, 0, 1]\n",
      "Prediction :  [96.78504673]  minutes\n",
      "Fitting 10 folds for each of 553 candidates, totalling 5530 fits\n"
     ]
    },
    {
     "name": "stderr",
     "output_type": "stream",
     "text": [
      "[Parallel(n_jobs=-1)]: Done  56 tasks      | elapsed:    0.2s\n",
      "[Parallel(n_jobs=-1)]: Done 2160 tasks      | elapsed:    3.8s\n",
      "[Parallel(n_jobs=-1)]: Done 5530 out of 5530 | elapsed:    9.7s finished\n",
      "[Parallel(n_jobs=-1)]: Using backend LokyBackend with 8 concurrent workers.\n"
     ]
    },
    {
     "name": "stdout",
     "output_type": "stream",
     "text": [
      "Best parameters: {'max_depth': 3, 'min_samples_leaf': 48})\n",
      "Training score 67 :  0.3807898151735949\n",
      "Testing score 67 :  0.19430569561817412\n",
      "Input :  [188, 22.76, -89, 2, 0, 0, 0, 1, 1, 0, 0, 1, 1, 0, 0, 0, 0, 0, 0, 0, 0, 0, 0, 0, 1]\n",
      "Prediction :  [102.73913043]  minutes\n",
      "Fitting 10 folds for each of 553 candidates, totalling 5530 fits\n"
     ]
    },
    {
     "name": "stderr",
     "output_type": "stream",
     "text": [
      "[Parallel(n_jobs=-1)]: Done  56 tasks      | elapsed:    0.2s\n",
      "[Parallel(n_jobs=-1)]: Done 2160 tasks      | elapsed:    3.9s\n",
      "[Parallel(n_jobs=-1)]: Done 5530 out of 5530 | elapsed:    9.8s finished\n",
      "[Parallel(n_jobs=-1)]: Using backend LokyBackend with 8 concurrent workers.\n"
     ]
    },
    {
     "name": "stdout",
     "output_type": "stream",
     "text": [
      "Best parameters: {'max_depth': 4, 'min_samples_leaf': 75})\n",
      "Training score 68 :  0.33972314271556747\n",
      "Testing score 68 :  0.2925648006379963\n",
      "Input :  [188, 22.76, -89, 2, 0, 0, 0, 1, 1, 0, 0, 1, 1, 0, 0, 0, 0, 0, 0, 0, 0, 0, 0, 0, 1]\n",
      "Prediction :  [96.04761905]  minutes\n",
      "Fitting 10 folds for each of 553 candidates, totalling 5530 fits\n"
     ]
    },
    {
     "name": "stderr",
     "output_type": "stream",
     "text": [
      "[Parallel(n_jobs=-1)]: Done  56 tasks      | elapsed:    0.1s\n",
      "[Parallel(n_jobs=-1)]: Done 2160 tasks      | elapsed:    3.8s\n",
      "[Parallel(n_jobs=-1)]: Done 5530 out of 5530 | elapsed:    9.7s finished\n",
      "[Parallel(n_jobs=-1)]: Using backend LokyBackend with 8 concurrent workers.\n"
     ]
    },
    {
     "name": "stdout",
     "output_type": "stream",
     "text": [
      "Best parameters: {'max_depth': 5, 'min_samples_leaf': 66})\n",
      "Training score 69 :  0.3613690500407426\n",
      "Testing score 69 :  0.26999425789485054\n",
      "Input :  [188, 22.76, -89, 2, 0, 0, 0, 1, 1, 0, 0, 1, 1, 0, 0, 0, 0, 0, 0, 0, 0, 0, 0, 0, 1]\n",
      "Prediction :  [99.33]  minutes\n",
      "Fitting 10 folds for each of 553 candidates, totalling 5530 fits\n"
     ]
    },
    {
     "name": "stderr",
     "output_type": "stream",
     "text": [
      "[Parallel(n_jobs=-1)]: Done  56 tasks      | elapsed:    0.2s\n",
      "[Parallel(n_jobs=-1)]: Done 2160 tasks      | elapsed:    3.7s\n",
      "[Parallel(n_jobs=-1)]: Done 5530 out of 5530 | elapsed:    9.3s finished\n",
      "[Parallel(n_jobs=-1)]: Using backend LokyBackend with 8 concurrent workers.\n"
     ]
    },
    {
     "name": "stdout",
     "output_type": "stream",
     "text": [
      "Best parameters: {'max_depth': 4, 'min_samples_leaf': 76})\n",
      "Training score 70 :  0.3240825210392\n",
      "Testing score 70 :  0.31467540463564425\n",
      "Input :  [188, 22.76, -89, 2, 0, 0, 0, 1, 1, 0, 0, 1, 1, 0, 0, 0, 0, 0, 0, 0, 0, 0, 0, 0, 1]\n",
      "Prediction :  [96.43137255]  minutes\n",
      "Fitting 10 folds for each of 553 candidates, totalling 5530 fits\n"
     ]
    },
    {
     "name": "stderr",
     "output_type": "stream",
     "text": [
      "[Parallel(n_jobs=-1)]: Done  56 tasks      | elapsed:    0.2s\n",
      "[Parallel(n_jobs=-1)]: Done 2160 tasks      | elapsed:    3.9s\n",
      "[Parallel(n_jobs=-1)]: Done 5530 out of 5530 | elapsed:    9.6s finished\n",
      "[Parallel(n_jobs=-1)]: Using backend LokyBackend with 8 concurrent workers.\n"
     ]
    },
    {
     "name": "stdout",
     "output_type": "stream",
     "text": [
      "Best parameters: {'max_depth': 4, 'min_samples_leaf': 21})\n",
      "Training score 71 :  0.3970957312234409\n",
      "Testing score 71 :  0.22455897741577213\n",
      "Input :  [188, 22.76, -89, 2, 0, 0, 0, 1, 1, 0, 0, 1, 1, 0, 0, 0, 0, 0, 0, 0, 0, 0, 0, 0, 1]\n",
      "Prediction :  [104.97260274]  minutes\n",
      "Fitting 10 folds for each of 553 candidates, totalling 5530 fits\n"
     ]
    },
    {
     "name": "stderr",
     "output_type": "stream",
     "text": [
      "[Parallel(n_jobs=-1)]: Done  56 tasks      | elapsed:    0.2s\n",
      "[Parallel(n_jobs=-1)]: Done 2160 tasks      | elapsed:    3.8s\n",
      "[Parallel(n_jobs=-1)]: Done 5530 out of 5530 | elapsed:    9.6s finished\n",
      "[Parallel(n_jobs=-1)]: Using backend LokyBackend with 8 concurrent workers.\n"
     ]
    },
    {
     "name": "stdout",
     "output_type": "stream",
     "text": [
      "Best parameters: {'max_depth': 3, 'min_samples_leaf': 14})\n",
      "Training score 72 :  0.3741650624074142\n",
      "Testing score 72 :  0.23521643129324488\n",
      "Input :  [188, 22.76, -89, 2, 0, 0, 0, 1, 1, 0, 0, 1, 1, 0, 0, 0, 0, 0, 0, 0, 0, 0, 0, 0, 1]\n",
      "Prediction :  [107.1875]  minutes\n",
      "Fitting 10 folds for each of 553 candidates, totalling 5530 fits\n"
     ]
    },
    {
     "name": "stderr",
     "output_type": "stream",
     "text": [
      "[Parallel(n_jobs=-1)]: Done  56 tasks      | elapsed:    0.2s\n",
      "[Parallel(n_jobs=-1)]: Done 2160 tasks      | elapsed:    3.8s\n",
      "[Parallel(n_jobs=-1)]: Done 5530 out of 5530 | elapsed:    9.6s finished\n",
      "[Parallel(n_jobs=-1)]: Using backend LokyBackend with 8 concurrent workers.\n"
     ]
    },
    {
     "name": "stdout",
     "output_type": "stream",
     "text": [
      "Best parameters: {'max_depth': 3, 'min_samples_leaf': 37})\n",
      "Training score 73 :  0.3627911836674693\n",
      "Testing score 73 :  0.2683035462919443\n",
      "Input :  [188, 22.76, -89, 2, 0, 0, 0, 1, 1, 0, 0, 1, 1, 0, 0, 0, 0, 0, 0, 0, 0, 0, 0, 0, 1]\n",
      "Prediction :  [98.6875]  minutes\n",
      "Fitting 10 folds for each of 553 candidates, totalling 5530 fits\n"
     ]
    },
    {
     "name": "stderr",
     "output_type": "stream",
     "text": [
      "[Parallel(n_jobs=-1)]: Done  56 tasks      | elapsed:    0.2s\n",
      "[Parallel(n_jobs=-1)]: Done 2160 tasks      | elapsed:    3.8s\n",
      "[Parallel(n_jobs=-1)]: Done 5530 out of 5530 | elapsed:    9.6s finished\n",
      "[Parallel(n_jobs=-1)]: Using backend LokyBackend with 8 concurrent workers.\n"
     ]
    },
    {
     "name": "stdout",
     "output_type": "stream",
     "text": [
      "Best parameters: {'max_depth': 4, 'min_samples_leaf': 72})\n",
      "Training score 74 :  0.33334914700119544\n",
      "Testing score 74 :  0.3224547897768517\n",
      "Input :  [188, 22.76, -89, 2, 0, 0, 0, 1, 1, 0, 0, 1, 1, 0, 0, 0, 0, 0, 0, 0, 0, 0, 0, 0, 1]\n",
      "Prediction :  [98.32432432]  minutes\n",
      "Fitting 10 folds for each of 553 candidates, totalling 5530 fits\n"
     ]
    },
    {
     "name": "stderr",
     "output_type": "stream",
     "text": [
      "[Parallel(n_jobs=-1)]: Done  56 tasks      | elapsed:    0.2s\n",
      "[Parallel(n_jobs=-1)]: Done 2160 tasks      | elapsed:    3.8s\n",
      "[Parallel(n_jobs=-1)]: Done 5530 out of 5530 | elapsed:    9.6s finished\n",
      "[Parallel(n_jobs=-1)]: Using backend LokyBackend with 8 concurrent workers.\n"
     ]
    },
    {
     "name": "stdout",
     "output_type": "stream",
     "text": [
      "Best parameters: {'max_depth': 4, 'min_samples_leaf': 22})\n",
      "Training score 75 :  0.3735635111912754\n",
      "Testing score 75 :  0.2897184876342289\n",
      "Input :  [188, 22.76, -89, 2, 0, 0, 0, 1, 1, 0, 0, 1, 1, 0, 0, 0, 0, 0, 0, 0, 0, 0, 0, 0, 1]\n",
      "Prediction :  [105.921875]  minutes\n",
      "Fitting 10 folds for each of 553 candidates, totalling 5530 fits\n"
     ]
    },
    {
     "name": "stderr",
     "output_type": "stream",
     "text": [
      "[Parallel(n_jobs=-1)]: Done  56 tasks      | elapsed:    0.2s\n",
      "[Parallel(n_jobs=-1)]: Done 1200 tasks      | elapsed:    3.6s\n",
      "[Parallel(n_jobs=-1)]: Done 3200 tasks      | elapsed:    9.0s\n",
      "[Parallel(n_jobs=-1)]: Done 5530 out of 5530 | elapsed:   14.7s finished\n",
      "[Parallel(n_jobs=-1)]: Using backend LokyBackend with 8 concurrent workers.\n"
     ]
    },
    {
     "name": "stdout",
     "output_type": "stream",
     "text": [
      "Best parameters: {'max_depth': 3, 'min_samples_leaf': 79})\n",
      "Training score 76 :  0.32001521902719954\n",
      "Testing score 76 :  0.35348295784473305\n",
      "Input :  [188, 22.76, -89, 2, 0, 0, 0, 1, 1, 0, 0, 1, 1, 0, 0, 0, 0, 0, 0, 0, 0, 0, 0, 0, 1]\n",
      "Prediction :  [99.73636364]  minutes\n",
      "Fitting 10 folds for each of 553 candidates, totalling 5530 fits\n"
     ]
    },
    {
     "name": "stderr",
     "output_type": "stream",
     "text": [
      "[Parallel(n_jobs=-1)]: Done  56 tasks      | elapsed:    0.2s\n",
      "[Parallel(n_jobs=-1)]: Done 2160 tasks      | elapsed:    5.1s\n",
      "[Parallel(n_jobs=-1)]: Done 5530 out of 5530 | elapsed:   11.1s finished\n",
      "[Parallel(n_jobs=-1)]: Using backend LokyBackend with 8 concurrent workers.\n"
     ]
    },
    {
     "name": "stdout",
     "output_type": "stream",
     "text": [
      "Best parameters: {'max_depth': 4, 'min_samples_leaf': 79})\n",
      "Training score 77 :  0.33986540173226354\n",
      "Testing score 77 :  0.30502613964713265\n",
      "Input :  [188, 22.76, -89, 2, 0, 0, 0, 1, 1, 0, 0, 1, 1, 0, 0, 0, 0, 0, 0, 0, 0, 0, 0, 0, 1]\n",
      "Prediction :  [95.63063063]  minutes\n",
      "Fitting 10 folds for each of 553 candidates, totalling 5530 fits\n"
     ]
    },
    {
     "name": "stderr",
     "output_type": "stream",
     "text": [
      "[Parallel(n_jobs=-1)]: Done  56 tasks      | elapsed:    0.2s\n",
      "[Parallel(n_jobs=-1)]: Done 2160 tasks      | elapsed:    4.0s\n",
      "[Parallel(n_jobs=-1)]: Done 5530 out of 5530 | elapsed:    9.9s finished\n",
      "[Parallel(n_jobs=-1)]: Using backend LokyBackend with 8 concurrent workers.\n"
     ]
    },
    {
     "name": "stdout",
     "output_type": "stream",
     "text": [
      "Best parameters: {'max_depth': 3, 'min_samples_leaf': 40})\n",
      "Training score 78 :  0.33252550022965666\n",
      "Testing score 78 :  0.35574568801967266\n",
      "Input :  [188, 22.76, -89, 2, 0, 0, 0, 1, 1, 0, 0, 1, 1, 0, 0, 0, 0, 0, 0, 0, 0, 0, 0, 0, 1]\n",
      "Prediction :  [103.17877095]  minutes\n",
      "Fitting 10 folds for each of 553 candidates, totalling 5530 fits\n"
     ]
    },
    {
     "name": "stderr",
     "output_type": "stream",
     "text": [
      "[Parallel(n_jobs=-1)]: Done  56 tasks      | elapsed:    0.2s\n",
      "[Parallel(n_jobs=-1)]: Done 2160 tasks      | elapsed:    4.0s\n",
      "[Parallel(n_jobs=-1)]: Done 5530 out of 5530 | elapsed:    9.9s finished\n",
      "[Parallel(n_jobs=-1)]: Using backend LokyBackend with 8 concurrent workers.\n"
     ]
    },
    {
     "name": "stdout",
     "output_type": "stream",
     "text": [
      "Best parameters: {'max_depth': 3, 'min_samples_leaf': 42})\n",
      "Training score 79 :  0.3462175244578467\n",
      "Testing score 79 :  0.32725634269972825\n",
      "Input :  [188, 22.76, -89, 2, 0, 0, 0, 1, 1, 0, 0, 1, 1, 0, 0, 0, 0, 0, 0, 0, 0, 0, 0, 0, 1]\n",
      "Prediction :  [97.48888889]  minutes\n",
      "Fitting 10 folds for each of 553 candidates, totalling 5530 fits\n"
     ]
    },
    {
     "name": "stderr",
     "output_type": "stream",
     "text": [
      "[Parallel(n_jobs=-1)]: Done  56 tasks      | elapsed:    0.2s\n",
      "[Parallel(n_jobs=-1)]: Done 2160 tasks      | elapsed:    4.0s\n",
      "[Parallel(n_jobs=-1)]: Done 5530 out of 5530 | elapsed:   10.1s finished\n",
      "[Parallel(n_jobs=-1)]: Using backend LokyBackend with 8 concurrent workers.\n"
     ]
    },
    {
     "name": "stdout",
     "output_type": "stream",
     "text": [
      "Best parameters: {'max_depth': 3, 'min_samples_leaf': 59})\n",
      "Training score 80 :  0.3491599335669697\n",
      "Testing score 80 :  0.30327720222751475\n",
      "Input :  [188, 22.76, -89, 2, 0, 0, 0, 1, 1, 0, 0, 1, 1, 0, 0, 0, 0, 0, 0, 0, 0, 0, 0, 0, 1]\n",
      "Prediction :  [99.92640693]  minutes\n",
      "Fitting 10 folds for each of 553 candidates, totalling 5530 fits\n"
     ]
    },
    {
     "name": "stderr",
     "output_type": "stream",
     "text": [
      "[Parallel(n_jobs=-1)]: Done  56 tasks      | elapsed:    0.2s\n",
      "[Parallel(n_jobs=-1)]: Done 2160 tasks      | elapsed:    4.2s\n",
      "[Parallel(n_jobs=-1)]: Done 5530 out of 5530 | elapsed:   12.5s finished\n",
      "[Parallel(n_jobs=-1)]: Using backend LokyBackend with 8 concurrent workers.\n"
     ]
    },
    {
     "name": "stdout",
     "output_type": "stream",
     "text": [
      "Best parameters: {'max_depth': 5, 'min_samples_leaf': 26})\n",
      "Training score 81 :  0.3870207961035401\n",
      "Testing score 81 :  0.28328601680109866\n",
      "Input :  [188, 22.76, -89, 2, 0, 0, 0, 1, 1, 0, 0, 1, 1, 0, 0, 0, 0, 0, 0, 0, 0, 0, 0, 0, 1]\n",
      "Prediction :  [111.10344828]  minutes\n",
      "Fitting 10 folds for each of 553 candidates, totalling 5530 fits\n"
     ]
    },
    {
     "name": "stderr",
     "output_type": "stream",
     "text": [
      "[Parallel(n_jobs=-1)]: Done  56 tasks      | elapsed:    0.4s\n",
      "[Parallel(n_jobs=-1)]: Done 1200 tasks      | elapsed:    2.9s\n",
      "[Parallel(n_jobs=-1)]: Done 3200 tasks      | elapsed:    6.5s\n",
      "[Parallel(n_jobs=-1)]: Done 5530 out of 5530 | elapsed:   10.5s finished\n",
      "[Parallel(n_jobs=-1)]: Using backend LokyBackend with 8 concurrent workers.\n"
     ]
    },
    {
     "name": "stdout",
     "output_type": "stream",
     "text": [
      "Best parameters: {'max_depth': 4, 'min_samples_leaf': 47})\n",
      "Training score 82 :  0.3531964577565956\n",
      "Testing score 82 :  0.294991074544541\n",
      "Input :  [188, 22.76, -89, 2, 0, 0, 0, 1, 1, 0, 0, 1, 1, 0, 0, 0, 0, 0, 0, 0, 0, 0, 0, 0, 1]\n",
      "Prediction :  [103.65671642]  minutes\n",
      "Fitting 10 folds for each of 553 candidates, totalling 5530 fits\n"
     ]
    },
    {
     "name": "stderr",
     "output_type": "stream",
     "text": [
      "[Parallel(n_jobs=-1)]: Done  56 tasks      | elapsed:    0.2s\n",
      "[Parallel(n_jobs=-1)]: Done 3824 tasks      | elapsed:    6.7s\n",
      "[Parallel(n_jobs=-1)]: Done 5530 out of 5530 | elapsed:    9.5s finished\n",
      "[Parallel(n_jobs=-1)]: Using backend LokyBackend with 8 concurrent workers.\n"
     ]
    },
    {
     "name": "stdout",
     "output_type": "stream",
     "text": [
      "Best parameters: {'max_depth': 3, 'min_samples_leaf': 46})\n",
      "Training score 83 :  0.3548640531339401\n",
      "Testing score 83 :  0.2388508568523281\n",
      "Input :  [188, 22.76, -89, 2, 0, 0, 0, 1, 1, 0, 0, 1, 1, 0, 0, 0, 0, 0, 0, 0, 0, 0, 0, 0, 1]\n",
      "Prediction :  [100.29533679]  minutes\n",
      "Fitting 10 folds for each of 553 candidates, totalling 5530 fits\n"
     ]
    },
    {
     "name": "stderr",
     "output_type": "stream",
     "text": [
      "[Parallel(n_jobs=-1)]: Done  56 tasks      | elapsed:    0.2s\n",
      "[Parallel(n_jobs=-1)]: Done 2160 tasks      | elapsed:    3.8s\n",
      "[Parallel(n_jobs=-1)]: Done 5530 out of 5530 | elapsed:    9.5s finished\n",
      "[Parallel(n_jobs=-1)]: Using backend LokyBackend with 8 concurrent workers.\n"
     ]
    },
    {
     "name": "stdout",
     "output_type": "stream",
     "text": [
      "Best parameters: {'max_depth': 5, 'min_samples_leaf': 47})\n",
      "Training score 84 :  0.38017771562596814\n",
      "Testing score 84 :  0.24458600231958005\n",
      "Input :  [188, 22.76, -89, 2, 0, 0, 0, 1, 1, 0, 0, 1, 1, 0, 0, 0, 0, 0, 0, 0, 0, 0, 0, 0, 1]\n",
      "Prediction :  [91.86440678]  minutes\n",
      "Fitting 10 folds for each of 553 candidates, totalling 5530 fits\n"
     ]
    },
    {
     "name": "stderr",
     "output_type": "stream",
     "text": [
      "[Parallel(n_jobs=-1)]: Done  56 tasks      | elapsed:    0.2s\n",
      "[Parallel(n_jobs=-1)]: Done 2160 tasks      | elapsed:    3.8s\n",
      "[Parallel(n_jobs=-1)]: Done 5530 out of 5530 | elapsed:    9.6s finished\n",
      "[Parallel(n_jobs=-1)]: Using backend LokyBackend with 8 concurrent workers.\n"
     ]
    },
    {
     "name": "stdout",
     "output_type": "stream",
     "text": [
      "Best parameters: {'max_depth': 4, 'min_samples_leaf': 40})\n",
      "Training score 85 :  0.3630178907680782\n",
      "Testing score 85 :  0.3136077704336858\n",
      "Input :  [188, 22.76, -89, 2, 0, 0, 0, 1, 1, 0, 0, 1, 1, 0, 0, 0, 0, 0, 0, 0, 0, 0, 0, 0, 1]\n",
      "Prediction :  [101.90243902]  minutes\n",
      "Fitting 10 folds for each of 553 candidates, totalling 5530 fits\n"
     ]
    },
    {
     "name": "stderr",
     "output_type": "stream",
     "text": [
      "[Parallel(n_jobs=-1)]: Done  56 tasks      | elapsed:    0.2s\n",
      "[Parallel(n_jobs=-1)]: Done 2160 tasks      | elapsed:    5.6s\n",
      "[Parallel(n_jobs=-1)]: Done 5530 out of 5530 | elapsed:   12.6s finished\n",
      "[Parallel(n_jobs=-1)]: Using backend LokyBackend with 8 concurrent workers.\n"
     ]
    },
    {
     "name": "stdout",
     "output_type": "stream",
     "text": [
      "Best parameters: {'max_depth': 4, 'min_samples_leaf': 77})\n",
      "Training score 86 :  0.3299994327807215\n",
      "Testing score 86 :  0.3366924334051917\n",
      "Input :  [188, 22.76, -89, 2, 0, 0, 0, 1, 1, 0, 0, 1, 1, 0, 0, 0, 0, 0, 0, 0, 0, 0, 0, 0, 1]\n",
      "Prediction :  [98.47115385]  minutes\n",
      "Fitting 10 folds for each of 553 candidates, totalling 5530 fits\n"
     ]
    },
    {
     "name": "stderr",
     "output_type": "stream",
     "text": [
      "[Parallel(n_jobs=-1)]: Done  56 tasks      | elapsed:    0.3s\n",
      "[Parallel(n_jobs=-1)]: Done 2160 tasks      | elapsed:    5.4s\n",
      "[Parallel(n_jobs=-1)]: Done 5530 out of 5530 | elapsed:   11.2s finished\n",
      "[Parallel(n_jobs=-1)]: Using backend LokyBackend with 8 concurrent workers.\n"
     ]
    },
    {
     "name": "stdout",
     "output_type": "stream",
     "text": [
      "Best parameters: {'max_depth': 5, 'min_samples_leaf': 61})\n",
      "Training score 87 :  0.3581962058959899\n",
      "Testing score 87 :  0.30515647906268273\n",
      "Input :  [188, 22.76, -89, 2, 0, 0, 0, 1, 1, 0, 0, 1, 1, 0, 0, 0, 0, 0, 0, 0, 0, 0, 0, 0, 1]\n",
      "Prediction :  [98.65686275]  minutes\n",
      "Fitting 10 folds for each of 553 candidates, totalling 5530 fits\n"
     ]
    },
    {
     "name": "stderr",
     "output_type": "stream",
     "text": [
      "[Parallel(n_jobs=-1)]: Done  56 tasks      | elapsed:    0.2s\n",
      "[Parallel(n_jobs=-1)]: Done 2160 tasks      | elapsed:    3.8s\n",
      "[Parallel(n_jobs=-1)]: Done 5530 out of 5530 | elapsed:    9.7s finished\n",
      "[Parallel(n_jobs=-1)]: Using backend LokyBackend with 8 concurrent workers.\n"
     ]
    },
    {
     "name": "stdout",
     "output_type": "stream",
     "text": [
      "Best parameters: {'max_depth': 5, 'min_samples_leaf': 54})\n",
      "Training score 88 :  0.35346011543134626\n",
      "Testing score 88 :  0.3088853218323635\n",
      "Input :  [188, 22.76, -89, 2, 0, 0, 0, 1, 1, 0, 0, 1, 1, 0, 0, 0, 0, 0, 0, 0, 0, 0, 0, 0, 1]\n",
      "Prediction :  [101.03703704]  minutes\n",
      "Fitting 10 folds for each of 553 candidates, totalling 5530 fits\n"
     ]
    },
    {
     "name": "stderr",
     "output_type": "stream",
     "text": [
      "[Parallel(n_jobs=-1)]: Done  56 tasks      | elapsed:    0.2s\n",
      "[Parallel(n_jobs=-1)]: Done 2160 tasks      | elapsed:    3.7s\n",
      "[Parallel(n_jobs=-1)]: Done 5530 out of 5530 | elapsed:    9.7s finished\n",
      "[Parallel(n_jobs=-1)]: Using backend LokyBackend with 8 concurrent workers.\n"
     ]
    },
    {
     "name": "stdout",
     "output_type": "stream",
     "text": [
      "Best parameters: {'max_depth': 3, 'min_samples_leaf': 43})\n",
      "Training score 89 :  0.34545034183527623\n",
      "Testing score 89 :  0.29877776213507823\n",
      "Input :  [188, 22.76, -89, 2, 0, 0, 0, 1, 1, 0, 0, 1, 1, 0, 0, 0, 0, 0, 0, 0, 0, 0, 0, 0, 1]\n",
      "Prediction :  [95.88181818]  minutes\n",
      "Fitting 10 folds for each of 553 candidates, totalling 5530 fits\n"
     ]
    },
    {
     "name": "stderr",
     "output_type": "stream",
     "text": [
      "[Parallel(n_jobs=-1)]: Done  56 tasks      | elapsed:    0.1s\n",
      "[Parallel(n_jobs=-1)]: Done 3824 tasks      | elapsed:    6.0s\n",
      "[Parallel(n_jobs=-1)]: Done 5530 out of 5530 | elapsed:    8.5s finished\n",
      "[Parallel(n_jobs=-1)]: Using backend LokyBackend with 8 concurrent workers.\n"
     ]
    },
    {
     "name": "stdout",
     "output_type": "stream",
     "text": [
      "Best parameters: {'max_depth': 4, 'min_samples_leaf': 78})\n",
      "Training score 90 :  0.3390344503052938\n",
      "Testing score 90 :  0.293680399154406\n",
      "Input :  [188, 22.76, -89, 2, 0, 0, 0, 1, 1, 0, 0, 1, 1, 0, 0, 0, 0, 0, 0, 0, 0, 0, 0, 0, 1]\n",
      "Prediction :  [97.2038835]  minutes\n",
      "Fitting 10 folds for each of 553 candidates, totalling 5530 fits\n"
     ]
    },
    {
     "name": "stderr",
     "output_type": "stream",
     "text": [
      "[Parallel(n_jobs=-1)]: Done  56 tasks      | elapsed:    0.1s\n",
      "[Parallel(n_jobs=-1)]: Done 3824 tasks      | elapsed:    5.9s\n",
      "[Parallel(n_jobs=-1)]: Done 5530 out of 5530 | elapsed:    8.4s finished\n",
      "[Parallel(n_jobs=-1)]: Using backend LokyBackend with 8 concurrent workers.\n"
     ]
    },
    {
     "name": "stdout",
     "output_type": "stream",
     "text": [
      "Best parameters: {'max_depth': 4, 'min_samples_leaf': 15})\n",
      "Training score 91 :  0.37543643913606783\n",
      "Testing score 91 :  0.2915945781354574\n",
      "Input :  [188, 22.76, -89, 2, 0, 0, 0, 1, 1, 0, 0, 1, 1, 0, 0, 0, 0, 0, 0, 0, 0, 0, 0, 0, 1]\n",
      "Prediction :  [99.4939759]  minutes\n",
      "Fitting 10 folds for each of 553 candidates, totalling 5530 fits\n"
     ]
    },
    {
     "name": "stderr",
     "output_type": "stream",
     "text": [
      "[Parallel(n_jobs=-1)]: Done  56 tasks      | elapsed:    0.1s\n",
      "[Parallel(n_jobs=-1)]: Done 3824 tasks      | elapsed:    5.8s\n",
      "[Parallel(n_jobs=-1)]: Done 5530 out of 5530 | elapsed:    8.4s finished\n",
      "[Parallel(n_jobs=-1)]: Using backend LokyBackend with 8 concurrent workers.\n"
     ]
    },
    {
     "name": "stdout",
     "output_type": "stream",
     "text": [
      "Best parameters: {'max_depth': 4, 'min_samples_leaf': 47})\n",
      "Training score 92 :  0.3761861676335214\n",
      "Testing score 92 :  0.24858377200328496\n",
      "Input :  [188, 22.76, -89, 2, 0, 0, 0, 1, 1, 0, 0, 1, 1, 0, 0, 0, 0, 0, 0, 0, 0, 0, 0, 0, 1]\n",
      "Prediction :  [89.82191781]  minutes\n",
      "Fitting 10 folds for each of 553 candidates, totalling 5530 fits\n"
     ]
    },
    {
     "name": "stderr",
     "output_type": "stream",
     "text": [
      "[Parallel(n_jobs=-1)]: Done  56 tasks      | elapsed:    0.1s\n",
      "[Parallel(n_jobs=-1)]: Done 3824 tasks      | elapsed:    5.8s\n",
      "[Parallel(n_jobs=-1)]: Done 5530 out of 5530 | elapsed:    8.3s finished\n",
      "[Parallel(n_jobs=-1)]: Using backend LokyBackend with 8 concurrent workers.\n"
     ]
    },
    {
     "name": "stdout",
     "output_type": "stream",
     "text": [
      "Best parameters: {'max_depth': 3, 'min_samples_leaf': 41})\n",
      "Training score 93 :  0.36662148816177886\n",
      "Testing score 93 :  0.22626315593401636\n",
      "Input :  [188, 22.76, -89, 2, 0, 0, 0, 1, 1, 0, 0, 1, 1, 0, 0, 0, 0, 0, 0, 0, 0, 0, 0, 0, 1]\n",
      "Prediction :  [98.28421053]  minutes\n",
      "Fitting 10 folds for each of 553 candidates, totalling 5530 fits\n"
     ]
    },
    {
     "name": "stderr",
     "output_type": "stream",
     "text": [
      "[Parallel(n_jobs=-1)]: Done  56 tasks      | elapsed:    0.1s\n",
      "[Parallel(n_jobs=-1)]: Done 3824 tasks      | elapsed:    7.5s\n",
      "[Parallel(n_jobs=-1)]: Done 5530 out of 5530 | elapsed:   10.3s finished\n",
      "[Parallel(n_jobs=-1)]: Using backend LokyBackend with 8 concurrent workers.\n"
     ]
    },
    {
     "name": "stdout",
     "output_type": "stream",
     "text": [
      "Best parameters: {'max_depth': 3, 'min_samples_leaf': 78})\n",
      "Training score 94 :  0.3060782608039092\n",
      "Testing score 94 :  0.3549909684951216\n",
      "Input :  [188, 22.76, -89, 2, 0, 0, 0, 1, 1, 0, 0, 1, 1, 0, 0, 0, 0, 0, 0, 0, 0, 0, 0, 0, 1]\n",
      "Prediction :  [103.93594306]  minutes\n",
      "Fitting 10 folds for each of 553 candidates, totalling 5530 fits\n"
     ]
    },
    {
     "name": "stderr",
     "output_type": "stream",
     "text": [
      "[Parallel(n_jobs=-1)]: Done  56 tasks      | elapsed:    0.2s\n",
      "[Parallel(n_jobs=-1)]: Done 2160 tasks      | elapsed:    3.7s\n",
      "[Parallel(n_jobs=-1)]: Done 5530 out of 5530 | elapsed:   10.1s finished\n",
      "[Parallel(n_jobs=-1)]: Using backend LokyBackend with 8 concurrent workers.\n"
     ]
    },
    {
     "name": "stdout",
     "output_type": "stream",
     "text": [
      "Best parameters: {'max_depth': 3, 'min_samples_leaf': 16})\n",
      "Training score 95 :  0.34862812577289215\n",
      "Testing score 95 :  0.3311316174764797\n",
      "Input :  [188, 22.76, -89, 2, 0, 0, 0, 1, 1, 0, 0, 1, 1, 0, 0, 0, 0, 0, 0, 0, 0, 0, 0, 0, 1]\n",
      "Prediction :  [102.54651163]  minutes\n",
      "Fitting 10 folds for each of 553 candidates, totalling 5530 fits\n"
     ]
    },
    {
     "name": "stderr",
     "output_type": "stream",
     "text": [
      "[Parallel(n_jobs=-1)]: Done  56 tasks      | elapsed:    0.1s\n",
      "[Parallel(n_jobs=-1)]: Done 3824 tasks      | elapsed:    9.5s\n",
      "[Parallel(n_jobs=-1)]: Done 5530 out of 5530 | elapsed:   12.2s finished\n",
      "[Parallel(n_jobs=-1)]: Using backend LokyBackend with 8 concurrent workers.\n"
     ]
    },
    {
     "name": "stdout",
     "output_type": "stream",
     "text": [
      "Best parameters: {'max_depth': 3, 'min_samples_leaf': 79})\n",
      "Training score 96 :  0.3089267967986684\n",
      "Testing score 96 :  0.3425504276169885\n",
      "Input :  [188, 22.76, -89, 2, 0, 0, 0, 1, 1, 0, 0, 1, 1, 0, 0, 0, 0, 0, 0, 0, 0, 0, 0, 0, 1]\n",
      "Prediction :  [102.04191617]  minutes\n",
      "Fitting 10 folds for each of 553 candidates, totalling 5530 fits\n"
     ]
    },
    {
     "name": "stderr",
     "output_type": "stream",
     "text": [
      "[Parallel(n_jobs=-1)]: Done  56 tasks      | elapsed:    0.2s\n",
      "[Parallel(n_jobs=-1)]: Done 2160 tasks      | elapsed:    3.7s\n",
      "[Parallel(n_jobs=-1)]: Done 5530 out of 5530 | elapsed:    9.5s finished\n",
      "[Parallel(n_jobs=-1)]: Using backend LokyBackend with 8 concurrent workers.\n"
     ]
    },
    {
     "name": "stdout",
     "output_type": "stream",
     "text": [
      "Best parameters: {'max_depth': 3, 'min_samples_leaf': 47})\n",
      "Training score 97 :  0.3487961697367332\n",
      "Testing score 97 :  0.32165928144467903\n",
      "Input :  [188, 22.76, -89, 2, 0, 0, 0, 1, 1, 0, 0, 1, 1, 0, 0, 0, 0, 0, 0, 0, 0, 0, 0, 0, 1]\n",
      "Prediction :  [96.63846154]  minutes\n",
      "Fitting 10 folds for each of 553 candidates, totalling 5530 fits\n"
     ]
    },
    {
     "name": "stderr",
     "output_type": "stream",
     "text": [
      "[Parallel(n_jobs=-1)]: Done  56 tasks      | elapsed:    0.1s\n",
      "[Parallel(n_jobs=-1)]: Done 2160 tasks      | elapsed:    3.8s\n",
      "[Parallel(n_jobs=-1)]: Done 5530 out of 5530 | elapsed:    9.5s finished\n",
      "[Parallel(n_jobs=-1)]: Using backend LokyBackend with 8 concurrent workers.\n"
     ]
    },
    {
     "name": "stdout",
     "output_type": "stream",
     "text": [
      "Best parameters: {'max_depth': 4, 'min_samples_leaf': 79})\n",
      "Training score 98 :  0.3356728330712041\n",
      "Testing score 98 :  0.3205669062273063\n",
      "Input :  [188, 22.76, -89, 2, 0, 0, 0, 1, 1, 0, 0, 1, 1, 0, 0, 0, 0, 0, 0, 0, 0, 0, 0, 0, 1]\n",
      "Prediction :  [98.39583333]  minutes\n",
      "Fitting 10 folds for each of 553 candidates, totalling 5530 fits\n"
     ]
    },
    {
     "name": "stderr",
     "output_type": "stream",
     "text": [
      "[Parallel(n_jobs=-1)]: Done  56 tasks      | elapsed:    0.2s\n",
      "[Parallel(n_jobs=-1)]: Done 2160 tasks      | elapsed:    3.8s\n",
      "[Parallel(n_jobs=-1)]: Done 5530 out of 5530 | elapsed:    9.5s finished\n",
      "[Parallel(n_jobs=-1)]: Using backend LokyBackend with 8 concurrent workers.\n"
     ]
    },
    {
     "name": "stdout",
     "output_type": "stream",
     "text": [
      "Best parameters: {'max_depth': 4, 'min_samples_leaf': 67})\n",
      "Training score 99 :  0.34104777120471386\n",
      "Testing score 99 :  0.3024802362080188\n",
      "Input :  [188, 22.76, -89, 2, 0, 0, 0, 1, 1, 0, 0, 1, 1, 0, 0, 0, 0, 0, 0, 0, 0, 0, 0, 0, 1]\n",
      "Prediction :  [99.21348315]  minutes\n",
      "Fitting 10 folds for each of 553 candidates, totalling 5530 fits\n"
     ]
    },
    {
     "name": "stderr",
     "output_type": "stream",
     "text": [
      "[Parallel(n_jobs=-1)]: Done  56 tasks      | elapsed:    0.2s\n",
      "[Parallel(n_jobs=-1)]: Done 2160 tasks      | elapsed:    3.8s\n"
     ]
    },
    {
     "name": "stdout",
     "output_type": "stream",
     "text": [
      "Best parameters: {'max_depth': 3, 'min_samples_leaf': 53})\n",
      "Training score 100 :  0.34479487797507924\n",
      "Testing score 100 :  0.31923108947647394\n",
      "Input :  [188, 22.76, -89, 2, 0, 0, 0, 1, 1, 0, 0, 1, 1, 0, 0, 0, 0, 0, 0, 0, 0, 0, 0, 0, 1]\n",
      "Prediction :  [101.28813559]  minutes\n",
      "------------------------------------------------------------------------------------------------\n",
      "Test scores :  [0.31064023853769496, 0.28713715026388764, 0.28791997136537306, 0.29825858640550007, 0.3110130771935833, 0.27601262954145267, 0.3262829024417805, 0.3283903988305875, 0.1912187274182281, 0.18117262280592805, 0.32502391130775987, 0.32265775552764564, 0.2673962705963766, 0.28086167095022496, 0.2923512186149225, 0.3436992503583953, 0.2923054108438824, 0.29296279832658556, 0.33303087468302583, 0.2722725968378058, 0.2521708531122374, 0.30245609339423807, 0.2567705717328076, 0.28875600666855816, 0.23947452293974802, 0.2621237506378099, 0.30394702106608174, 0.31352562390726224, 0.30815531868819157, 0.3391688819163574, 0.27199418361140604, 0.32788478629770057, 0.29712031108494497, 0.31859081843892967, 0.3453836856177095, 0.20500164824426859, 0.33702899385538554, 0.34225336260608075, 0.3426124803045295, 0.278629609284184, 0.14993475755729113, 0.32442593021622557, 0.2646723375156923, 0.3399485797669042, 0.29309756874158543, 0.3339736065163639, 0.3392631651877279, 0.28085014601520597, 0.214589666833765, 0.2938631181494522, 0.23548971451861722, 0.1259676504750218, 0.2590057283006929, 0.35142630087343074, 0.27343365011133935, 0.25337813741171034, 0.2947586462316363, 0.25557299613376316, 0.29860386666939576, 0.2501708896841651, 0.276696494358173, 0.26795047578689524, 0.34127729491083425, 0.15916542782473886, 0.27239056048206267, 0.2279350617161927, 0.19430569561817412, 0.2925648006379963, 0.26999425789485054, 0.31467540463564425, 0.22455897741577213, 0.23521643129324488, 0.2683035462919443, 0.3224547897768517, 0.2897184876342289, 0.35348295784473305, 0.30502613964713265, 0.35574568801967266, 0.32725634269972825, 0.30327720222751475, 0.28328601680109866, 0.294991074544541, 0.2388508568523281, 0.24458600231958005, 0.3136077704336858, 0.3366924334051917, 0.30515647906268273, 0.3088853218323635, 0.29877776213507823, 0.293680399154406, 0.2915945781354574, 0.24858377200328496, 0.22626315593401636, 0.3549909684951216, 0.3311316174764797, 0.3425504276169885, 0.32165928144467903, 0.3205669062273063, 0.3024802362080188, 0.31923108947647394]\n",
      "Test scores average :  0.28765645229444226\n",
      "------------------------------------------------------------------------------------------------\n",
      "[97.43518518518519, 98.3425925925926, 97.88888888888889, 103.33333333333333, 97.17821782178218, 96.45528455284553, 102.26666666666667, 96.76271186440678, 105.11637931034483, 104.63636363636364, 101.70454545454545, 103.32738095238095, 96.47058823529412, 93.77551020408163, 96.45205479452055, 99.07291666666667, 113.2875, 91.88775510204081, 107.62025316455696, 90.91943127962085, 90.43636363636364, 102.84916201117318, 92.20754716981132, 98.6923076923077, 92.01036269430051, 107.72727272727273, 94.46766169154229, 97.07633587786259, 108.12987012987013, 104.14723926380368, 97.75824175824175, 101.41201716738198, 100.71794871794872, 91.74545454545455, 98.32786885245902, 103.76923076923077, 97.57943925233644, 109.58823529411765, 100.0827067669173, 101.71794871794872, 97.19, 96.1938775510204, 99.3763440860215, 110.025, 97.37037037037037, 97.96969696969697, 97.45283018867924, 109.14666666666666, 98.14285714285714, 101.45098039215686, 95.96, 104.55555555555556, 93.01960784313725, 91.76847290640394, 100.04123711340206, 95.12790697674419, 96.67676767676768, 98.26027397260275, 101.95628415300547, 106.55, 110.45964912280702, 99.50806451612904, 101.74721189591078, 98.56603773584905, 108.61538461538461, 96.78504672897196, 102.73913043478261, 96.04761904761905, 99.33, 96.43137254901961, 104.97260273972603, 107.1875, 98.6875, 98.32432432432432, 105.921875, 99.73636363636363, 95.63063063063063, 103.17877094972067, 97.4888888888889, 99.92640692640693, 111.10344827586206, 103.65671641791045, 100.29533678756476, 91.86440677966101, 101.90243902439025, 98.47115384615384, 98.65686274509804, 101.03703703703704, 95.88181818181818, 97.20388349514563, 99.49397590361446, 89.82191780821918, 98.28421052631579, 103.93594306049822, 102.54651162790698, 102.04191616766467, 96.63846153846154, 98.39583333333333, 99.21348314606742, 101.28813559322033]\n",
      "Average predicted length : 99.8562937504603\n"
     ]
    },
    {
     "name": "stderr",
     "output_type": "stream",
     "text": [
      "[Parallel(n_jobs=-1)]: Done 5530 out of 5530 | elapsed:   11.1s finished\n"
     ]
    }
   ],
   "source": [
    "### THE LOOP ###\n",
    "\n",
    "test_scores = []\n",
    "predictions = []\n",
    "\n",
    "iter = 100\n",
    "\n",
    "for i in range(iter) :\n",
    "\n",
    "    Xtrain, Xtest, ytrain, ytest = train_test_split(X, y, test_size=.3)\n",
    "    dtr_cv.fit(Xtrain, ytrain)\n",
    "\n",
    "    best_params = dtr_cv.best_params_\n",
    "    print(f\"Best parameters: {best_params})\")\n",
    "\n",
    "    dtr = DecisionTreeRegressor(**best_params)\n",
    "    dtr.fit(Xtrain, ytrain)\n",
    "\n",
    "    # Testing :\n",
    "\n",
    "    ypred = dtr.predict(Xtest)\n",
    "\n",
    "    print(f\"Training score {i+1} : \", dtr.score(Xtrain, ytrain))\n",
    "    print(f\"Testing score {i+1} : \", dtr.score(Xtest, ytest))\n",
    "    test_scores.append(dtr.score(Xtest, ytest))\n",
    "\n",
    "    # predictions.append(custom_predict(dtr, scale_x, scale_y, 175, 31.54, -98, 0, 4, 1, 2, 1, 4))      # 91 minutes\n",
    "    predictions.append(custom_predict(dtr, scale_x, scale_y, 188, 22.76, -89, 2, 4, 1, 2, 1, 8))      # 116 minutes\n",
    "    # predictions.append(custom_predict(dtr, scale_x, scale_y, 198, 24.66, -106, 3, 4, 1, 2, 1, 1))     # 107 minutes\n",
    "\n",
    "print(\"------------------------------------------------------------------------------------------------\")\n",
    "print(\"Test scores : \", test_scores)\n",
    "print(\"Test scores average : \", sum(test_scores)/len(test_scores))\n",
    "\n",
    "average_prediction = sum(predictions) / len(predictions)\n",
    "\n",
    "print(\"------------------------------------------------------------------------------------------------\")\n",
    "print(predictions)\n",
    "print(f\"Average predicted length : {average_prediction}\")"
   ]
  },
  {
   "cell_type": "code",
   "execution_count": 156,
   "metadata": {},
   "outputs": [
    {
     "data": {
      "text/plain": [
       "<matplotlib.lines.Line2D at 0x1ca38e0c908>"
      ]
     },
     "execution_count": 156,
     "metadata": {},
     "output_type": "execute_result"
    },
    {
     "data": {
      "image/png": "[encoded data removed]",
      "text/plain": [
       "<Figure size 1296x432 with 1 Axes>"
      ]
     },
     "metadata": {
      "needs_background": "light"
     },
     "output_type": "display_data"
    }
   ],
   "source": [
    "### HISTOGRAM ###\n",
    "\n",
    "# ATP Colors\n",
    "# Dark blue : #002865\n",
    "# Light blue : #00AFF0\n",
    "\n",
    "time_step = 15  # precision : 15/30/30 minutes\n",
    "intervals=np.arange(60, 300 + time_step, time_step)\n",
    "\n",
    "fig, ax = plt.subplots(1, figsize=(18,6))\n",
    "\n",
    "n, bins, patches = plt.hist(predictions, bins=intervals, color='#00AFF0')\n",
    "\n",
    "plt.xticks(bins)\n",
    "plt.grid(color='white', lw = 1, axis='x')\n",
    "\n",
    "plt.title('Distribution of Match Length Predictions')\n",
    "plt.xlabel(\"Minutes\")\n",
    "plt.ylabel(\"Nb of predictions\")\n",
    "\n",
    "# ax.spines['bottom'].set_visible(False)\n",
    "ax.spines['top'].set_visible(False)\n",
    "ax.spines['left'].set_visible(False)\n",
    "ax.spines['right'].set_visible(False)\n",
    "\n",
    "xticks = [(bins[idx+1] + value)/2 for idx, value in enumerate(bins[:-1])]\n",
    "plt.yticks([])\n",
    "\n",
    "for idx, value in enumerate(n) :\n",
    "    if value > 0 :\n",
    "        plt.text(xticks[idx], value + 1, f\"{int(100 * value / iter)}%\", ha='center')\n",
    "        plt.text(xticks[idx], value / 2, int(value), ha='center', color='w')\n",
    "\n",
    "plt.axvline(x=average_prediction, color='#002865')"
   ]
  },
  {
   "cell_type": "code",
   "execution_count": 153,
   "metadata": {},
   "outputs": [
    {
     "data": {
      "image/png": "[encoded data removed]",
      "text/plain": [
       "<IPython.core.display.Image object>"
      ]
     },
     "execution_count": 153,
     "metadata": {},
     "output_type": "execute_result"
    }
   ],
   "source": [
    "# TREE VISUALIZATION\n",
    "\n",
    "# Without True/False (sklearn)\n",
    "\n",
    "# x_ax = range(len(ytest))\n",
    "# plt.plot(x_ax, ytest, linewidth=1, label=\"original\")\n",
    "# plt.plot(x_ax, ypred, linewidth=1.1, label=\"predicted\")\n",
    "# plt.title(\"Y-test and y-predicted data\")\n",
    "# plt.xlabel('X-axis')\n",
    "# plt.ylabel('Y-axis')\n",
    "# plt.legend(loc='best',fancybox=True, shadow=True)\n",
    "# plt.grid(True)\n",
    "# plt.show()\n",
    "\n",
    "# plt.figure(figsize=(30,15))\n",
    "# tree.plot_tree(dtr,\n",
    "#           filled=True,\n",
    "#           rounded=True,\n",
    "#           fontsize=10,\n",
    "#           feature_names=[\"opp_ht\", \"opp_age\", \"rank_diff\", \"consecutive\", \"surface_Carpet\", \"surface_Clay\", \"surface_Grass\", \"surface_Hard\", \n",
    "#                          \"best_of_3\", \"best_of_5\", \"opp_hand_L\", \"opp_hand_R\", \n",
    "#                          'tourney_level_A', 'tourney_level_D', 'tourney_level_F', 'tourney_level_G', 'tourney_level_M', \n",
    "#                          'round_F', 'round_QF', 'round_R128', 'round_R16', 'round_R32', 'round_R64', 'round_RR', 'round_SF'])\n",
    "\n",
    "# # plt.savefig('tree_high_dpi', dpi=600)\n",
    "\n",
    "# # With True/False label (pydot)\n",
    "\n",
    "from IPython.display import Image\n",
    "from six import StringIO\n",
    "from sklearn.tree import export_graphviz\n",
    "import pydot\n",
    "\n",
    "# def visualize_tree(dtr) :\n",
    "\n",
    "features = list(player1.columns)\n",
    "features.remove(\"minutes\")\n",
    "\n",
    "dot_data = StringIO()\n",
    "export_graphviz(dtr, out_file=dot_data, feature_names=features, filled=True)\n",
    "graph = pydot.graph_from_dot_data(dot_data.getvalue())\n",
    "Image(graph[0].create_png())\n",
    "\n",
    "# visualize_tree(dtr)"
   ]
  },
  {
   "cell_type": "code",
   "execution_count": null,
   "metadata": {},
   "outputs": [],
   "source": []
  }
 ],
 "metadata": {
  "interpreter": {
   "hash": "0b93062363e5a5b4fa26c1845ae4a0b4a25f0e99a4bdf65960ff0b8d7a276f44"
  },
  "kernelspec": {
   "display_name": "Python 3.6.5 64-bit ('base': conda)",
   "language": "python",
   "name": "python3"
  },
  "language_info": {
   "codemirror_mode": {
    "name": "ipython",
    "version": 3
   },
   "file_extension": ".py",
   "mimetype": "text/x-python",
   "name": "python",
   "nbconvert_exporter": "python",
   "pygments_lexer": "ipython3",
   "version": "3.6.10"
  },
  "orig_nbformat": 4
 },
 "nbformat": 4,
 "nbformat_minor": 2
}
