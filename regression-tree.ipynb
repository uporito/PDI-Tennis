{
 "cells": [
  {
   "cell_type": "markdown",
   "metadata": {},
   "source": [
    "# Regression Tree\n",
    "\n",
    "It's time to design our generic regression tree model that can be applied to any player. It will be based on the regression tree we designed using Federer as an exemple."
   ]
  },
  {
   "cell_type": "code",
   "execution_count": 44,
   "metadata": {},
   "outputs": [],
   "source": [
    "### IMPORTS ###\n",
    "\n",
    "import numpy as np\n",
    "import pandas as pd\n",
    "import matplotlib.pyplot as plt"
   ]
  },
  {
   "cell_type": "markdown",
   "metadata": {},
   "source": [
    "We select the player and generate a table containing that player's matches which we will store in \"player.csv\", as to avoid creating one table for each player.  \n",
    "Note : This setup step has to be repeated each time we change players."
   ]
  },
  {
   "cell_type": "code",
   "execution_count": 45,
   "metadata": {},
   "outputs": [
    {
     "data": {
      "text/html": [
       "<div>\n",
       "<style scoped>\n",
       "    .dataframe tbody tr th:only-of-type {\n",
       "        vertical-align: middle;\n",
       "    }\n",
       "\n",
       "    .dataframe tbody tr th {\n",
       "        vertical-align: top;\n",
       "    }\n",
       "\n",
       "    .dataframe thead th {\n",
       "        text-align: right;\n",
       "    }\n",
       "</style>\n",
       "<table border=\"1\" class=\"dataframe\">\n",
       "  <thead>\n",
       "    <tr style=\"text-align: right;\">\n",
       "      <th></th>\n",
       "      <th>Unnamed: 0</th>\n",
       "      <th>Unnamed: 0.1</th>\n",
       "      <th>Unnamed: 0.1.1</th>\n",
       "      <th>tourney_name</th>\n",
       "      <th>surface</th>\n",
       "      <th>tourney_level</th>\n",
       "      <th>tourney_date</th>\n",
       "      <th>player_age</th>\n",
       "      <th>opp_name</th>\n",
       "      <th>opp_hand</th>\n",
       "      <th>...</th>\n",
       "      <th>score</th>\n",
       "      <th>best_of</th>\n",
       "      <th>round</th>\n",
       "      <th>minutes</th>\n",
       "      <th>player_rank</th>\n",
       "      <th>player_rank_points</th>\n",
       "      <th>opp_rank</th>\n",
       "      <th>opp_rank_points</th>\n",
       "      <th>player_won</th>\n",
       "      <th>consecutive</th>\n",
       "    </tr>\n",
       "  </thead>\n",
       "  <tbody>\n",
       "    <tr>\n",
       "      <th>0</th>\n",
       "      <td>0</td>\n",
       "      <td>0</td>\n",
       "      <td>39968</td>\n",
       "      <td>Bangkok</td>\n",
       "      <td>Hard</td>\n",
       "      <td>A</td>\n",
       "      <td>20040927</td>\n",
       "      <td>17.352498</td>\n",
       "      <td>Dennis Van Scheppingen</td>\n",
       "      <td>R</td>\n",
       "      <td>...</td>\n",
       "      <td>4-6 7-5 6-4</td>\n",
       "      <td>3</td>\n",
       "      <td>R32</td>\n",
       "      <td>112.0</td>\n",
       "      <td>248.0</td>\n",
       "      <td>148.0</td>\n",
       "      <td>81.0</td>\n",
       "      <td>496.0</td>\n",
       "      <td>0</td>\n",
       "      <td>0</td>\n",
       "    </tr>\n",
       "    <tr>\n",
       "      <th>1</th>\n",
       "      <td>1</td>\n",
       "      <td>1</td>\n",
       "      <td>41582</td>\n",
       "      <td>Umag</td>\n",
       "      <td>Clay</td>\n",
       "      <td>A</td>\n",
       "      <td>20040719</td>\n",
       "      <td>17.160849</td>\n",
       "      <td>Filippo Volandri</td>\n",
       "      <td>R</td>\n",
       "      <td>...</td>\n",
       "      <td>7-6(5) 6-1</td>\n",
       "      <td>3</td>\n",
       "      <td>R32</td>\n",
       "      <td>90.0</td>\n",
       "      <td>368.0</td>\n",
       "      <td>83.0</td>\n",
       "      <td>65.0</td>\n",
       "      <td>630.0</td>\n",
       "      <td>0</td>\n",
       "      <td>0</td>\n",
       "    </tr>\n",
       "    <tr>\n",
       "      <th>2</th>\n",
       "      <td>2</td>\n",
       "      <td>2</td>\n",
       "      <td>42684</td>\n",
       "      <td>Bucharest</td>\n",
       "      <td>Clay</td>\n",
       "      <td>A</td>\n",
       "      <td>20040913</td>\n",
       "      <td>17.314168</td>\n",
       "      <td>Arnaud Clement</td>\n",
       "      <td>R</td>\n",
       "      <td>...</td>\n",
       "      <td>2-6 6-4 6-4</td>\n",
       "      <td>3</td>\n",
       "      <td>R32</td>\n",
       "      <td>146.0</td>\n",
       "      <td>272.0</td>\n",
       "      <td>128.0</td>\n",
       "      <td>67.0</td>\n",
       "      <td>623.0</td>\n",
       "      <td>1</td>\n",
       "      <td>0</td>\n",
       "    </tr>\n",
       "    <tr>\n",
       "      <th>3</th>\n",
       "      <td>3</td>\n",
       "      <td>3</td>\n",
       "      <td>42693</td>\n",
       "      <td>Bucharest</td>\n",
       "      <td>Clay</td>\n",
       "      <td>A</td>\n",
       "      <td>20040913</td>\n",
       "      <td>17.314168</td>\n",
       "      <td>David Ferrer</td>\n",
       "      <td>R</td>\n",
       "      <td>...</td>\n",
       "      <td>4-6 6-4 6-4</td>\n",
       "      <td>3</td>\n",
       "      <td>R16</td>\n",
       "      <td>155.0</td>\n",
       "      <td>272.0</td>\n",
       "      <td>128.0</td>\n",
       "      <td>54.0</td>\n",
       "      <td>714.0</td>\n",
       "      <td>0</td>\n",
       "      <td>0</td>\n",
       "    </tr>\n",
       "    <tr>\n",
       "      <th>4</th>\n",
       "      <td>4</td>\n",
       "      <td>4</td>\n",
       "      <td>43520</td>\n",
       "      <td>Paris Masters</td>\n",
       "      <td>Carpet</td>\n",
       "      <td>M</td>\n",
       "      <td>20051031</td>\n",
       "      <td>18.444901</td>\n",
       "      <td>Victor Hanescu</td>\n",
       "      <td>R</td>\n",
       "      <td>...</td>\n",
       "      <td>4-1 RET</td>\n",
       "      <td>3</td>\n",
       "      <td>R64</td>\n",
       "      <td>19.0</td>\n",
       "      <td>85.0</td>\n",
       "      <td>488.0</td>\n",
       "      <td>37.0</td>\n",
       "      <td>853.0</td>\n",
       "      <td>1</td>\n",
       "      <td>0</td>\n",
       "    </tr>\n",
       "    <tr>\n",
       "      <th>...</th>\n",
       "      <td>...</td>\n",
       "      <td>...</td>\n",
       "      <td>...</td>\n",
       "      <td>...</td>\n",
       "      <td>...</td>\n",
       "      <td>...</td>\n",
       "      <td>...</td>\n",
       "      <td>...</td>\n",
       "      <td>...</td>\n",
       "      <td>...</td>\n",
       "      <td>...</td>\n",
       "      <td>...</td>\n",
       "      <td>...</td>\n",
       "      <td>...</td>\n",
       "      <td>...</td>\n",
       "      <td>...</td>\n",
       "      <td>...</td>\n",
       "      <td>...</td>\n",
       "      <td>...</td>\n",
       "      <td>...</td>\n",
       "      <td>...</td>\n",
       "    </tr>\n",
       "    <tr>\n",
       "      <th>1088</th>\n",
       "      <td>1088</td>\n",
       "      <td>1088</td>\n",
       "      <td>86190</td>\n",
       "      <td>Us Open</td>\n",
       "      <td>Hard</td>\n",
       "      <td>G</td>\n",
       "      <td>20210830</td>\n",
       "      <td>34.275154</td>\n",
       "      <td>Kei Nishikori</td>\n",
       "      <td>R</td>\n",
       "      <td>...</td>\n",
       "      <td>6-7(4) 6-3 6-3 6-2</td>\n",
       "      <td>5</td>\n",
       "      <td>R32</td>\n",
       "      <td>212.0</td>\n",
       "      <td>1.0</td>\n",
       "      <td>11113.0</td>\n",
       "      <td>56.0</td>\n",
       "      <td>1208.0</td>\n",
       "      <td>1</td>\n",
       "      <td>24</td>\n",
       "    </tr>\n",
       "    <tr>\n",
       "      <th>1089</th>\n",
       "      <td>1089</td>\n",
       "      <td>1089</td>\n",
       "      <td>86206</td>\n",
       "      <td>Us Open</td>\n",
       "      <td>Hard</td>\n",
       "      <td>G</td>\n",
       "      <td>20210830</td>\n",
       "      <td>34.275154</td>\n",
       "      <td>Jenson Brooksby</td>\n",
       "      <td>R</td>\n",
       "      <td>...</td>\n",
       "      <td>1-6 6-3 6-2 6-2</td>\n",
       "      <td>5</td>\n",
       "      <td>R16</td>\n",
       "      <td>179.0</td>\n",
       "      <td>1.0</td>\n",
       "      <td>11113.0</td>\n",
       "      <td>99.0</td>\n",
       "      <td>812.0</td>\n",
       "      <td>1</td>\n",
       "      <td>25</td>\n",
       "    </tr>\n",
       "    <tr>\n",
       "      <th>1090</th>\n",
       "      <td>1090</td>\n",
       "      <td>1090</td>\n",
       "      <td>86214</td>\n",
       "      <td>Us Open</td>\n",
       "      <td>Hard</td>\n",
       "      <td>G</td>\n",
       "      <td>20210830</td>\n",
       "      <td>34.275154</td>\n",
       "      <td>Matteo Berrettini</td>\n",
       "      <td>R</td>\n",
       "      <td>...</td>\n",
       "      <td>5-7 6-2 6-2 6-3</td>\n",
       "      <td>5</td>\n",
       "      <td>QF</td>\n",
       "      <td>207.0</td>\n",
       "      <td>1.0</td>\n",
       "      <td>11113.0</td>\n",
       "      <td>8.0</td>\n",
       "      <td>5533.0</td>\n",
       "      <td>1</td>\n",
       "      <td>26</td>\n",
       "    </tr>\n",
       "    <tr>\n",
       "      <th>1091</th>\n",
       "      <td>1091</td>\n",
       "      <td>1091</td>\n",
       "      <td>86218</td>\n",
       "      <td>Us Open</td>\n",
       "      <td>Hard</td>\n",
       "      <td>G</td>\n",
       "      <td>20210830</td>\n",
       "      <td>34.275154</td>\n",
       "      <td>Alexander Zverev</td>\n",
       "      <td>R</td>\n",
       "      <td>...</td>\n",
       "      <td>4-6 6-2 6-4 4-6 6-2</td>\n",
       "      <td>5</td>\n",
       "      <td>SF</td>\n",
       "      <td>214.0</td>\n",
       "      <td>1.0</td>\n",
       "      <td>11113.0</td>\n",
       "      <td>4.0</td>\n",
       "      <td>8240.0</td>\n",
       "      <td>1</td>\n",
       "      <td>27</td>\n",
       "    </tr>\n",
       "    <tr>\n",
       "      <th>1092</th>\n",
       "      <td>1092</td>\n",
       "      <td>1092</td>\n",
       "      <td>86220</td>\n",
       "      <td>Us Open</td>\n",
       "      <td>Hard</td>\n",
       "      <td>G</td>\n",
       "      <td>20210830</td>\n",
       "      <td>34.275154</td>\n",
       "      <td>Daniil Medvedev</td>\n",
       "      <td>R</td>\n",
       "      <td>...</td>\n",
       "      <td>6-4 6-4 6-4</td>\n",
       "      <td>5</td>\n",
       "      <td>F</td>\n",
       "      <td>136.0</td>\n",
       "      <td>1.0</td>\n",
       "      <td>11113.0</td>\n",
       "      <td>2.0</td>\n",
       "      <td>9980.0</td>\n",
       "      <td>0</td>\n",
       "      <td>0</td>\n",
       "    </tr>\n",
       "  </tbody>\n",
       "</table>\n",
       "<p>1093 rows × 23 columns</p>\n",
       "</div>"
      ],
      "text/plain": [
       "      Unnamed: 0  Unnamed: 0.1  Unnamed: 0.1.1   tourney_name surface  \\\n",
       "0              0             0           39968        Bangkok    Hard   \n",
       "1              1             1           41582           Umag    Clay   \n",
       "2              2             2           42684      Bucharest    Clay   \n",
       "3              3             3           42693      Bucharest    Clay   \n",
       "4              4             4           43520  Paris Masters  Carpet   \n",
       "...          ...           ...             ...            ...     ...   \n",
       "1088        1088          1088           86190        Us Open    Hard   \n",
       "1089        1089          1089           86206        Us Open    Hard   \n",
       "1090        1090          1090           86214        Us Open    Hard   \n",
       "1091        1091          1091           86218        Us Open    Hard   \n",
       "1092        1092          1092           86220        Us Open    Hard   \n",
       "\n",
       "     tourney_level  tourney_date  player_age                opp_name opp_hand  \\\n",
       "0                A      20040927   17.352498  Dennis Van Scheppingen        R   \n",
       "1                A      20040719   17.160849        Filippo Volandri        R   \n",
       "2                A      20040913   17.314168          Arnaud Clement        R   \n",
       "3                A      20040913   17.314168            David Ferrer        R   \n",
       "4                M      20051031   18.444901          Victor Hanescu        R   \n",
       "...            ...           ...         ...                     ...      ...   \n",
       "1088             G      20210830   34.275154           Kei Nishikori        R   \n",
       "1089             G      20210830   34.275154         Jenson Brooksby        R   \n",
       "1090             G      20210830   34.275154       Matteo Berrettini        R   \n",
       "1091             G      20210830   34.275154        Alexander Zverev        R   \n",
       "1092             G      20210830   34.275154         Daniil Medvedev        R   \n",
       "\n",
       "      ...                score best_of  round minutes  player_rank  \\\n",
       "0     ...          4-6 7-5 6-4       3    R32   112.0        248.0   \n",
       "1     ...           7-6(5) 6-1       3    R32    90.0        368.0   \n",
       "2     ...          2-6 6-4 6-4       3    R32   146.0        272.0   \n",
       "3     ...          4-6 6-4 6-4       3    R16   155.0        272.0   \n",
       "4     ...              4-1 RET       3    R64    19.0         85.0   \n",
       "...   ...                  ...     ...    ...     ...          ...   \n",
       "1088  ...   6-7(4) 6-3 6-3 6-2       5    R32   212.0          1.0   \n",
       "1089  ...      1-6 6-3 6-2 6-2       5    R16   179.0          1.0   \n",
       "1090  ...      5-7 6-2 6-2 6-3       5     QF   207.0          1.0   \n",
       "1091  ...  4-6 6-2 6-4 4-6 6-2       5     SF   214.0          1.0   \n",
       "1092  ...          6-4 6-4 6-4       5      F   136.0          1.0   \n",
       "\n",
       "     player_rank_points  opp_rank  opp_rank_points  player_won  consecutive  \n",
       "0                 148.0      81.0            496.0           0            0  \n",
       "1                  83.0      65.0            630.0           0            0  \n",
       "2                 128.0      67.0            623.0           1            0  \n",
       "3                 128.0      54.0            714.0           0            0  \n",
       "4                 488.0      37.0            853.0           1            0  \n",
       "...                 ...       ...              ...         ...          ...  \n",
       "1088            11113.0      56.0           1208.0           1           24  \n",
       "1089            11113.0      99.0            812.0           1           25  \n",
       "1090            11113.0       8.0           5533.0           1           26  \n",
       "1091            11113.0       4.0           8240.0           1           27  \n",
       "1092            11113.0       2.0           9980.0           0            0  \n",
       "\n",
       "[1093 rows x 23 columns]"
      ]
     },
     "metadata": {},
     "output_type": "display_data"
    },
    {
     "name": "stdout",
     "output_type": "stream",
     "text": [
      "Novak Djokovic has 1093 recorded matches.\n"
     ]
    }
   ],
   "source": [
    "### CLEAN PLAYER MATCHES TABLES ###\n",
    "\n",
    "PLAYER = \"Novak Djokovic\"\n",
    "setup = False\n",
    "\n",
    "if (setup) :    # Creating the table (if the player.csv table currently contains information for another player)\n",
    "\n",
    "    atp = pd.read_csv(\"atp_cat.csv\")\n",
    "\n",
    "    player_won = atp[atp[\"winner_name\"] == PLAYER]\n",
    "    player_lost = atp[atp[\"loser_name\"] == PLAYER]\n",
    "\n",
    "    # We'll drop all of the player's information except his age and rank\n",
    "    player_won = player_won.drop(labels=[\"winner_name\", \"winner_hand\", \"winner_ht\", \"winner_ioc\"], axis=1)\n",
    "    player_won = player_won.rename(columns={\"winner_age\": \"player_age\", \"winner_rank\": \"player_rank\", \"winner_rank_points\": \"player_rank_points\",\n",
    "                                    \"loser_name\":\"opp_name\", \"loser_hand\":\"opp_hand\", \"loser_ht\":\"opp_ht\", \"loser_ioc\":\"opp_ioc\", \"loser_age\":\"opp_age\",\n",
    "                                    \"loser_rank\": \"opp_rank\", \"loser_rank_points\": \"opp_rank_points\"})\n",
    "    player_won[\"index2\"] = player_won.index\n",
    "    player_won[\"player_won\"] = \"1\"\n",
    "\n",
    "    player_lost = player_lost.drop(labels=[\"loser_name\", \"loser_hand\", \"loser_ht\", \"loser_ioc\"], axis=1)\n",
    "    player_lost = player_lost.rename(columns={\"loser_age\": \"player_age\", \"loser_rank\": \"player_rank\", \"loser_rank_points\": \"player_rank_points\",\n",
    "                                        \"winner_name\":\"opp_name\", \"winner_hand\":\"opp_hand\", \"winner_ht\":\"opp_ht\", \"winner_ioc\":\"opp_ioc\", \"winner_age\":\"opp_age\",\n",
    "                                        \"winner_rank\": \"opp_rank\", \"winner_rank_points\": \"opp_rank_points\"})\n",
    "    player_lost[\"index2\"] = player_lost.index\n",
    "    player_lost[\"player_won\"] = \"0\"\n",
    "\n",
    "    player = pd.concat([player_won, player_lost])\n",
    "    player = player.drop([\"Unnamed: 0\", \"index2\"] , axis=1)\n",
    "    player.sort_index(inplace=True)\n",
    "\n",
    "    # Win streaks\n",
    "    result = player.player_won.astype(int)\n",
    "    consecutive = result.groupby((result != result.shift()).cumsum()).cumcount()\n",
    "    wins = pd.DataFrame({\"win\" : result, \"consecutive\" : consecutive})\n",
    "    m = wins.win == 1\n",
    "    wins.consecutive = wins.consecutive.where(m, 0)\n",
    "    player[\"consecutive\"] = wins.consecutive\n",
    "\n",
    "    player.to_csv(\"player.csv\")     # Saving the table for ease of use\n",
    "\n",
    "else :  # player.csv already contains this player's information\n",
    "\n",
    "    player = pd.read_csv(\"player.csv\")\n",
    "\n",
    "display(player)\n",
    "print(f\"{PLAYER} has {len(player)} recorded matches.\")"
   ]
  },
  {
   "cell_type": "code",
   "execution_count": 46,
   "metadata": {},
   "outputs": [
    {
     "data": {
      "text/html": [
       "<div>\n",
       "<style scoped>\n",
       "    .dataframe tbody tr th:only-of-type {\n",
       "        vertical-align: middle;\n",
       "    }\n",
       "\n",
       "    .dataframe tbody tr th {\n",
       "        vertical-align: top;\n",
       "    }\n",
       "\n",
       "    .dataframe thead th {\n",
       "        text-align: right;\n",
       "    }\n",
       "</style>\n",
       "<table border=\"1\" class=\"dataframe\">\n",
       "  <thead>\n",
       "    <tr style=\"text-align: right;\">\n",
       "      <th></th>\n",
       "      <th>Unnamed: 0</th>\n",
       "      <th>Unnamed: 0.1</th>\n",
       "      <th>Unnamed: 0.1.1</th>\n",
       "      <th>tourney_name</th>\n",
       "      <th>surface</th>\n",
       "      <th>tourney_level</th>\n",
       "      <th>tourney_date</th>\n",
       "      <th>player_age</th>\n",
       "      <th>opp_name</th>\n",
       "      <th>opp_hand</th>\n",
       "      <th>...</th>\n",
       "      <th>score</th>\n",
       "      <th>best_of</th>\n",
       "      <th>round</th>\n",
       "      <th>minutes</th>\n",
       "      <th>player_rank</th>\n",
       "      <th>player_rank_points</th>\n",
       "      <th>opp_rank</th>\n",
       "      <th>opp_rank_points</th>\n",
       "      <th>player_won</th>\n",
       "      <th>consecutive</th>\n",
       "    </tr>\n",
       "  </thead>\n",
       "  <tbody>\n",
       "    <tr>\n",
       "      <th>1088</th>\n",
       "      <td>1088</td>\n",
       "      <td>1088</td>\n",
       "      <td>86190</td>\n",
       "      <td>Us Open</td>\n",
       "      <td>Hard</td>\n",
       "      <td>G</td>\n",
       "      <td>20210830</td>\n",
       "      <td>34.275154</td>\n",
       "      <td>Kei Nishikori</td>\n",
       "      <td>R</td>\n",
       "      <td>...</td>\n",
       "      <td>6-7(4) 6-3 6-3 6-2</td>\n",
       "      <td>5</td>\n",
       "      <td>R32</td>\n",
       "      <td>212.0</td>\n",
       "      <td>1.0</td>\n",
       "      <td>11113.0</td>\n",
       "      <td>56.0</td>\n",
       "      <td>1208.0</td>\n",
       "      <td>1</td>\n",
       "      <td>24</td>\n",
       "    </tr>\n",
       "    <tr>\n",
       "      <th>1089</th>\n",
       "      <td>1089</td>\n",
       "      <td>1089</td>\n",
       "      <td>86206</td>\n",
       "      <td>Us Open</td>\n",
       "      <td>Hard</td>\n",
       "      <td>G</td>\n",
       "      <td>20210830</td>\n",
       "      <td>34.275154</td>\n",
       "      <td>Jenson Brooksby</td>\n",
       "      <td>R</td>\n",
       "      <td>...</td>\n",
       "      <td>1-6 6-3 6-2 6-2</td>\n",
       "      <td>5</td>\n",
       "      <td>R16</td>\n",
       "      <td>179.0</td>\n",
       "      <td>1.0</td>\n",
       "      <td>11113.0</td>\n",
       "      <td>99.0</td>\n",
       "      <td>812.0</td>\n",
       "      <td>1</td>\n",
       "      <td>25</td>\n",
       "    </tr>\n",
       "    <tr>\n",
       "      <th>1090</th>\n",
       "      <td>1090</td>\n",
       "      <td>1090</td>\n",
       "      <td>86214</td>\n",
       "      <td>Us Open</td>\n",
       "      <td>Hard</td>\n",
       "      <td>G</td>\n",
       "      <td>20210830</td>\n",
       "      <td>34.275154</td>\n",
       "      <td>Matteo Berrettini</td>\n",
       "      <td>R</td>\n",
       "      <td>...</td>\n",
       "      <td>5-7 6-2 6-2 6-3</td>\n",
       "      <td>5</td>\n",
       "      <td>QF</td>\n",
       "      <td>207.0</td>\n",
       "      <td>1.0</td>\n",
       "      <td>11113.0</td>\n",
       "      <td>8.0</td>\n",
       "      <td>5533.0</td>\n",
       "      <td>1</td>\n",
       "      <td>26</td>\n",
       "    </tr>\n",
       "    <tr>\n",
       "      <th>1091</th>\n",
       "      <td>1091</td>\n",
       "      <td>1091</td>\n",
       "      <td>86218</td>\n",
       "      <td>Us Open</td>\n",
       "      <td>Hard</td>\n",
       "      <td>G</td>\n",
       "      <td>20210830</td>\n",
       "      <td>34.275154</td>\n",
       "      <td>Alexander Zverev</td>\n",
       "      <td>R</td>\n",
       "      <td>...</td>\n",
       "      <td>4-6 6-2 6-4 4-6 6-2</td>\n",
       "      <td>5</td>\n",
       "      <td>SF</td>\n",
       "      <td>214.0</td>\n",
       "      <td>1.0</td>\n",
       "      <td>11113.0</td>\n",
       "      <td>4.0</td>\n",
       "      <td>8240.0</td>\n",
       "      <td>1</td>\n",
       "      <td>27</td>\n",
       "    </tr>\n",
       "    <tr>\n",
       "      <th>1092</th>\n",
       "      <td>1092</td>\n",
       "      <td>1092</td>\n",
       "      <td>86220</td>\n",
       "      <td>Us Open</td>\n",
       "      <td>Hard</td>\n",
       "      <td>G</td>\n",
       "      <td>20210830</td>\n",
       "      <td>34.275154</td>\n",
       "      <td>Daniil Medvedev</td>\n",
       "      <td>R</td>\n",
       "      <td>...</td>\n",
       "      <td>6-4 6-4 6-4</td>\n",
       "      <td>5</td>\n",
       "      <td>F</td>\n",
       "      <td>136.0</td>\n",
       "      <td>1.0</td>\n",
       "      <td>11113.0</td>\n",
       "      <td>2.0</td>\n",
       "      <td>9980.0</td>\n",
       "      <td>0</td>\n",
       "      <td>0</td>\n",
       "    </tr>\n",
       "  </tbody>\n",
       "</table>\n",
       "<p>5 rows × 23 columns</p>\n",
       "</div>"
      ],
      "text/plain": [
       "      Unnamed: 0  Unnamed: 0.1  Unnamed: 0.1.1 tourney_name surface  \\\n",
       "1088        1088          1088           86190      Us Open    Hard   \n",
       "1089        1089          1089           86206      Us Open    Hard   \n",
       "1090        1090          1090           86214      Us Open    Hard   \n",
       "1091        1091          1091           86218      Us Open    Hard   \n",
       "1092        1092          1092           86220      Us Open    Hard   \n",
       "\n",
       "     tourney_level  tourney_date  player_age           opp_name opp_hand  ...  \\\n",
       "1088             G      20210830   34.275154      Kei Nishikori        R  ...   \n",
       "1089             G      20210830   34.275154    Jenson Brooksby        R  ...   \n",
       "1090             G      20210830   34.275154  Matteo Berrettini        R  ...   \n",
       "1091             G      20210830   34.275154   Alexander Zverev        R  ...   \n",
       "1092             G      20210830   34.275154    Daniil Medvedev        R  ...   \n",
       "\n",
       "                    score best_of  round minutes  player_rank  \\\n",
       "1088   6-7(4) 6-3 6-3 6-2       5    R32   212.0          1.0   \n",
       "1089      1-6 6-3 6-2 6-2       5    R16   179.0          1.0   \n",
       "1090      5-7 6-2 6-2 6-3       5     QF   207.0          1.0   \n",
       "1091  4-6 6-2 6-4 4-6 6-2       5     SF   214.0          1.0   \n",
       "1092          6-4 6-4 6-4       5      F   136.0          1.0   \n",
       "\n",
       "     player_rank_points  opp_rank  opp_rank_points  player_won  consecutive  \n",
       "1088            11113.0      56.0           1208.0           1           24  \n",
       "1089            11113.0      99.0            812.0           1           25  \n",
       "1090            11113.0       8.0           5533.0           1           26  \n",
       "1091            11113.0       4.0           8240.0           1           27  \n",
       "1092            11113.0       2.0           9980.0           0            0  \n",
       "\n",
       "[5 rows x 23 columns]"
      ]
     },
     "execution_count": 46,
     "metadata": {},
     "output_type": "execute_result"
    }
   ],
   "source": [
    "\n",
    "\n",
    "player.to_csv(\"player.csv\")\n",
    "\n",
    "player.tail(5)"
   ]
  },
  {
   "cell_type": "markdown",
   "metadata": {},
   "source": [
    "## Regression Decision Tree\n",
    "\n",
    "We will create a decision tree using these features :\n",
    "- Surface  \n",
    "- Best of  \n",
    "- Opponent hand  \n",
    "- Opponent height  \n",
    "- Opponent country  \n",
    "- Ranking difference  \n",
    "- Tournament level  \n",
    "- Match round (QF, SF, F, etc...)\n",
    "- Player form  \n",
    "\n",
    "Some of these features seem irrelevant, and they probably are. However, since we will use GridSearchCV to perform feature selection, we will feed the model all the information we have and let it select what is important (ie. the optimal splits in terms of information gain)."
   ]
  },
  {
   "cell_type": "markdown",
   "metadata": {},
   "source": [
    "### Formatting\n",
    "\n",
    "The \"player.csv\" table contains many unecessary columns. Here, we create a player1 table containing all the features we potentially need for our model and format them correctly. Specifically, we use one-hot encoding to split categorical data into multiple boolean columns."
   ]
  },
  {
   "cell_type": "code",
   "execution_count": 47,
   "metadata": {},
   "outputs": [
    {
     "name": "stderr",
     "output_type": "stream",
     "text": [
      "C:\\Users\\uporito\\Anaconda3\\lib\\site-packages\\ipykernel_launcher.py:2: SettingWithCopyWarning: \n",
      "A value is trying to be set on a copy of a slice from a DataFrame.\n",
      "Try using .loc[row_indexer,col_indexer] = value instead\n",
      "\n",
      "See the caveats in the documentation: https://pandas.pydata.org/pandas-docs/stable/user_guide/indexing.html#returning-a-view-versus-a-copy\n",
      "  \n",
      "C:\\Users\\uporito\\Anaconda3\\lib\\site-packages\\ipykernel_launcher.py:3: SettingWithCopyWarning: \n",
      "A value is trying to be set on a copy of a slice from a DataFrame.\n",
      "Try using .loc[row_indexer,col_indexer] = value instead\n",
      "\n",
      "See the caveats in the documentation: https://pandas.pydata.org/pandas-docs/stable/user_guide/indexing.html#returning-a-view-versus-a-copy\n",
      "  This is separate from the ipykernel package so we can avoid doing imports until\n"
     ]
    },
    {
     "data": {
      "text/html": [
       "<div>\n",
       "<style scoped>\n",
       "    .dataframe tbody tr th:only-of-type {\n",
       "        vertical-align: middle;\n",
       "    }\n",
       "\n",
       "    .dataframe tbody tr th {\n",
       "        vertical-align: top;\n",
       "    }\n",
       "\n",
       "    .dataframe thead th {\n",
       "        text-align: right;\n",
       "    }\n",
       "</style>\n",
       "<table border=\"1\" class=\"dataframe\">\n",
       "  <thead>\n",
       "    <tr style=\"text-align: right;\">\n",
       "      <th></th>\n",
       "      <th>minutes</th>\n",
       "      <th>opp_ht</th>\n",
       "      <th>opp_age</th>\n",
       "      <th>rank_diff</th>\n",
       "      <th>consecutive</th>\n",
       "      <th>surface_Carpet</th>\n",
       "      <th>surface_Clay</th>\n",
       "      <th>surface_Grass</th>\n",
       "      <th>surface_Hard</th>\n",
       "      <th>best_of_3</th>\n",
       "      <th>...</th>\n",
       "      <th>tourney_level_G</th>\n",
       "      <th>tourney_level_M</th>\n",
       "      <th>round_F</th>\n",
       "      <th>round_QF</th>\n",
       "      <th>round_R128</th>\n",
       "      <th>round_R16</th>\n",
       "      <th>round_R32</th>\n",
       "      <th>round_R64</th>\n",
       "      <th>round_RR</th>\n",
       "      <th>round_SF</th>\n",
       "    </tr>\n",
       "  </thead>\n",
       "  <tbody>\n",
       "    <tr>\n",
       "      <th>0</th>\n",
       "      <td>112.0</td>\n",
       "      <td>185.0</td>\n",
       "      <td>29.232033</td>\n",
       "      <td>167.0</td>\n",
       "      <td>0</td>\n",
       "      <td>0</td>\n",
       "      <td>0</td>\n",
       "      <td>0</td>\n",
       "      <td>1</td>\n",
       "      <td>1</td>\n",
       "      <td>...</td>\n",
       "      <td>0</td>\n",
       "      <td>0</td>\n",
       "      <td>0</td>\n",
       "      <td>0</td>\n",
       "      <td>0</td>\n",
       "      <td>0</td>\n",
       "      <td>1</td>\n",
       "      <td>0</td>\n",
       "      <td>0</td>\n",
       "      <td>0</td>\n",
       "    </tr>\n",
       "    <tr>\n",
       "      <th>1</th>\n",
       "      <td>90.0</td>\n",
       "      <td>183.0</td>\n",
       "      <td>22.869268</td>\n",
       "      <td>303.0</td>\n",
       "      <td>0</td>\n",
       "      <td>0</td>\n",
       "      <td>1</td>\n",
       "      <td>0</td>\n",
       "      <td>0</td>\n",
       "      <td>1</td>\n",
       "      <td>...</td>\n",
       "      <td>0</td>\n",
       "      <td>0</td>\n",
       "      <td>0</td>\n",
       "      <td>0</td>\n",
       "      <td>0</td>\n",
       "      <td>0</td>\n",
       "      <td>1</td>\n",
       "      <td>0</td>\n",
       "      <td>0</td>\n",
       "      <td>0</td>\n",
       "    </tr>\n",
       "    <tr>\n",
       "      <th>2</th>\n",
       "      <td>146.0</td>\n",
       "      <td>173.0</td>\n",
       "      <td>26.740589</td>\n",
       "      <td>205.0</td>\n",
       "      <td>0</td>\n",
       "      <td>0</td>\n",
       "      <td>1</td>\n",
       "      <td>0</td>\n",
       "      <td>0</td>\n",
       "      <td>1</td>\n",
       "      <td>...</td>\n",
       "      <td>0</td>\n",
       "      <td>0</td>\n",
       "      <td>0</td>\n",
       "      <td>0</td>\n",
       "      <td>0</td>\n",
       "      <td>0</td>\n",
       "      <td>1</td>\n",
       "      <td>0</td>\n",
       "      <td>0</td>\n",
       "      <td>0</td>\n",
       "    </tr>\n",
       "    <tr>\n",
       "      <th>3</th>\n",
       "      <td>155.0</td>\n",
       "      <td>175.0</td>\n",
       "      <td>22.450376</td>\n",
       "      <td>218.0</td>\n",
       "      <td>0</td>\n",
       "      <td>0</td>\n",
       "      <td>1</td>\n",
       "      <td>0</td>\n",
       "      <td>0</td>\n",
       "      <td>1</td>\n",
       "      <td>...</td>\n",
       "      <td>0</td>\n",
       "      <td>0</td>\n",
       "      <td>0</td>\n",
       "      <td>0</td>\n",
       "      <td>0</td>\n",
       "      <td>1</td>\n",
       "      <td>0</td>\n",
       "      <td>0</td>\n",
       "      <td>0</td>\n",
       "      <td>0</td>\n",
       "    </tr>\n",
       "    <tr>\n",
       "      <th>4</th>\n",
       "      <td>19.0</td>\n",
       "      <td>198.0</td>\n",
       "      <td>24.279261</td>\n",
       "      <td>48.0</td>\n",
       "      <td>0</td>\n",
       "      <td>1</td>\n",
       "      <td>0</td>\n",
       "      <td>0</td>\n",
       "      <td>0</td>\n",
       "      <td>1</td>\n",
       "      <td>...</td>\n",
       "      <td>0</td>\n",
       "      <td>1</td>\n",
       "      <td>0</td>\n",
       "      <td>0</td>\n",
       "      <td>0</td>\n",
       "      <td>0</td>\n",
       "      <td>0</td>\n",
       "      <td>1</td>\n",
       "      <td>0</td>\n",
       "      <td>0</td>\n",
       "    </tr>\n",
       "  </tbody>\n",
       "</table>\n",
       "<p>5 rows × 26 columns</p>\n",
       "</div>"
      ],
      "text/plain": [
       "   minutes  opp_ht    opp_age  rank_diff  consecutive  surface_Carpet  \\\n",
       "0    112.0   185.0  29.232033      167.0            0               0   \n",
       "1     90.0   183.0  22.869268      303.0            0               0   \n",
       "2    146.0   173.0  26.740589      205.0            0               0   \n",
       "3    155.0   175.0  22.450376      218.0            0               0   \n",
       "4     19.0   198.0  24.279261       48.0            0               1   \n",
       "\n",
       "   surface_Clay  surface_Grass  surface_Hard  best_of_3  ...  tourney_level_G  \\\n",
       "0             0              0             1          1  ...                0   \n",
       "1             1              0             0          1  ...                0   \n",
       "2             1              0             0          1  ...                0   \n",
       "3             1              0             0          1  ...                0   \n",
       "4             0              0             0          1  ...                0   \n",
       "\n",
       "   tourney_level_M  round_F  round_QF  round_R128  round_R16  round_R32  \\\n",
       "0                0        0         0           0          0          1   \n",
       "1                0        0         0           0          0          1   \n",
       "2                0        0         0           0          0          1   \n",
       "3                0        0         0           0          1          0   \n",
       "4                1        0         0           0          0          0   \n",
       "\n",
       "   round_R64  round_RR  round_SF  \n",
       "0          0         0         0  \n",
       "1          0         0         0  \n",
       "2          0         0         0  \n",
       "3          0         0         0  \n",
       "4          1         0         0  \n",
       "\n",
       "[5 rows x 26 columns]"
      ]
     },
     "execution_count": 47,
     "metadata": {},
     "output_type": "execute_result"
    }
   ],
   "source": [
    "player1 = player[[\"minutes\", \"surface\", \"best_of\", \"opp_hand\", \"opp_ht\", \"opp_age\", \"tourney_level\", \"round\"]]\n",
    "player1[\"rank_diff\"] = player[\"player_rank\"] - player[\"opp_rank\"]\n",
    "player1[\"consecutive\"] = player[\"consecutive\"]\n",
    "\n",
    "# One-Hot Encoding\n",
    "player1 = pd.get_dummies(data=player1, columns=[\"surface\", \"best_of\", \"opp_hand\", \"tourney_level\", \"round\"])\n",
    "\n",
    "player1 = player1.dropna(axis=0, how='any')\n",
    "\n",
    "player1.head(5)"
   ]
  },
  {
   "cell_type": "markdown",
   "metadata": {},
   "source": [
    "### Regression Decision Tree\n"
   ]
  },
  {
   "cell_type": "markdown",
   "metadata": {},
   "source": [
    "\n",
    "#### Pre-processing\n",
    "\n",
    "For pre-processing we have three options :\n",
    "- not scaling x or y\n",
    "- scaling both x and y\n",
    "- scaling x but not y   \n",
    "  \n",
    "I feel like scaling gives us better results but adds a hurdle in interpreting the tree's visualization since it displays scaled values. We can scale both input and output values back, just not display them with sklearns's plot_tree (or any tree visualization that I've found so far). For now, the roundabout solution is just to print out the scaled input and output."
   ]
  },
  {
   "cell_type": "code",
   "execution_count": 48,
   "metadata": {},
   "outputs": [
    {
     "data": {
      "text/html": [
       "<div>\n",
       "<style scoped>\n",
       "    .dataframe tbody tr th:only-of-type {\n",
       "        vertical-align: middle;\n",
       "    }\n",
       "\n",
       "    .dataframe tbody tr th {\n",
       "        vertical-align: top;\n",
       "    }\n",
       "\n",
       "    .dataframe thead th {\n",
       "        text-align: right;\n",
       "    }\n",
       "</style>\n",
       "<table border=\"1\" class=\"dataframe\">\n",
       "  <thead>\n",
       "    <tr style=\"text-align: right;\">\n",
       "      <th></th>\n",
       "      <th>opp_ht</th>\n",
       "      <th>opp_age</th>\n",
       "      <th>rank_diff</th>\n",
       "      <th>consecutive</th>\n",
       "      <th>surface_Carpet</th>\n",
       "      <th>surface_Clay</th>\n",
       "      <th>surface_Grass</th>\n",
       "      <th>surface_Hard</th>\n",
       "      <th>best_of_3</th>\n",
       "      <th>best_of_5</th>\n",
       "      <th>...</th>\n",
       "      <th>tourney_level_G</th>\n",
       "      <th>tourney_level_M</th>\n",
       "      <th>round_F</th>\n",
       "      <th>round_QF</th>\n",
       "      <th>round_R128</th>\n",
       "      <th>round_R16</th>\n",
       "      <th>round_R32</th>\n",
       "      <th>round_R64</th>\n",
       "      <th>round_RR</th>\n",
       "      <th>round_SF</th>\n",
       "    </tr>\n",
       "  </thead>\n",
       "  <tbody>\n",
       "    <tr>\n",
       "      <th>0</th>\n",
       "      <td>185.0</td>\n",
       "      <td>29.232033</td>\n",
       "      <td>167.0</td>\n",
       "      <td>0</td>\n",
       "      <td>0</td>\n",
       "      <td>0</td>\n",
       "      <td>0</td>\n",
       "      <td>1</td>\n",
       "      <td>1</td>\n",
       "      <td>0</td>\n",
       "      <td>...</td>\n",
       "      <td>0</td>\n",
       "      <td>0</td>\n",
       "      <td>0</td>\n",
       "      <td>0</td>\n",
       "      <td>0</td>\n",
       "      <td>0</td>\n",
       "      <td>1</td>\n",
       "      <td>0</td>\n",
       "      <td>0</td>\n",
       "      <td>0</td>\n",
       "    </tr>\n",
       "    <tr>\n",
       "      <th>1</th>\n",
       "      <td>183.0</td>\n",
       "      <td>22.869268</td>\n",
       "      <td>303.0</td>\n",
       "      <td>0</td>\n",
       "      <td>0</td>\n",
       "      <td>1</td>\n",
       "      <td>0</td>\n",
       "      <td>0</td>\n",
       "      <td>1</td>\n",
       "      <td>0</td>\n",
       "      <td>...</td>\n",
       "      <td>0</td>\n",
       "      <td>0</td>\n",
       "      <td>0</td>\n",
       "      <td>0</td>\n",
       "      <td>0</td>\n",
       "      <td>0</td>\n",
       "      <td>1</td>\n",
       "      <td>0</td>\n",
       "      <td>0</td>\n",
       "      <td>0</td>\n",
       "    </tr>\n",
       "    <tr>\n",
       "      <th>2</th>\n",
       "      <td>173.0</td>\n",
       "      <td>26.740589</td>\n",
       "      <td>205.0</td>\n",
       "      <td>0</td>\n",
       "      <td>0</td>\n",
       "      <td>1</td>\n",
       "      <td>0</td>\n",
       "      <td>0</td>\n",
       "      <td>1</td>\n",
       "      <td>0</td>\n",
       "      <td>...</td>\n",
       "      <td>0</td>\n",
       "      <td>0</td>\n",
       "      <td>0</td>\n",
       "      <td>0</td>\n",
       "      <td>0</td>\n",
       "      <td>0</td>\n",
       "      <td>1</td>\n",
       "      <td>0</td>\n",
       "      <td>0</td>\n",
       "      <td>0</td>\n",
       "    </tr>\n",
       "    <tr>\n",
       "      <th>3</th>\n",
       "      <td>175.0</td>\n",
       "      <td>22.450376</td>\n",
       "      <td>218.0</td>\n",
       "      <td>0</td>\n",
       "      <td>0</td>\n",
       "      <td>1</td>\n",
       "      <td>0</td>\n",
       "      <td>0</td>\n",
       "      <td>1</td>\n",
       "      <td>0</td>\n",
       "      <td>...</td>\n",
       "      <td>0</td>\n",
       "      <td>0</td>\n",
       "      <td>0</td>\n",
       "      <td>0</td>\n",
       "      <td>0</td>\n",
       "      <td>1</td>\n",
       "      <td>0</td>\n",
       "      <td>0</td>\n",
       "      <td>0</td>\n",
       "      <td>0</td>\n",
       "    </tr>\n",
       "    <tr>\n",
       "      <th>4</th>\n",
       "      <td>198.0</td>\n",
       "      <td>24.279261</td>\n",
       "      <td>48.0</td>\n",
       "      <td>0</td>\n",
       "      <td>1</td>\n",
       "      <td>0</td>\n",
       "      <td>0</td>\n",
       "      <td>0</td>\n",
       "      <td>1</td>\n",
       "      <td>0</td>\n",
       "      <td>...</td>\n",
       "      <td>0</td>\n",
       "      <td>1</td>\n",
       "      <td>0</td>\n",
       "      <td>0</td>\n",
       "      <td>0</td>\n",
       "      <td>0</td>\n",
       "      <td>0</td>\n",
       "      <td>1</td>\n",
       "      <td>0</td>\n",
       "      <td>0</td>\n",
       "    </tr>\n",
       "  </tbody>\n",
       "</table>\n",
       "<p>5 rows × 25 columns</p>\n",
       "</div>"
      ],
      "text/plain": [
       "   opp_ht    opp_age  rank_diff  consecutive  surface_Carpet  surface_Clay  \\\n",
       "0   185.0  29.232033      167.0            0               0             0   \n",
       "1   183.0  22.869268      303.0            0               0             1   \n",
       "2   173.0  26.740589      205.0            0               0             1   \n",
       "3   175.0  22.450376      218.0            0               0             1   \n",
       "4   198.0  24.279261       48.0            0               1             0   \n",
       "\n",
       "   surface_Grass  surface_Hard  best_of_3  best_of_5  ...  tourney_level_G  \\\n",
       "0              0             1          1          0  ...                0   \n",
       "1              0             0          1          0  ...                0   \n",
       "2              0             0          1          0  ...                0   \n",
       "3              0             0          1          0  ...                0   \n",
       "4              0             0          1          0  ...                0   \n",
       "\n",
       "   tourney_level_M  round_F  round_QF  round_R128  round_R16  round_R32  \\\n",
       "0                0        0         0           0          0          1   \n",
       "1                0        0         0           0          0          1   \n",
       "2                0        0         0           0          0          1   \n",
       "3                0        0         0           0          1          0   \n",
       "4                1        0         0           0          0          0   \n",
       "\n",
       "   round_R64  round_RR  round_SF  \n",
       "0          0         0         0  \n",
       "1          0         0         0  \n",
       "2          0         0         0  \n",
       "3          0         0         0  \n",
       "4          1         0         0  \n",
       "\n",
       "[5 rows x 25 columns]"
      ]
     },
     "metadata": {},
     "output_type": "display_data"
    },
    {
     "data": {
      "text/html": [
       "<div>\n",
       "<style scoped>\n",
       "    .dataframe tbody tr th:only-of-type {\n",
       "        vertical-align: middle;\n",
       "    }\n",
       "\n",
       "    .dataframe tbody tr th {\n",
       "        vertical-align: top;\n",
       "    }\n",
       "\n",
       "    .dataframe thead th {\n",
       "        text-align: right;\n",
       "    }\n",
       "</style>\n",
       "<table border=\"1\" class=\"dataframe\">\n",
       "  <thead>\n",
       "    <tr style=\"text-align: right;\">\n",
       "      <th></th>\n",
       "      <th>0</th>\n",
       "    </tr>\n",
       "  </thead>\n",
       "  <tbody>\n",
       "    <tr>\n",
       "      <th>0</th>\n",
       "      <td>112.0</td>\n",
       "    </tr>\n",
       "    <tr>\n",
       "      <th>1</th>\n",
       "      <td>90.0</td>\n",
       "    </tr>\n",
       "    <tr>\n",
       "      <th>2</th>\n",
       "      <td>146.0</td>\n",
       "    </tr>\n",
       "    <tr>\n",
       "      <th>3</th>\n",
       "      <td>155.0</td>\n",
       "    </tr>\n",
       "    <tr>\n",
       "      <th>4</th>\n",
       "      <td>19.0</td>\n",
       "    </tr>\n",
       "  </tbody>\n",
       "</table>\n",
       "</div>"
      ],
      "text/plain": [
       "       0\n",
       "0  112.0\n",
       "1   90.0\n",
       "2  146.0\n",
       "3  155.0\n",
       "4   19.0"
      ]
     },
     "metadata": {},
     "output_type": "display_data"
    }
   ],
   "source": [
    "### PRE-PROCESSING ###\n",
    "\n",
    "from sklearn import tree\n",
    "from sklearn.tree import DecisionTreeRegressor\n",
    "from sklearn.metrics import mean_squared_error\n",
    "from sklearn import model_selection\n",
    "from sklearn.model_selection import train_test_split\n",
    "from sklearn.preprocessing import StandardScaler\n",
    "\n",
    "target='minutes'\n",
    "\n",
    "scale_x = False\n",
    "scale_y = False\n",
    "\n",
    "def preprocessing(scale_x=False, scale_y=False) :\n",
    "\n",
    "    # 1. X, y unscaled\n",
    "    X = player1.drop([target], axis=1)\n",
    "    y = np.asarray(player1[target])\n",
    "    y = y.reshape(-1,1)\n",
    "\n",
    "    xscaler = StandardScaler()\n",
    "    yscaler = StandardScaler()\n",
    "\n",
    "    if (scale_x) :\n",
    "        print(\"Scaling X...\")\n",
    "        xscaler.fit(X[['opp_ht', 'opp_age', 'rank_diff']])\n",
    "        X[['opp_ht', 'opp_age', 'rank_diff']] = xscaler.transform(X[['opp_ht', 'opp_age', 'rank_diff']])\n",
    "\n",
    "    if (scale_y) :\n",
    "        print(\"Scaling y...\")\n",
    "        yscaler.fit(y)\n",
    "        y = yscaler.transform(y)\n",
    "\n",
    "    display(pd.DataFrame(X).head())\n",
    "    display(pd.DataFrame(y).head())\n",
    "\n",
    "    return X, y, xscaler, yscaler\n",
    "\n",
    "X, y, xscaler, yscaler = preprocessing(scale_x, scale_y)"
   ]
  },
  {
   "cell_type": "markdown",
   "metadata": {},
   "source": [
    "#### Building the tree\n",
    "\n",
    "To build a good tree, we need to select values for the tree's parameters (e.g. max depth, minimum samples per leaf). We'll perform this \"Hyperparameter Tuning\" using GridSearchCV, a library which selects the best tree by trying every combination of parameters we give it and performing a cross validation. The trees are commpared based on the R² criteria.  \n",
    "  \n",
    "![score formula](res/score.png \"sklearn score\")  "
   ]
  },
  {
   "cell_type": "code",
   "execution_count": 49,
   "metadata": {},
   "outputs": [],
   "source": [
    "### PARAMETER SELECTION ###\n",
    "\n",
    "from sklearn.model_selection import GridSearchCV\n",
    "\n",
    "params = {\n",
    "    # \"criterion\":(\"squared_error\", \"friedman_mse\", \"absolute_error\", \"poisson\"), \n",
    "    \"max_depth\":np.arange(3, 10), \n",
    "    \"min_samples_leaf\":np.arange(1, 80), \n",
    "    # \"min_weight_fraction_leaf\":[0.5, 0.4, 0.3, 0.2, 0.1, 0.05, 0.075, 0.001], \n",
    "    # \"max_features\":np.arange(1, 25)\n",
    "}\n",
    "\n",
    "dtr = DecisionTreeRegressor(random_state=42)\n",
    "dtr_cv = GridSearchCV(dtr, params, scoring=\"r2\", n_jobs=-1, verbose=1, cv=10)"
   ]
  },
  {
   "cell_type": "code",
   "execution_count": 50,
   "metadata": {},
   "outputs": [],
   "source": [
    "### CUSTOM PREDICTION ###\n",
    "\n",
    "def custom_predict(dtr, scale_x, scale_y, height, age, rank_diff, consecutive, surface, best_of, hand, level, round) :\n",
    "    # returns the predicted length of a match given a set of match conditions\n",
    "\n",
    "    # surface : carpet(1), clay(2), grass(3), hard(4)\n",
    "    # best of : 3(1), 5(2)\n",
    "    # hand : left(1), right(2)\n",
    "    # level : A(1), D(2), F(3), G(4), M(5)\n",
    "    # round : F(1), QF(2), R128(3), R16(4), R32(5), R64(6), R(7), SF(8)\n",
    "\n",
    "    surface_input = [0, 0, 0, 0]\n",
    "    surface_input[surface - 1] = 1\n",
    "\n",
    "    bo_input = [0, 0]\n",
    "    bo_input[best_of - 1] = 1\n",
    "\n",
    "    hand_input = [0, 0]\n",
    "    hand_input[hand - 1] = 1\n",
    "\n",
    "    level_input = [0, 0, 0, 0, 0]\n",
    "    level_input[level - 1] = 1\n",
    "\n",
    "    round_input = [0, 0, 0, 0, 0, 0, 0, 0]\n",
    "    round_input[round - 1] = 1\n",
    "\n",
    "    if (not scale_x and not scale_y) :  # 1. X, y unscaled\n",
    "        input = [height, age, rank_diff] + [consecutive] + surface_input + bo_input + hand_input + level_input + round_input\n",
    "        print(\"Input : \", input)\n",
    "\n",
    "        input = [input]\n",
    "\n",
    "        print(\"Prediction : \", dtr.predict(input), \" minutes\")\n",
    "\n",
    "    # input = [180, 0, 0, 0, 1, 0, 0, 0, 1]\n",
    "\n",
    "    elif (scale_x and scale_y) :    # 2. X, y scaled\n",
    "        input = xscaler.transform([[height, age, rank_diff]])\n",
    "        input = np.append(input[0], consecutive, surface_input + bo_input + hand_input + level_input + round_input)\n",
    "        print(\"Scaled input : \", input)\n",
    "\n",
    "        input = [input]\n",
    "\n",
    "        print(\"Scaled Prediction : \", dtr.predict(input), \" minutes\")\n",
    "        print(\"Prediction : \", yscaler.inverse_transform(dtr.predict(input)), \" minutes\")\n",
    "\n",
    "    elif (scale_x and not scale_y) :    # 3. X scaled, y unscaled\n",
    "        input = xscaler.transform([[height, age, rank_diff]]).tolist()\n",
    "        input = np.append(input[0], [consecutive] + surface_input + bo_input + hand_input + level_input + round_input)\n",
    "        print(\"Scaled input : \", input)\n",
    "        \n",
    "        input = [input]\n",
    "\n",
    "        print(\"Prediction : \", dtr.predict(input)[0], \" minutes\")\n",
    "\n",
    "    return(dtr.predict(input)[0])\n",
    "\n",
    "# prediction = predict(scale_x, scale_y, 180, 22, 0, 0, 4, 1, 2, 4, 5)"
   ]
  },
  {
   "cell_type": "code",
   "execution_count": 51,
   "metadata": {},
   "outputs": [
    {
     "name": "stdout",
     "output_type": "stream",
     "text": [
      "Fitting 10 folds for each of 553 candidates, totalling 5530 fits\n"
     ]
    },
    {
     "name": "stderr",
     "output_type": "stream",
     "text": [
      "[Parallel(n_jobs=-1)]: Using backend LokyBackend with 8 concurrent workers.\n",
      "[Parallel(n_jobs=-1)]: Done  34 tasks      | elapsed:    9.0s\n",
      "[Parallel(n_jobs=-1)]: Done 552 tasks      | elapsed:   11.6s\n",
      "[Parallel(n_jobs=-1)]: Done 4552 tasks      | elapsed:   24.0s\n",
      "[Parallel(n_jobs=-1)]: Done 5530 out of 5530 | elapsed:   25.9s finished\n",
      "[Parallel(n_jobs=-1)]: Using backend LokyBackend with 8 concurrent workers.\n"
     ]
    },
    {
     "name": "stdout",
     "output_type": "stream",
     "text": [
      "Best parameters: {'max_depth': 3, 'min_samples_leaf': 15})\n",
      "Training score 1 :  0.3719853136224822\n",
      "Testing score 1 :  0.2487002992841284\n",
      "Input :  [180, 22, 10, 0, 0, 0, 0, 1, 1, 0, 0, 1, 0, 0, 0, 1, 0, 0, 0, 0, 0, 1, 0, 0, 0]\n",
      "Prediction :  [107.02614379]  minutes\n",
      "Fitting 10 folds for each of 553 candidates, totalling 5530 fits\n"
     ]
    },
    {
     "name": "stderr",
     "output_type": "stream",
     "text": [
      "[Parallel(n_jobs=-1)]: Done  56 tasks      | elapsed:    0.2s\n",
      "[Parallel(n_jobs=-1)]: Done 2160 tasks      | elapsed:    4.2s\n",
      "[Parallel(n_jobs=-1)]: Done 5530 out of 5530 | elapsed:   10.2s finished\n",
      "[Parallel(n_jobs=-1)]: Using backend LokyBackend with 8 concurrent workers.\n"
     ]
    },
    {
     "name": "stdout",
     "output_type": "stream",
     "text": [
      "Best parameters: {'max_depth': 4, 'min_samples_leaf': 77})\n",
      "Training score 2 :  0.32545836143619267\n",
      "Testing score 2 :  0.29015671798213305\n",
      "Input :  [180, 22, 10, 0, 0, 0, 0, 1, 1, 0, 0, 1, 0, 0, 0, 1, 0, 0, 0, 0, 0, 1, 0, 0, 0]\n",
      "Prediction :  [170.84166667]  minutes\n",
      "Fitting 10 folds for each of 553 candidates, totalling 5530 fits\n"
     ]
    },
    {
     "name": "stderr",
     "output_type": "stream",
     "text": [
      "[Parallel(n_jobs=-1)]: Done  56 tasks      | elapsed:    0.2s\n",
      "[Parallel(n_jobs=-1)]: Done 2160 tasks      | elapsed:    5.0s\n",
      "[Parallel(n_jobs=-1)]: Done 5530 out of 5530 | elapsed:   11.3s finished\n",
      "[Parallel(n_jobs=-1)]: Using backend LokyBackend with 8 concurrent workers.\n"
     ]
    },
    {
     "name": "stdout",
     "output_type": "stream",
     "text": [
      "Best parameters: {'max_depth': 4, 'min_samples_leaf': 35})\n",
      "Training score 3 :  0.36400346596719446\n",
      "Testing score 3 :  0.30855063640670355\n",
      "Input :  [180, 22, 10, 0, 0, 0, 0, 1, 1, 0, 0, 1, 0, 0, 0, 1, 0, 0, 0, 0, 0, 1, 0, 0, 0]\n",
      "Prediction :  [105.]  minutes\n",
      "Fitting 10 folds for each of 553 candidates, totalling 5530 fits\n"
     ]
    },
    {
     "name": "stderr",
     "output_type": "stream",
     "text": [
      "[Parallel(n_jobs=-1)]: Done  56 tasks      | elapsed:    0.2s\n",
      "[Parallel(n_jobs=-1)]: Done 2160 tasks      | elapsed:    4.7s\n",
      "[Parallel(n_jobs=-1)]: Done 5530 out of 5530 | elapsed:   12.0s finished\n",
      "[Parallel(n_jobs=-1)]: Using backend LokyBackend with 8 concurrent workers.\n"
     ]
    },
    {
     "name": "stdout",
     "output_type": "stream",
     "text": [
      "Best parameters: {'max_depth': 5, 'min_samples_leaf': 53})\n",
      "Training score 4 :  0.355661547958372\n",
      "Testing score 4 :  0.2403988054834475\n",
      "Input :  [180, 22, 10, 0, 0, 0, 0, 1, 1, 0, 0, 1, 0, 0, 0, 1, 0, 0, 0, 0, 0, 1, 0, 0, 0]\n",
      "Prediction :  [101.81132075]  minutes\n",
      "Fitting 10 folds for each of 553 candidates, totalling 5530 fits\n"
     ]
    },
    {
     "name": "stderr",
     "output_type": "stream",
     "text": [
      "[Parallel(n_jobs=-1)]: Done  56 tasks      | elapsed:    0.3s\n",
      "[Parallel(n_jobs=-1)]: Done 2160 tasks      | elapsed:    4.5s\n",
      "[Parallel(n_jobs=-1)]: Done 5530 out of 5530 | elapsed:   11.2s finished\n",
      "[Parallel(n_jobs=-1)]: Using backend LokyBackend with 8 concurrent workers.\n"
     ]
    },
    {
     "name": "stdout",
     "output_type": "stream",
     "text": [
      "Best parameters: {'max_depth': 4, 'min_samples_leaf': 33})\n",
      "Training score 5 :  0.36290278615305216\n",
      "Testing score 5 :  0.3003493122014572\n",
      "Input :  [180, 22, 10, 0, 0, 0, 0, 1, 1, 0, 0, 1, 0, 0, 0, 1, 0, 0, 0, 0, 0, 1, 0, 0, 0]\n",
      "Prediction :  [119.42857143]  minutes\n",
      "Fitting 10 folds for each of 553 candidates, totalling 5530 fits\n"
     ]
    },
    {
     "name": "stderr",
     "output_type": "stream",
     "text": [
      "[Parallel(n_jobs=-1)]: Done  56 tasks      | elapsed:    0.2s\n",
      "[Parallel(n_jobs=-1)]: Done 2160 tasks      | elapsed:    4.5s\n",
      "[Parallel(n_jobs=-1)]: Done 5530 out of 5530 | elapsed:   11.8s finished\n",
      "[Parallel(n_jobs=-1)]: Using backend LokyBackend with 8 concurrent workers.\n"
     ]
    },
    {
     "name": "stdout",
     "output_type": "stream",
     "text": [
      "Best parameters: {'max_depth': 4, 'min_samples_leaf': 79})\n",
      "Training score 6 :  0.30611799923340566\n",
      "Testing score 6 :  0.3064844777476632\n",
      "Input :  [180, 22, 10, 0, 0, 0, 0, 1, 1, 0, 0, 1, 0, 0, 0, 1, 0, 0, 0, 0, 0, 1, 0, 0, 0]\n",
      "Prediction :  [117.4]  minutes\n",
      "Fitting 10 folds for each of 553 candidates, totalling 5530 fits\n"
     ]
    },
    {
     "name": "stderr",
     "output_type": "stream",
     "text": [
      "[Parallel(n_jobs=-1)]: Done  56 tasks      | elapsed:    0.3s\n",
      "[Parallel(n_jobs=-1)]: Done 2160 tasks      | elapsed:    4.6s\n",
      "[Parallel(n_jobs=-1)]: Done 5530 out of 5530 | elapsed:   12.1s finished\n",
      "[Parallel(n_jobs=-1)]: Using backend LokyBackend with 8 concurrent workers.\n"
     ]
    },
    {
     "name": "stdout",
     "output_type": "stream",
     "text": [
      "Best parameters: {'max_depth': 4, 'min_samples_leaf': 52})\n",
      "Training score 7 :  0.3373221584792305\n",
      "Testing score 7 :  0.3052138936805632\n",
      "Input :  [180, 22, 10, 0, 0, 0, 0, 1, 1, 0, 0, 1, 0, 0, 0, 1, 0, 0, 0, 0, 0, 1, 0, 0, 0]\n",
      "Prediction :  [110.78461538]  minutes\n",
      "Fitting 10 folds for each of 553 candidates, totalling 5530 fits\n"
     ]
    },
    {
     "name": "stderr",
     "output_type": "stream",
     "text": [
      "[Parallel(n_jobs=-1)]: Done  56 tasks      | elapsed:    0.3s\n",
      "[Parallel(n_jobs=-1)]: Done 2160 tasks      | elapsed:    4.4s\n",
      "[Parallel(n_jobs=-1)]: Done 5530 out of 5530 | elapsed:   10.6s finished\n",
      "[Parallel(n_jobs=-1)]: Using backend LokyBackend with 8 concurrent workers.\n"
     ]
    },
    {
     "name": "stdout",
     "output_type": "stream",
     "text": [
      "Best parameters: {'max_depth': 3, 'min_samples_leaf': 54})\n",
      "Training score 8 :  0.34561381253753753\n",
      "Testing score 8 :  0.28146115437858077\n",
      "Input :  [180, 22, 10, 0, 0, 0, 0, 1, 1, 0, 0, 1, 0, 0, 0, 1, 0, 0, 0, 0, 0, 1, 0, 0, 0]\n",
      "Prediction :  [110.36363636]  minutes\n",
      "Fitting 10 folds for each of 553 candidates, totalling 5530 fits\n"
     ]
    },
    {
     "name": "stderr",
     "output_type": "stream",
     "text": [
      "[Parallel(n_jobs=-1)]: Done  56 tasks      | elapsed:    0.2s\n",
      "[Parallel(n_jobs=-1)]: Done 2160 tasks      | elapsed:    4.9s\n",
      "[Parallel(n_jobs=-1)]: Done 5530 out of 5530 | elapsed:   12.6s finished\n",
      "[Parallel(n_jobs=-1)]: Using backend LokyBackend with 8 concurrent workers.\n"
     ]
    },
    {
     "name": "stdout",
     "output_type": "stream",
     "text": [
      "Best parameters: {'max_depth': 4, 'min_samples_leaf': 77})\n",
      "Training score 9 :  0.3199824044315721\n",
      "Testing score 9 :  0.30876019180446734\n",
      "Input :  [180, 22, 10, 0, 0, 0, 0, 1, 1, 0, 0, 1, 0, 0, 0, 1, 0, 0, 0, 0, 0, 1, 0, 0, 0]\n",
      "Prediction :  [110.61864407]  minutes\n",
      "Fitting 10 folds for each of 553 candidates, totalling 5530 fits\n"
     ]
    },
    {
     "name": "stderr",
     "output_type": "stream",
     "text": [
      "[Parallel(n_jobs=-1)]: Done  56 tasks      | elapsed:    0.3s\n",
      "[Parallel(n_jobs=-1)]: Done 2160 tasks      | elapsed:    5.6s\n",
      "[Parallel(n_jobs=-1)]: Done 5530 out of 5530 | elapsed:   12.4s finished\n",
      "[Parallel(n_jobs=-1)]: Using backend LokyBackend with 8 concurrent workers.\n"
     ]
    },
    {
     "name": "stdout",
     "output_type": "stream",
     "text": [
      "Best parameters: {'max_depth': 3, 'min_samples_leaf': 8})\n",
      "Training score 10 :  0.35317658781269323\n",
      "Testing score 10 :  0.32308313409912315\n",
      "Input :  [180, 22, 10, 0, 0, 0, 0, 1, 1, 0, 0, 1, 0, 0, 0, 1, 0, 0, 0, 0, 0, 1, 0, 0, 0]\n",
      "Prediction :  [111.38356164]  minutes\n",
      "Fitting 10 folds for each of 553 candidates, totalling 5530 fits\n"
     ]
    },
    {
     "name": "stderr",
     "output_type": "stream",
     "text": [
      "[Parallel(n_jobs=-1)]: Done  56 tasks      | elapsed:    0.2s\n",
      "[Parallel(n_jobs=-1)]: Done 2160 tasks      | elapsed:    3.8s\n",
      "[Parallel(n_jobs=-1)]: Done 5530 out of 5530 | elapsed:    9.5s finished\n",
      "[Parallel(n_jobs=-1)]: Using backend LokyBackend with 8 concurrent workers.\n"
     ]
    },
    {
     "name": "stdout",
     "output_type": "stream",
     "text": [
      "Best parameters: {'max_depth': 3, 'min_samples_leaf': 55})\n",
      "Training score 11 :  0.34919713648615036\n",
      "Testing score 11 :  0.2561024940593205\n",
      "Input :  [180, 22, 10, 0, 0, 0, 0, 1, 1, 0, 0, 1, 0, 0, 0, 1, 0, 0, 0, 0, 0, 1, 0, 0, 0]\n",
      "Prediction :  [181.21126761]  minutes\n",
      "Fitting 10 folds for each of 553 candidates, totalling 5530 fits\n"
     ]
    },
    {
     "name": "stderr",
     "output_type": "stream",
     "text": [
      "[Parallel(n_jobs=-1)]: Done  56 tasks      | elapsed:    0.2s\n",
      "[Parallel(n_jobs=-1)]: Done 2160 tasks      | elapsed:    3.7s\n",
      "[Parallel(n_jobs=-1)]: Done 5530 out of 5530 | elapsed:    9.3s finished\n",
      "[Parallel(n_jobs=-1)]: Using backend LokyBackend with 8 concurrent workers.\n"
     ]
    },
    {
     "name": "stdout",
     "output_type": "stream",
     "text": [
      "Best parameters: {'max_depth': 4, 'min_samples_leaf': 40})\n",
      "Training score 12 :  0.34770776843512596\n",
      "Testing score 12 :  0.27939533334612954\n",
      "Input :  [180, 22, 10, 0, 0, 0, 0, 1, 1, 0, 0, 1, 0, 0, 0, 1, 0, 0, 0, 0, 0, 1, 0, 0, 0]\n",
      "Prediction :  [180.63291139]  minutes\n",
      "Fitting 10 folds for each of 553 candidates, totalling 5530 fits\n"
     ]
    },
    {
     "name": "stderr",
     "output_type": "stream",
     "text": [
      "[Parallel(n_jobs=-1)]: Done  56 tasks      | elapsed:    0.2s\n",
      "[Parallel(n_jobs=-1)]: Done 2160 tasks      | elapsed:    3.8s\n",
      "[Parallel(n_jobs=-1)]: Done 5530 out of 5530 | elapsed:   10.5s finished\n",
      "[Parallel(n_jobs=-1)]: Using backend LokyBackend with 8 concurrent workers.\n"
     ]
    },
    {
     "name": "stdout",
     "output_type": "stream",
     "text": [
      "Best parameters: {'max_depth': 3, 'min_samples_leaf': 7})\n",
      "Training score 13 :  0.3581379954818419\n",
      "Testing score 13 :  0.2720424808487816\n",
      "Input :  [180, 22, 10, 0, 0, 0, 0, 1, 1, 0, 0, 1, 0, 0, 0, 1, 0, 0, 0, 0, 0, 1, 0, 0, 0]\n",
      "Prediction :  [109.8974359]  minutes\n",
      "Fitting 10 folds for each of 553 candidates, totalling 5530 fits\n"
     ]
    },
    {
     "name": "stderr",
     "output_type": "stream",
     "text": [
      "[Parallel(n_jobs=-1)]: Done  56 tasks      | elapsed:    0.2s\n",
      "[Parallel(n_jobs=-1)]: Done 2160 tasks      | elapsed:    4.1s\n",
      "[Parallel(n_jobs=-1)]: Done 4808 tasks      | elapsed:   17.5s\n",
      "[Parallel(n_jobs=-1)]: Done 5530 out of 5530 | elapsed:   18.8s finished\n",
      "[Parallel(n_jobs=-1)]: Using backend LokyBackend with 8 concurrent workers.\n"
     ]
    },
    {
     "name": "stdout",
     "output_type": "stream",
     "text": [
      "Best parameters: {'max_depth': 3, 'min_samples_leaf': 44})\n",
      "Training score 14 :  0.34514108553563827\n",
      "Testing score 14 :  0.2838429894081599\n",
      "Input :  [180, 22, 10, 0, 0, 0, 0, 1, 1, 0, 0, 1, 0, 0, 0, 1, 0, 0, 0, 0, 0, 1, 0, 0, 0]\n",
      "Prediction :  [109.64539007]  minutes\n",
      "Fitting 10 folds for each of 553 candidates, totalling 5530 fits\n"
     ]
    },
    {
     "name": "stderr",
     "output_type": "stream",
     "text": [
      "[Parallel(n_jobs=-1)]: Done  56 tasks      | elapsed:    0.2s\n",
      "[Parallel(n_jobs=-1)]: Done 2160 tasks      | elapsed:    5.8s\n",
      "[Parallel(n_jobs=-1)]: Done 5530 out of 5530 | elapsed:   18.3s finished\n",
      "[Parallel(n_jobs=-1)]: Using backend LokyBackend with 8 concurrent workers.\n"
     ]
    },
    {
     "name": "stdout",
     "output_type": "stream",
     "text": [
      "Best parameters: {'max_depth': 3, 'min_samples_leaf': 7})\n",
      "Training score 15 :  0.3527127824228794\n",
      "Testing score 15 :  0.3034328061752637\n",
      "Input :  [180, 22, 10, 0, 0, 0, 0, 1, 1, 0, 0, 1, 0, 0, 0, 1, 0, 0, 0, 0, 0, 1, 0, 0, 0]\n",
      "Prediction :  [105.45098039]  minutes\n",
      "Fitting 10 folds for each of 553 candidates, totalling 5530 fits\n"
     ]
    },
    {
     "name": "stderr",
     "output_type": "stream",
     "text": [
      "[Parallel(n_jobs=-1)]: Done  56 tasks      | elapsed:    0.2s\n",
      "[Parallel(n_jobs=-1)]: Done 2160 tasks      | elapsed:    4.8s\n",
      "[Parallel(n_jobs=-1)]: Done 5530 out of 5530 | elapsed:   11.9s finished\n"
     ]
    },
    {
     "name": "stdout",
     "output_type": "stream",
     "text": [
      "Best parameters: {'max_depth': 4, 'min_samples_leaf': 56})\n",
      "Training score 16 :  0.3420008478338774\n",
      "Testing score 16 :  0.2580565195060597\n",
      "Input :  [180, 22, 10, 0, 0, 0, 0, 1, 1, 0, 0, 1, 0, 0, 0, 1, 0, 0, 0, 0, 0, 1, 0, 0, 0]\n",
      "Prediction :  [113.53947368]  minutes\n",
      "Fitting 10 folds for each of 553 candidates, totalling 5530 fits\n"
     ]
    },
    {
     "name": "stderr",
     "output_type": "stream",
     "text": [
      "[Parallel(n_jobs=-1)]: Using backend LokyBackend with 8 concurrent workers.\n",
      "[Parallel(n_jobs=-1)]: Done  56 tasks      | elapsed:    0.2s\n",
      "[Parallel(n_jobs=-1)]: Done 2160 tasks      | elapsed:    4.1s\n",
      "[Parallel(n_jobs=-1)]: Done 5530 out of 5530 | elapsed:   11.4s finished\n",
      "[Parallel(n_jobs=-1)]: Using backend LokyBackend with 8 concurrent workers.\n"
     ]
    },
    {
     "name": "stdout",
     "output_type": "stream",
     "text": [
      "Best parameters: {'max_depth': 3, 'min_samples_leaf': 38})\n",
      "Training score 17 :  0.3385669579039655\n",
      "Testing score 17 :  0.3134569910814361\n",
      "Input :  [180, 22, 10, 0, 0, 0, 0, 1, 1, 0, 0, 1, 0, 0, 0, 1, 0, 0, 0, 0, 0, 1, 0, 0, 0]\n",
      "Prediction :  [108.17567568]  minutes\n",
      "Fitting 10 folds for each of 553 candidates, totalling 5530 fits\n"
     ]
    },
    {
     "name": "stderr",
     "output_type": "stream",
     "text": [
      "[Parallel(n_jobs=-1)]: Done  56 tasks      | elapsed:    0.2s\n",
      "[Parallel(n_jobs=-1)]: Done 2160 tasks      | elapsed:    5.6s\n",
      "[Parallel(n_jobs=-1)]: Done 5530 out of 5530 | elapsed:   11.9s finished\n",
      "[Parallel(n_jobs=-1)]: Using backend LokyBackend with 8 concurrent workers.\n"
     ]
    },
    {
     "name": "stdout",
     "output_type": "stream",
     "text": [
      "Best parameters: {'max_depth': 4, 'min_samples_leaf': 21})\n",
      "Training score 18 :  0.4035604954124711\n",
      "Testing score 18 :  0.25893182558952177\n",
      "Input :  [180, 22, 10, 0, 0, 0, 0, 1, 1, 0, 0, 1, 0, 0, 0, 1, 0, 0, 0, 0, 0, 1, 0, 0, 0]\n",
      "Prediction :  [136.25]  minutes\n",
      "Fitting 10 folds for each of 553 candidates, totalling 5530 fits\n"
     ]
    },
    {
     "name": "stderr",
     "output_type": "stream",
     "text": [
      "[Parallel(n_jobs=-1)]: Done  56 tasks      | elapsed:    0.2s\n",
      "[Parallel(n_jobs=-1)]: Done 2160 tasks      | elapsed:    4.1s\n",
      "[Parallel(n_jobs=-1)]: Done 5530 out of 5530 | elapsed:    9.8s finished\n",
      "[Parallel(n_jobs=-1)]: Using backend LokyBackend with 8 concurrent workers.\n"
     ]
    },
    {
     "name": "stdout",
     "output_type": "stream",
     "text": [
      "Best parameters: {'max_depth': 4, 'min_samples_leaf': 27})\n",
      "Training score 19 :  0.3718185251495506\n",
      "Testing score 19 :  0.2743881868314918\n",
      "Input :  [180, 22, 10, 0, 0, 0, 0, 1, 1, 0, 0, 1, 0, 0, 0, 1, 0, 0, 0, 0, 0, 1, 0, 0, 0]\n",
      "Prediction :  [107.38317757]  minutes\n",
      "Fitting 10 folds for each of 553 candidates, totalling 5530 fits\n"
     ]
    },
    {
     "name": "stderr",
     "output_type": "stream",
     "text": [
      "[Parallel(n_jobs=-1)]: Done  56 tasks      | elapsed:    0.2s\n",
      "[Parallel(n_jobs=-1)]: Done 1200 tasks      | elapsed:    2.7s\n",
      "[Parallel(n_jobs=-1)]: Done 3200 tasks      | elapsed:    6.4s\n",
      "[Parallel(n_jobs=-1)]: Done 5530 out of 5530 | elapsed:   10.3s finished\n",
      "[Parallel(n_jobs=-1)]: Using backend LokyBackend with 8 concurrent workers.\n"
     ]
    },
    {
     "name": "stdout",
     "output_type": "stream",
     "text": [
      "Best parameters: {'max_depth': 3, 'min_samples_leaf': 10})\n",
      "Training score 20 :  0.35823338201948307\n",
      "Testing score 20 :  0.3099729307778102\n",
      "Input :  [180, 22, 10, 0, 0, 0, 0, 1, 1, 0, 0, 1, 0, 0, 0, 1, 0, 0, 0, 0, 0, 1, 0, 0, 0]\n",
      "Prediction :  [106.88741722]  minutes\n",
      "Fitting 10 folds for each of 553 candidates, totalling 5530 fits\n"
     ]
    },
    {
     "name": "stderr",
     "output_type": "stream",
     "text": [
      "[Parallel(n_jobs=-1)]: Done  56 tasks      | elapsed:    0.2s\n",
      "[Parallel(n_jobs=-1)]: Done 2160 tasks      | elapsed:    4.0s\n",
      "[Parallel(n_jobs=-1)]: Done 5530 out of 5530 | elapsed:    9.8s finished\n",
      "[Parallel(n_jobs=-1)]: Using backend LokyBackend with 8 concurrent workers.\n"
     ]
    },
    {
     "name": "stdout",
     "output_type": "stream",
     "text": [
      "Best parameters: {'max_depth': 3, 'min_samples_leaf': 20})\n",
      "Training score 21 :  0.34363070864948997\n",
      "Testing score 21 :  0.2767852231426683\n",
      "Input :  [180, 22, 10, 0, 0, 0, 0, 1, 1, 0, 0, 1, 0, 0, 0, 1, 0, 0, 0, 0, 0, 1, 0, 0, 0]\n",
      "Prediction :  [111.80921053]  minutes\n",
      "Fitting 10 folds for each of 553 candidates, totalling 5530 fits\n"
     ]
    },
    {
     "name": "stderr",
     "output_type": "stream",
     "text": [
      "[Parallel(n_jobs=-1)]: Done  56 tasks      | elapsed:    0.2s\n",
      "[Parallel(n_jobs=-1)]: Done 2160 tasks      | elapsed:    4.0s\n",
      "[Parallel(n_jobs=-1)]: Done 5530 out of 5530 | elapsed:   10.3s finished\n",
      "[Parallel(n_jobs=-1)]: Using backend LokyBackend with 8 concurrent workers.\n"
     ]
    },
    {
     "name": "stdout",
     "output_type": "stream",
     "text": [
      "Best parameters: {'max_depth': 4, 'min_samples_leaf': 55})\n",
      "Training score 22 :  0.39706319938680557\n",
      "Testing score 22 :  0.08033371592513594\n",
      "Input :  [180, 22, 10, 0, 0, 0, 0, 1, 1, 0, 0, 1, 0, 0, 0, 1, 0, 0, 0, 0, 0, 1, 0, 0, 0]\n",
      "Prediction :  [192.30909091]  minutes\n",
      "Fitting 10 folds for each of 553 candidates, totalling 5530 fits\n"
     ]
    },
    {
     "name": "stderr",
     "output_type": "stream",
     "text": [
      "[Parallel(n_jobs=-1)]: Done  56 tasks      | elapsed:    0.2s\n",
      "[Parallel(n_jobs=-1)]: Done 2160 tasks      | elapsed:    4.4s\n",
      "[Parallel(n_jobs=-1)]: Done 5530 out of 5530 | elapsed:   11.0s finished\n",
      "[Parallel(n_jobs=-1)]: Using backend LokyBackend with 8 concurrent workers.\n"
     ]
    },
    {
     "name": "stdout",
     "output_type": "stream",
     "text": [
      "Best parameters: {'max_depth': 4, 'min_samples_leaf': 64})\n",
      "Training score 23 :  0.3086716859129488\n",
      "Testing score 23 :  0.32510398660633055\n",
      "Input :  [180, 22, 10, 0, 0, 0, 0, 1, 1, 0, 0, 1, 0, 0, 0, 1, 0, 0, 0, 0, 0, 1, 0, 0, 0]\n",
      "Prediction :  [118.7962963]  minutes\n",
      "Fitting 10 folds for each of 553 candidates, totalling 5530 fits\n"
     ]
    },
    {
     "name": "stderr",
     "output_type": "stream",
     "text": [
      "[Parallel(n_jobs=-1)]: Done  56 tasks      | elapsed:    0.2s\n",
      "[Parallel(n_jobs=-1)]: Done 2160 tasks      | elapsed:    4.3s\n",
      "[Parallel(n_jobs=-1)]: Done 5530 out of 5530 | elapsed:   11.0s finished\n",
      "[Parallel(n_jobs=-1)]: Using backend LokyBackend with 8 concurrent workers.\n"
     ]
    },
    {
     "name": "stdout",
     "output_type": "stream",
     "text": [
      "Best parameters: {'max_depth': 3, 'min_samples_leaf': 10})\n",
      "Training score 24 :  0.3481538164050748\n",
      "Testing score 24 :  0.319753537917842\n",
      "Input :  [180, 22, 10, 0, 0, 0, 0, 1, 1, 0, 0, 1, 0, 0, 0, 1, 0, 0, 0, 0, 0, 1, 0, 0, 0]\n",
      "Prediction :  [107.41290323]  minutes\n",
      "Fitting 10 folds for each of 553 candidates, totalling 5530 fits\n"
     ]
    },
    {
     "name": "stderr",
     "output_type": "stream",
     "text": [
      "[Parallel(n_jobs=-1)]: Done  56 tasks      | elapsed:    0.2s\n",
      "[Parallel(n_jobs=-1)]: Done 2160 tasks      | elapsed:    9.4s\n",
      "[Parallel(n_jobs=-1)]: Done 5530 out of 5530 | elapsed:   25.8s finished\n",
      "[Parallel(n_jobs=-1)]: Using backend LokyBackend with 8 concurrent workers.\n"
     ]
    },
    {
     "name": "stdout",
     "output_type": "stream",
     "text": [
      "Best parameters: {'max_depth': 4, 'min_samples_leaf': 42})\n",
      "Training score 25 :  0.37999834828825163\n",
      "Testing score 25 :  0.22563888475308025\n",
      "Input :  [180, 22, 10, 0, 0, 0, 0, 1, 1, 0, 0, 1, 0, 0, 0, 1, 0, 0, 0, 0, 0, 1, 0, 0, 0]\n",
      "Prediction :  [110.62820513]  minutes\n",
      "Fitting 10 folds for each of 553 candidates, totalling 5530 fits\n"
     ]
    },
    {
     "name": "stderr",
     "output_type": "stream",
     "text": [
      "[Parallel(n_jobs=-1)]: Done  56 tasks      | elapsed:    0.2s\n",
      "[Parallel(n_jobs=-1)]: Done 2160 tasks      | elapsed:    5.5s\n",
      "[Parallel(n_jobs=-1)]: Done 5530 out of 5530 | elapsed:   12.0s finished\n",
      "[Parallel(n_jobs=-1)]: Using backend LokyBackend with 8 concurrent workers.\n"
     ]
    },
    {
     "name": "stdout",
     "output_type": "stream",
     "text": [
      "Best parameters: {'max_depth': 3, 'min_samples_leaf': 20})\n",
      "Training score 26 :  0.3480471223654409\n",
      "Testing score 26 :  0.3079758618845483\n",
      "Input :  [180, 22, 10, 0, 0, 0, 0, 1, 1, 0, 0, 1, 0, 0, 0, 1, 0, 0, 0, 0, 0, 1, 0, 0, 0]\n",
      "Prediction :  [108.66891892]  minutes\n",
      "Fitting 10 folds for each of 553 candidates, totalling 5530 fits\n"
     ]
    },
    {
     "name": "stderr",
     "output_type": "stream",
     "text": [
      "[Parallel(n_jobs=-1)]: Done  56 tasks      | elapsed:    0.2s\n",
      "[Parallel(n_jobs=-1)]: Done 2160 tasks      | elapsed:    4.3s\n",
      "[Parallel(n_jobs=-1)]: Done 5530 out of 5530 | elapsed:   10.8s finished\n",
      "[Parallel(n_jobs=-1)]: Using backend LokyBackend with 8 concurrent workers.\n"
     ]
    },
    {
     "name": "stdout",
     "output_type": "stream",
     "text": [
      "Best parameters: {'max_depth': 4, 'min_samples_leaf': 79})\n",
      "Training score 27 :  0.29899244377457657\n",
      "Testing score 27 :  0.3494331490383973\n",
      "Input :  [180, 22, 10, 0, 0, 0, 0, 1, 1, 0, 0, 1, 0, 0, 0, 1, 0, 0, 0, 0, 0, 1, 0, 0, 0]\n",
      "Prediction :  [115.3956044]  minutes\n",
      "Fitting 10 folds for each of 553 candidates, totalling 5530 fits\n"
     ]
    },
    {
     "name": "stderr",
     "output_type": "stream",
     "text": [
      "[Parallel(n_jobs=-1)]: Done  56 tasks      | elapsed:    0.2s\n",
      "[Parallel(n_jobs=-1)]: Done 2160 tasks      | elapsed:    4.5s\n",
      "[Parallel(n_jobs=-1)]: Done 5530 out of 5530 | elapsed:   11.2s finished\n",
      "[Parallel(n_jobs=-1)]: Using backend LokyBackend with 8 concurrent workers.\n"
     ]
    },
    {
     "name": "stdout",
     "output_type": "stream",
     "text": [
      "Best parameters: {'max_depth': 3, 'min_samples_leaf': 3})\n",
      "Training score 28 :  0.3997431505724923\n",
      "Testing score 28 :  0.20186526061467125\n",
      "Input :  [180, 22, 10, 0, 0, 0, 0, 1, 1, 0, 0, 1, 0, 0, 0, 1, 0, 0, 0, 0, 0, 1, 0, 0, 0]\n",
      "Prediction :  [108.7672956]  minutes\n",
      "Fitting 10 folds for each of 553 candidates, totalling 5530 fits\n"
     ]
    },
    {
     "name": "stderr",
     "output_type": "stream",
     "text": [
      "[Parallel(n_jobs=-1)]: Done  56 tasks      | elapsed:    0.2s\n",
      "[Parallel(n_jobs=-1)]: Done 2160 tasks      | elapsed:    4.2s\n",
      "[Parallel(n_jobs=-1)]: Done 5530 out of 5530 | elapsed:   10.7s finished\n",
      "[Parallel(n_jobs=-1)]: Using backend LokyBackend with 8 concurrent workers.\n"
     ]
    },
    {
     "name": "stdout",
     "output_type": "stream",
     "text": [
      "Best parameters: {'max_depth': 5, 'min_samples_leaf': 41})\n",
      "Training score 29 :  0.38209501401667634\n",
      "Testing score 29 :  0.17135451524558498\n",
      "Input :  [180, 22, 10, 0, 0, 0, 0, 1, 1, 0, 0, 1, 0, 0, 0, 1, 0, 0, 0, 0, 0, 1, 0, 0, 0]\n",
      "Prediction :  [194.37777778]  minutes\n",
      "Fitting 10 folds for each of 553 candidates, totalling 5530 fits\n"
     ]
    },
    {
     "name": "stderr",
     "output_type": "stream",
     "text": [
      "[Parallel(n_jobs=-1)]: Done  56 tasks      | elapsed:    0.2s\n",
      "[Parallel(n_jobs=-1)]: Done 2160 tasks      | elapsed:    4.5s\n",
      "[Parallel(n_jobs=-1)]: Done 5530 out of 5530 | elapsed:   11.7s finished\n",
      "[Parallel(n_jobs=-1)]: Using backend LokyBackend with 8 concurrent workers.\n"
     ]
    },
    {
     "name": "stdout",
     "output_type": "stream",
     "text": [
      "Best parameters: {'max_depth': 3, 'min_samples_leaf': 51})\n",
      "Training score 30 :  0.3328281627042955\n",
      "Testing score 30 :  0.3005075707911229\n",
      "Input :  [180, 22, 10, 0, 0, 0, 0, 1, 1, 0, 0, 1, 0, 0, 0, 1, 0, 0, 0, 0, 0, 1, 0, 0, 0]\n",
      "Prediction :  [179.5483871]  minutes\n",
      "Fitting 10 folds for each of 553 candidates, totalling 5530 fits\n"
     ]
    },
    {
     "name": "stderr",
     "output_type": "stream",
     "text": [
      "[Parallel(n_jobs=-1)]: Done  56 tasks      | elapsed:    0.2s\n",
      "[Parallel(n_jobs=-1)]: Done 2160 tasks      | elapsed:    5.0s\n",
      "[Parallel(n_jobs=-1)]: Done 5530 out of 5530 | elapsed:   12.3s finished\n",
      "[Parallel(n_jobs=-1)]: Using backend LokyBackend with 8 concurrent workers.\n"
     ]
    },
    {
     "name": "stdout",
     "output_type": "stream",
     "text": [
      "Best parameters: {'max_depth': 3, 'min_samples_leaf': 15})\n",
      "Training score 31 :  0.3497208546652246\n",
      "Testing score 31 :  0.2953688395353663\n",
      "Input :  [180, 22, 10, 0, 0, 0, 0, 1, 1, 0, 0, 1, 0, 0, 0, 1, 0, 0, 0, 0, 0, 1, 0, 0, 0]\n",
      "Prediction :  [109.42567568]  minutes\n",
      "Fitting 10 folds for each of 553 candidates, totalling 5530 fits\n"
     ]
    },
    {
     "name": "stderr",
     "output_type": "stream",
     "text": [
      "[Parallel(n_jobs=-1)]: Done  56 tasks      | elapsed:    0.2s\n",
      "[Parallel(n_jobs=-1)]: Done 2160 tasks      | elapsed:    4.8s\n",
      "[Parallel(n_jobs=-1)]: Done 5530 out of 5530 | elapsed:   11.8s finished\n",
      "[Parallel(n_jobs=-1)]: Using backend LokyBackend with 8 concurrent workers.\n"
     ]
    },
    {
     "name": "stdout",
     "output_type": "stream",
     "text": [
      "Best parameters: {'max_depth': 4, 'min_samples_leaf': 56})\n",
      "Training score 32 :  0.3465023579374372\n",
      "Testing score 32 :  0.29707542452347635\n",
      "Input :  [180, 22, 10, 0, 0, 0, 0, 1, 1, 0, 0, 1, 0, 0, 0, 1, 0, 0, 0, 0, 0, 1, 0, 0, 0]\n",
      "Prediction :  [112.31578947]  minutes\n",
      "Fitting 10 folds for each of 553 candidates, totalling 5530 fits\n"
     ]
    },
    {
     "name": "stderr",
     "output_type": "stream",
     "text": [
      "[Parallel(n_jobs=-1)]: Done  56 tasks      | elapsed:    0.2s\n",
      "[Parallel(n_jobs=-1)]: Done 2160 tasks      | elapsed:    4.8s\n",
      "[Parallel(n_jobs=-1)]: Done 5530 out of 5530 | elapsed:   12.1s finished\n",
      "[Parallel(n_jobs=-1)]: Using backend LokyBackend with 8 concurrent workers.\n"
     ]
    },
    {
     "name": "stdout",
     "output_type": "stream",
     "text": [
      "Best parameters: {'max_depth': 3, 'min_samples_leaf': 32})\n",
      "Training score 33 :  0.37461704889318326\n",
      "Testing score 33 :  0.23155520445074695\n",
      "Input :  [180, 22, 10, 0, 0, 0, 0, 1, 1, 0, 0, 1, 0, 0, 0, 1, 0, 0, 0, 0, 0, 1, 0, 0, 0]\n",
      "Prediction :  [182.57692308]  minutes\n",
      "Fitting 10 folds for each of 553 candidates, totalling 5530 fits\n"
     ]
    },
    {
     "name": "stderr",
     "output_type": "stream",
     "text": [
      "[Parallel(n_jobs=-1)]: Done  56 tasks      | elapsed:    0.2s\n",
      "[Parallel(n_jobs=-1)]: Done 2160 tasks      | elapsed:    4.8s\n",
      "[Parallel(n_jobs=-1)]: Done 5530 out of 5530 | elapsed:   12.6s finished\n",
      "[Parallel(n_jobs=-1)]: Using backend LokyBackend with 8 concurrent workers.\n"
     ]
    },
    {
     "name": "stdout",
     "output_type": "stream",
     "text": [
      "Best parameters: {'max_depth': 3, 'min_samples_leaf': 37})\n",
      "Training score 34 :  0.3758370045191166\n",
      "Testing score 34 :  0.1621254871022786\n",
      "Input :  [180, 22, 10, 0, 0, 0, 0, 1, 1, 0, 0, 1, 0, 0, 0, 1, 0, 0, 0, 0, 0, 1, 0, 0, 0]\n",
      "Prediction :  [112.49668874]  minutes\n",
      "Fitting 10 folds for each of 553 candidates, totalling 5530 fits\n"
     ]
    },
    {
     "name": "stderr",
     "output_type": "stream",
     "text": [
      "[Parallel(n_jobs=-1)]: Done  56 tasks      | elapsed:    0.2s\n",
      "[Parallel(n_jobs=-1)]: Done 2160 tasks      | elapsed:    4.6s\n",
      "[Parallel(n_jobs=-1)]: Done 5530 out of 5530 | elapsed:   11.0s finished\n",
      "[Parallel(n_jobs=-1)]: Using backend LokyBackend with 8 concurrent workers.\n"
     ]
    },
    {
     "name": "stdout",
     "output_type": "stream",
     "text": [
      "Best parameters: {'max_depth': 4, 'min_samples_leaf': 67})\n",
      "Training score 35 :  0.31181009273146276\n",
      "Testing score 35 :  0.334200365290087\n",
      "Input :  [180, 22, 10, 0, 0, 0, 0, 1, 1, 0, 0, 1, 0, 0, 0, 1, 0, 0, 0, 0, 0, 1, 0, 0, 0]\n",
      "Prediction :  [107.5308642]  minutes\n",
      "Fitting 10 folds for each of 553 candidates, totalling 5530 fits\n"
     ]
    },
    {
     "name": "stderr",
     "output_type": "stream",
     "text": [
      "[Parallel(n_jobs=-1)]: Done  56 tasks      | elapsed:    0.2s\n",
      "[Parallel(n_jobs=-1)]: Done 2160 tasks      | elapsed:    4.3s\n",
      "[Parallel(n_jobs=-1)]: Done 5530 out of 5530 | elapsed:   11.4s finished\n",
      "[Parallel(n_jobs=-1)]: Using backend LokyBackend with 8 concurrent workers.\n"
     ]
    },
    {
     "name": "stdout",
     "output_type": "stream",
     "text": [
      "Best parameters: {'max_depth': 4, 'min_samples_leaf': 43})\n",
      "Training score 36 :  0.3736479102923196\n",
      "Testing score 36 :  0.23454837095061487\n",
      "Input :  [180, 22, 10, 0, 0, 0, 0, 1, 1, 0, 0, 1, 0, 0, 0, 1, 0, 0, 0, 0, 0, 1, 0, 0, 0]\n",
      "Prediction :  [104.34782609]  minutes\n",
      "Fitting 10 folds for each of 553 candidates, totalling 5530 fits\n"
     ]
    },
    {
     "name": "stderr",
     "output_type": "stream",
     "text": [
      "[Parallel(n_jobs=-1)]: Done  56 tasks      | elapsed:    0.2s\n",
      "[Parallel(n_jobs=-1)]: Done 2160 tasks      | elapsed:    6.0s\n",
      "[Parallel(n_jobs=-1)]: Done 5530 out of 5530 | elapsed:   15.3s finished\n",
      "[Parallel(n_jobs=-1)]: Using backend LokyBackend with 8 concurrent workers.\n"
     ]
    },
    {
     "name": "stdout",
     "output_type": "stream",
     "text": [
      "Best parameters: {'max_depth': 3, 'min_samples_leaf': 43})\n",
      "Training score 37 :  0.34406529229644434\n",
      "Testing score 37 :  0.30575811937635244\n",
      "Input :  [180, 22, 10, 0, 0, 0, 0, 1, 1, 0, 0, 1, 0, 0, 0, 1, 0, 0, 0, 0, 0, 1, 0, 0, 0]\n",
      "Prediction :  [109.02580645]  minutes\n",
      "Fitting 10 folds for each of 553 candidates, totalling 5530 fits\n"
     ]
    },
    {
     "name": "stderr",
     "output_type": "stream",
     "text": [
      "[Parallel(n_jobs=-1)]: Done  56 tasks      | elapsed:    0.3s\n",
      "[Parallel(n_jobs=-1)]: Done 1200 tasks      | elapsed:    3.4s\n",
      "[Parallel(n_jobs=-1)]: Done 3200 tasks      | elapsed:    8.5s\n",
      "[Parallel(n_jobs=-1)]: Done 5515 out of 5530 | elapsed:   14.1s remaining:    0.0s\n",
      "[Parallel(n_jobs=-1)]: Done 5530 out of 5530 | elapsed:   14.2s finished\n",
      "[Parallel(n_jobs=-1)]: Using backend LokyBackend with 8 concurrent workers.\n"
     ]
    },
    {
     "name": "stdout",
     "output_type": "stream",
     "text": [
      "Best parameters: {'max_depth': 4, 'min_samples_leaf': 23})\n",
      "Training score 38 :  0.38584004832730456\n",
      "Testing score 38 :  0.24704394954814202\n",
      "Input :  [180, 22, 10, 0, 0, 0, 0, 1, 1, 0, 0, 1, 0, 0, 0, 1, 0, 0, 0, 0, 0, 1, 0, 0, 0]\n",
      "Prediction :  [109.152]  minutes\n",
      "Fitting 10 folds for each of 553 candidates, totalling 5530 fits\n"
     ]
    },
    {
     "name": "stderr",
     "output_type": "stream",
     "text": [
      "[Parallel(n_jobs=-1)]: Done  56 tasks      | elapsed:    0.2s\n",
      "[Parallel(n_jobs=-1)]: Done 1200 tasks      | elapsed:    3.5s\n",
      "[Parallel(n_jobs=-1)]: Done 3200 tasks      | elapsed:    9.3s\n",
      "[Parallel(n_jobs=-1)]: Done 5530 out of 5530 | elapsed:   17.1s finished\n",
      "[Parallel(n_jobs=-1)]: Using backend LokyBackend with 8 concurrent workers.\n"
     ]
    },
    {
     "name": "stdout",
     "output_type": "stream",
     "text": [
      "Best parameters: {'max_depth': 3, 'min_samples_leaf': 17})\n",
      "Training score 39 :  0.34652031026084396\n",
      "Testing score 39 :  0.30497122691118017\n",
      "Input :  [180, 22, 10, 0, 0, 0, 0, 1, 1, 0, 0, 1, 0, 0, 0, 1, 0, 0, 0, 0, 0, 1, 0, 0, 0]\n",
      "Prediction :  [109.32484076]  minutes\n",
      "Fitting 10 folds for each of 553 candidates, totalling 5530 fits\n"
     ]
    },
    {
     "name": "stderr",
     "output_type": "stream",
     "text": [
      "[Parallel(n_jobs=-1)]: Done  56 tasks      | elapsed:    0.3s\n",
      "[Parallel(n_jobs=-1)]: Done 1200 tasks      | elapsed:    4.2s\n",
      "[Parallel(n_jobs=-1)]: Done 3200 tasks      | elapsed:   10.9s\n",
      "[Parallel(n_jobs=-1)]: Done 5530 out of 5530 | elapsed:   18.0s finished\n",
      "[Parallel(n_jobs=-1)]: Using backend LokyBackend with 8 concurrent workers.\n"
     ]
    },
    {
     "name": "stdout",
     "output_type": "stream",
     "text": [
      "Best parameters: {'max_depth': 3, 'min_samples_leaf': 17})\n",
      "Training score 40 :  0.34693067899437235\n",
      "Testing score 40 :  0.2964797447518629\n",
      "Input :  [180, 22, 10, 0, 0, 0, 0, 1, 1, 0, 0, 1, 0, 0, 0, 1, 0, 0, 0, 0, 0, 1, 0, 0, 0]\n",
      "Prediction :  [110.47540984]  minutes\n",
      "Fitting 10 folds for each of 553 candidates, totalling 5530 fits\n"
     ]
    },
    {
     "name": "stderr",
     "output_type": "stream",
     "text": [
      "[Parallel(n_jobs=-1)]: Done  56 tasks      | elapsed:    0.3s\n",
      "[Parallel(n_jobs=-1)]: Done 2160 tasks      | elapsed:    6.2s\n",
      "[Parallel(n_jobs=-1)]: Done 5530 out of 5530 | elapsed:   14.7s finished\n",
      "[Parallel(n_jobs=-1)]: Using backend LokyBackend with 8 concurrent workers.\n"
     ]
    },
    {
     "name": "stdout",
     "output_type": "stream",
     "text": [
      "Best parameters: {'max_depth': 3, 'min_samples_leaf': 18})\n",
      "Training score 41 :  0.3430567792822198\n",
      "Testing score 41 :  0.3303412800115002\n",
      "Input :  [180, 22, 10, 0, 0, 0, 0, 1, 1, 0, 0, 1, 0, 0, 0, 1, 0, 0, 0, 0, 0, 1, 0, 0, 0]\n",
      "Prediction :  [108.46666667]  minutes\n",
      "Fitting 10 folds for each of 553 candidates, totalling 5530 fits\n"
     ]
    },
    {
     "name": "stderr",
     "output_type": "stream",
     "text": [
      "[Parallel(n_jobs=-1)]: Done  56 tasks      | elapsed:    0.2s\n",
      "[Parallel(n_jobs=-1)]: Done 1200 tasks      | elapsed:    3.6s\n",
      "[Parallel(n_jobs=-1)]: Done 3200 tasks      | elapsed:    9.5s\n",
      "[Parallel(n_jobs=-1)]: Done 5530 out of 5530 | elapsed:   16.6s finished\n",
      "[Parallel(n_jobs=-1)]: Using backend LokyBackend with 8 concurrent workers.\n"
     ]
    },
    {
     "name": "stdout",
     "output_type": "stream",
     "text": [
      "Best parameters: {'max_depth': 3, 'min_samples_leaf': 14})\n",
      "Training score 42 :  0.3685001565338599\n",
      "Testing score 42 :  0.24323467587739822\n",
      "Input :  [180, 22, 10, 0, 0, 0, 0, 1, 1, 0, 0, 1, 0, 0, 0, 1, 0, 0, 0, 0, 0, 1, 0, 0, 0]\n",
      "Prediction :  [108.97315436]  minutes\n",
      "Fitting 10 folds for each of 553 candidates, totalling 5530 fits\n"
     ]
    },
    {
     "name": "stderr",
     "output_type": "stream",
     "text": [
      "[Parallel(n_jobs=-1)]: Done  56 tasks      | elapsed:    0.3s\n",
      "[Parallel(n_jobs=-1)]: Done 1200 tasks      | elapsed:    3.6s\n",
      "[Parallel(n_jobs=-1)]: Done 3200 tasks      | elapsed:   10.5s\n",
      "[Parallel(n_jobs=-1)]: Done 5530 out of 5530 | elapsed:   17.8s finished\n",
      "[Parallel(n_jobs=-1)]: Using backend LokyBackend with 8 concurrent workers.\n"
     ]
    },
    {
     "name": "stdout",
     "output_type": "stream",
     "text": [
      "Best parameters: {'max_depth': 4, 'min_samples_leaf': 18})\n",
      "Training score 43 :  0.3825157960529839\n",
      "Testing score 43 :  0.26221048262627755\n",
      "Input :  [180, 22, 10, 0, 0, 0, 0, 1, 1, 0, 0, 1, 0, 0, 0, 1, 0, 0, 0, 0, 0, 1, 0, 0, 0]\n",
      "Prediction :  [146.26086957]  minutes\n",
      "Fitting 10 folds for each of 553 candidates, totalling 5530 fits\n"
     ]
    },
    {
     "name": "stderr",
     "output_type": "stream",
     "text": [
      "[Parallel(n_jobs=-1)]: Done  56 tasks      | elapsed:    0.2s\n",
      "[Parallel(n_jobs=-1)]: Done 1200 tasks      | elapsed:    3.6s\n",
      "[Parallel(n_jobs=-1)]: Done 3200 tasks      | elapsed:    9.9s\n",
      "[Parallel(n_jobs=-1)]: Done 5530 out of 5530 | elapsed:   17.0s finished\n",
      "[Parallel(n_jobs=-1)]: Using backend LokyBackend with 8 concurrent workers.\n"
     ]
    },
    {
     "name": "stdout",
     "output_type": "stream",
     "text": [
      "Best parameters: {'max_depth': 4, 'min_samples_leaf': 35})\n",
      "Training score 44 :  0.39134514532922104\n",
      "Testing score 44 :  0.13475563687033432\n",
      "Input :  [180, 22, 10, 0, 0, 0, 0, 1, 1, 0, 0, 1, 0, 0, 0, 1, 0, 0, 0, 0, 0, 1, 0, 0, 0]\n",
      "Prediction :  [105.6031746]  minutes\n",
      "Fitting 10 folds for each of 553 candidates, totalling 5530 fits\n"
     ]
    },
    {
     "name": "stderr",
     "output_type": "stream",
     "text": [
      "[Parallel(n_jobs=-1)]: Done  56 tasks      | elapsed:    0.2s\n",
      "[Parallel(n_jobs=-1)]: Done 1200 tasks      | elapsed:    3.6s\n",
      "[Parallel(n_jobs=-1)]: Done 3200 tasks      | elapsed:    9.8s\n",
      "[Parallel(n_jobs=-1)]: Done 5530 out of 5530 | elapsed:   16.8s finished\n",
      "[Parallel(n_jobs=-1)]: Using backend LokyBackend with 8 concurrent workers.\n"
     ]
    },
    {
     "name": "stdout",
     "output_type": "stream",
     "text": [
      "Best parameters: {'max_depth': 3, 'min_samples_leaf': 2})\n",
      "Training score 45 :  0.3650574852562669\n",
      "Testing score 45 :  0.294973633477696\n",
      "Input :  [180, 22, 10, 0, 0, 0, 0, 1, 1, 0, 0, 1, 0, 0, 0, 1, 0, 0, 0, 0, 0, 1, 0, 0, 0]\n",
      "Prediction :  [105.86896552]  minutes\n",
      "Fitting 10 folds for each of 553 candidates, totalling 5530 fits\n"
     ]
    },
    {
     "name": "stderr",
     "output_type": "stream",
     "text": [
      "[Parallel(n_jobs=-1)]: Done  56 tasks      | elapsed:    0.3s\n",
      "[Parallel(n_jobs=-1)]: Done 1200 tasks      | elapsed:    4.1s\n",
      "[Parallel(n_jobs=-1)]: Done 3200 tasks      | elapsed:   10.3s\n",
      "[Parallel(n_jobs=-1)]: Done 5515 out of 5530 | elapsed:   17.2s remaining:    0.0s\n",
      "[Parallel(n_jobs=-1)]: Done 5530 out of 5530 | elapsed:   17.2s finished\n",
      "[Parallel(n_jobs=-1)]: Using backend LokyBackend with 8 concurrent workers.\n"
     ]
    },
    {
     "name": "stdout",
     "output_type": "stream",
     "text": [
      "Best parameters: {'max_depth': 5, 'min_samples_leaf': 39})\n",
      "Training score 46 :  0.363032945086051\n",
      "Testing score 46 :  0.2748000789082228\n",
      "Input :  [180, 22, 10, 0, 0, 0, 0, 1, 1, 0, 0, 1, 0, 0, 0, 1, 0, 0, 0, 0, 0, 1, 0, 0, 0]\n",
      "Prediction :  [110.96969697]  minutes\n",
      "Fitting 10 folds for each of 553 candidates, totalling 5530 fits\n"
     ]
    },
    {
     "name": "stderr",
     "output_type": "stream",
     "text": [
      "[Parallel(n_jobs=-1)]: Done  56 tasks      | elapsed:    0.2s\n",
      "[Parallel(n_jobs=-1)]: Done 1200 tasks      | elapsed:    3.7s\n",
      "[Parallel(n_jobs=-1)]: Done 3200 tasks      | elapsed:    9.7s\n",
      "[Parallel(n_jobs=-1)]: Done 5530 out of 5530 | elapsed:   16.8s finished\n",
      "[Parallel(n_jobs=-1)]: Using backend LokyBackend with 8 concurrent workers.\n"
     ]
    },
    {
     "name": "stdout",
     "output_type": "stream",
     "text": [
      "Best parameters: {'max_depth': 4, 'min_samples_leaf': 79})\n",
      "Training score 47 :  0.33852704469150074\n",
      "Testing score 47 :  0.2612219514884989\n",
      "Input :  [180, 22, 10, 0, 0, 0, 0, 1, 1, 0, 0, 1, 0, 0, 0, 1, 0, 0, 0, 0, 0, 1, 0, 0, 0]\n",
      "Prediction :  [174.83333333]  minutes\n",
      "Fitting 10 folds for each of 553 candidates, totalling 5530 fits\n"
     ]
    },
    {
     "name": "stderr",
     "output_type": "stream",
     "text": [
      "[Parallel(n_jobs=-1)]: Done  56 tasks      | elapsed:    0.3s\n",
      "[Parallel(n_jobs=-1)]: Done 1200 tasks      | elapsed:    4.2s\n",
      "[Parallel(n_jobs=-1)]: Done 3200 tasks      | elapsed:   10.3s\n",
      "[Parallel(n_jobs=-1)]: Done 5530 out of 5530 | elapsed:   17.2s finished\n",
      "[Parallel(n_jobs=-1)]: Using backend LokyBackend with 8 concurrent workers.\n"
     ]
    },
    {
     "name": "stdout",
     "output_type": "stream",
     "text": [
      "Best parameters: {'max_depth': 4, 'min_samples_leaf': 37})\n",
      "Training score 48 :  0.3547106322955689\n",
      "Testing score 48 :  0.19402789555876054\n",
      "Input :  [180, 22, 10, 0, 0, 0, 0, 1, 1, 0, 0, 1, 0, 0, 0, 1, 0, 0, 0, 0, 0, 1, 0, 0, 0]\n",
      "Prediction :  [163.25352113]  minutes\n",
      "Fitting 10 folds for each of 553 candidates, totalling 5530 fits\n"
     ]
    },
    {
     "name": "stderr",
     "output_type": "stream",
     "text": [
      "[Parallel(n_jobs=-1)]: Done  56 tasks      | elapsed:    0.3s\n",
      "[Parallel(n_jobs=-1)]: Done 1200 tasks      | elapsed:    4.0s\n",
      "[Parallel(n_jobs=-1)]: Done 3200 tasks      | elapsed:   10.1s\n",
      "[Parallel(n_jobs=-1)]: Done 5530 out of 5530 | elapsed:   17.5s finished\n",
      "[Parallel(n_jobs=-1)]: Using backend LokyBackend with 8 concurrent workers.\n"
     ]
    },
    {
     "name": "stdout",
     "output_type": "stream",
     "text": [
      "Best parameters: {'max_depth': 5, 'min_samples_leaf': 56})\n",
      "Training score 49 :  0.3415378237882224\n",
      "Testing score 49 :  0.3169912165579355\n",
      "Input :  [180, 22, 10, 0, 0, 0, 0, 1, 1, 0, 0, 1, 0, 0, 0, 1, 0, 0, 0, 0, 0, 1, 0, 0, 0]\n",
      "Prediction :  [111.12676056]  minutes\n",
      "Fitting 10 folds for each of 553 candidates, totalling 5530 fits\n"
     ]
    },
    {
     "name": "stderr",
     "output_type": "stream",
     "text": [
      "[Parallel(n_jobs=-1)]: Done  56 tasks      | elapsed:    0.3s\n",
      "[Parallel(n_jobs=-1)]: Done 1200 tasks      | elapsed:    4.3s\n",
      "[Parallel(n_jobs=-1)]: Done 3200 tasks      | elapsed:   11.4s\n",
      "[Parallel(n_jobs=-1)]: Done 5530 out of 5530 | elapsed:   21.4s finished\n",
      "[Parallel(n_jobs=-1)]: Using backend LokyBackend with 8 concurrent workers.\n"
     ]
    },
    {
     "name": "stdout",
     "output_type": "stream",
     "text": [
      "Best parameters: {'max_depth': 4, 'min_samples_leaf': 44})\n",
      "Training score 50 :  0.35115203917504534\n",
      "Testing score 50 :  0.2713395995059258\n",
      "Input :  [180, 22, 10, 0, 0, 0, 0, 1, 1, 0, 0, 1, 0, 0, 0, 1, 0, 0, 0, 0, 0, 1, 0, 0, 0]\n",
      "Prediction :  [104.89565217]  minutes\n",
      "Fitting 10 folds for each of 553 candidates, totalling 5530 fits\n"
     ]
    },
    {
     "name": "stderr",
     "output_type": "stream",
     "text": [
      "[Parallel(n_jobs=-1)]: Done  56 tasks      | elapsed:    0.3s\n",
      "[Parallel(n_jobs=-1)]: Done 1200 tasks      | elapsed:    5.1s\n",
      "[Parallel(n_jobs=-1)]: Done 3200 tasks      | elapsed:   12.5s\n",
      "[Parallel(n_jobs=-1)]: Done 5515 out of 5530 | elapsed:   20.8s remaining:    0.0s\n",
      "[Parallel(n_jobs=-1)]: Done 5530 out of 5530 | elapsed:   20.9s finished\n",
      "[Parallel(n_jobs=-1)]: Using backend LokyBackend with 8 concurrent workers.\n"
     ]
    },
    {
     "name": "stdout",
     "output_type": "stream",
     "text": [
      "Best parameters: {'max_depth': 4, 'min_samples_leaf': 70})\n",
      "Training score 51 :  0.36582356676096905\n",
      "Testing score 51 :  0.20968901830906916\n",
      "Input :  [180, 22, 10, 0, 0, 0, 0, 1, 1, 0, 0, 1, 0, 0, 0, 1, 0, 0, 0, 0, 0, 1, 0, 0, 0]\n",
      "Prediction :  [171.80672269]  minutes\n",
      "Fitting 10 folds for each of 553 candidates, totalling 5530 fits\n"
     ]
    },
    {
     "name": "stderr",
     "output_type": "stream",
     "text": [
      "[Parallel(n_jobs=-1)]: Done  56 tasks      | elapsed:    0.3s\n",
      "[Parallel(n_jobs=-1)]: Done 1200 tasks      | elapsed:    4.1s\n",
      "[Parallel(n_jobs=-1)]: Done 3200 tasks      | elapsed:   10.6s\n",
      "[Parallel(n_jobs=-1)]: Done 5530 out of 5530 | elapsed:   17.8s finished\n",
      "[Parallel(n_jobs=-1)]: Using backend LokyBackend with 8 concurrent workers.\n"
     ]
    },
    {
     "name": "stdout",
     "output_type": "stream",
     "text": [
      "Best parameters: {'max_depth': 3, 'min_samples_leaf': 49})\n",
      "Training score 52 :  0.30307391104344483\n",
      "Testing score 52 :  0.3427546173178915\n",
      "Input :  [180, 22, 10, 0, 0, 0, 0, 1, 1, 0, 0, 1, 0, 0, 0, 1, 0, 0, 0, 0, 0, 1, 0, 0, 0]\n",
      "Prediction :  [107.65753425]  minutes\n",
      "Fitting 10 folds for each of 553 candidates, totalling 5530 fits\n"
     ]
    },
    {
     "name": "stderr",
     "output_type": "stream",
     "text": [
      "[Parallel(n_jobs=-1)]: Done  56 tasks      | elapsed:    0.3s\n",
      "[Parallel(n_jobs=-1)]: Done 1200 tasks      | elapsed:    4.3s\n",
      "[Parallel(n_jobs=-1)]: Done 3200 tasks      | elapsed:   11.1s\n",
      "[Parallel(n_jobs=-1)]: Done 5515 out of 5530 | elapsed:   19.1s remaining:    0.0s\n",
      "[Parallel(n_jobs=-1)]: Done 5530 out of 5530 | elapsed:   19.1s finished\n",
      "[Parallel(n_jobs=-1)]: Using backend LokyBackend with 8 concurrent workers.\n"
     ]
    },
    {
     "name": "stdout",
     "output_type": "stream",
     "text": [
      "Best parameters: {'max_depth': 3, 'min_samples_leaf': 39})\n",
      "Training score 53 :  0.3229585890967859\n",
      "Testing score 53 :  0.35174095784240844\n",
      "Input :  [180, 22, 10, 0, 0, 0, 0, 1, 1, 0, 0, 1, 0, 0, 0, 1, 0, 0, 0, 0, 0, 1, 0, 0, 0]\n",
      "Prediction :  [110.72297297]  minutes\n",
      "Fitting 10 folds for each of 553 candidates, totalling 5530 fits\n"
     ]
    },
    {
     "name": "stderr",
     "output_type": "stream",
     "text": [
      "[Parallel(n_jobs=-1)]: Done  58 tasks      | elapsed:    0.3s\n",
      "[Parallel(n_jobs=-1)]: Done 1200 tasks      | elapsed:    4.0s\n",
      "[Parallel(n_jobs=-1)]: Done 3200 tasks      | elapsed:   13.3s\n",
      "[Parallel(n_jobs=-1)]: Done 5530 out of 5530 | elapsed:   25.1s finished\n",
      "[Parallel(n_jobs=-1)]: Using backend LokyBackend with 8 concurrent workers.\n"
     ]
    },
    {
     "name": "stdout",
     "output_type": "stream",
     "text": [
      "Best parameters: {'max_depth': 3, 'min_samples_leaf': 16})\n",
      "Training score 54 :  0.3431917902558803\n",
      "Testing score 54 :  0.32635711523507516\n",
      "Input :  [180, 22, 10, 0, 0, 0, 0, 1, 1, 0, 0, 1, 0, 0, 0, 1, 0, 0, 0, 0, 0, 1, 0, 0, 0]\n",
      "Prediction :  [108.96153846]  minutes\n",
      "Fitting 10 folds for each of 553 candidates, totalling 5530 fits\n"
     ]
    },
    {
     "name": "stderr",
     "output_type": "stream",
     "text": [
      "[Parallel(n_jobs=-1)]: Done  60 tasks      | elapsed:    0.5s\n",
      "[Parallel(n_jobs=-1)]: Done 1208 tasks      | elapsed:    6.3s\n",
      "[Parallel(n_jobs=-1)]: Done 3208 tasks      | elapsed:   15.9s\n",
      "[Parallel(n_jobs=-1)]: Done 5515 out of 5530 | elapsed:   26.5s remaining:    0.0s\n",
      "[Parallel(n_jobs=-1)]: Done 5530 out of 5530 | elapsed:   26.6s finished\n",
      "[Parallel(n_jobs=-1)]: Using backend LokyBackend with 8 concurrent workers.\n"
     ]
    },
    {
     "name": "stdout",
     "output_type": "stream",
     "text": [
      "Best parameters: {'max_depth': 4, 'min_samples_leaf': 53})\n",
      "Training score 55 :  0.306777850920135\n",
      "Testing score 55 :  0.39878195214855294\n",
      "Input :  [180, 22, 10, 0, 0, 0, 0, 1, 1, 0, 0, 1, 0, 0, 0, 1, 0, 0, 0, 0, 0, 1, 0, 0, 0]\n",
      "Prediction :  [106.59722222]  minutes\n",
      "Fitting 10 folds for each of 553 candidates, totalling 5530 fits\n"
     ]
    },
    {
     "name": "stderr",
     "output_type": "stream",
     "text": [
      "[Parallel(n_jobs=-1)]: Done  56 tasks      | elapsed:    0.4s\n",
      "[Parallel(n_jobs=-1)]: Done 656 tasks      | elapsed:    3.7s\n",
      "[Parallel(n_jobs=-1)]: Done 1656 tasks      | elapsed:    8.7s\n",
      "[Parallel(n_jobs=-1)]: Done 3056 tasks      | elapsed:   15.7s\n",
      "[Parallel(n_jobs=-1)]: Done 4856 tasks      | elapsed:   25.3s\n",
      "[Parallel(n_jobs=-1)]: Done 5530 out of 5530 | elapsed:   28.8s finished\n",
      "[Parallel(n_jobs=-1)]: Using backend LokyBackend with 8 concurrent workers.\n"
     ]
    },
    {
     "name": "stdout",
     "output_type": "stream",
     "text": [
      "Best parameters: {'max_depth': 3, 'min_samples_leaf': 21})\n",
      "Training score 56 :  0.36351589342465596\n",
      "Testing score 56 :  0.249894542639428\n",
      "Input :  [180, 22, 10, 0, 0, 0, 0, 1, 1, 0, 0, 1, 0, 0, 0, 1, 0, 0, 0, 0, 0, 1, 0, 0, 0]\n",
      "Prediction :  [108.59235669]  minutes\n",
      "Fitting 10 folds for each of 553 candidates, totalling 5530 fits\n"
     ]
    },
    {
     "name": "stderr",
     "output_type": "stream",
     "text": [
      "[Parallel(n_jobs=-1)]: Done  58 tasks      | elapsed:    0.4s\n",
      "[Parallel(n_jobs=-1)]: Done 1200 tasks      | elapsed:    5.9s\n",
      "[Parallel(n_jobs=-1)]: Done 3200 tasks      | elapsed:   15.1s\n",
      "[Parallel(n_jobs=-1)]: Done 5530 out of 5530 | elapsed:   24.7s finished\n",
      "[Parallel(n_jobs=-1)]: Using backend LokyBackend with 8 concurrent workers.\n"
     ]
    },
    {
     "name": "stdout",
     "output_type": "stream",
     "text": [
      "Best parameters: {'max_depth': 3, 'min_samples_leaf': 5})\n",
      "Training score 57 :  0.36039162838809935\n",
      "Testing score 57 :  0.2659605819248816\n",
      "Input :  [180, 22, 10, 0, 0, 0, 0, 1, 1, 0, 0, 1, 0, 0, 0, 1, 0, 0, 0, 0, 0, 1, 0, 0, 0]\n",
      "Prediction :  [109.51904762]  minutes\n",
      "Fitting 10 folds for each of 553 candidates, totalling 5530 fits\n"
     ]
    },
    {
     "name": "stderr",
     "output_type": "stream",
     "text": [
      "[Parallel(n_jobs=-1)]: Done  56 tasks      | elapsed:    0.4s\n",
      "[Parallel(n_jobs=-1)]: Done 656 tasks      | elapsed:    3.9s\n",
      "[Parallel(n_jobs=-1)]: Done 1656 tasks      | elapsed:    8.8s\n",
      "[Parallel(n_jobs=-1)]: Done 3056 tasks      | elapsed:   16.6s\n",
      "[Parallel(n_jobs=-1)]: Done 4856 tasks      | elapsed:   26.1s\n",
      "[Parallel(n_jobs=-1)]: Done 5530 out of 5530 | elapsed:   29.9s finished\n",
      "[Parallel(n_jobs=-1)]: Using backend LokyBackend with 8 concurrent workers.\n"
     ]
    },
    {
     "name": "stdout",
     "output_type": "stream",
     "text": [
      "Best parameters: {'max_depth': 5, 'min_samples_leaf': 29})\n",
      "Training score 58 :  0.36567436855357793\n",
      "Testing score 58 :  0.25074828715277075\n",
      "Input :  [180, 22, 10, 0, 0, 0, 0, 1, 1, 0, 0, 1, 0, 0, 0, 1, 0, 0, 0, 0, 0, 1, 0, 0, 0]\n",
      "Prediction :  [142.93103448]  minutes\n",
      "Fitting 10 folds for each of 553 candidates, totalling 5530 fits\n"
     ]
    },
    {
     "name": "stderr",
     "output_type": "stream",
     "text": [
      "[Parallel(n_jobs=-1)]: Done  58 tasks      | elapsed:    0.4s\n",
      "[Parallel(n_jobs=-1)]: Done 1200 tasks      | elapsed:    6.3s\n",
      "[Parallel(n_jobs=-1)]: Done 3200 tasks      | elapsed:   16.9s\n",
      "[Parallel(n_jobs=-1)]: Done 5530 out of 5530 | elapsed:   27.6s finished\n",
      "[Parallel(n_jobs=-1)]: Using backend LokyBackend with 8 concurrent workers.\n"
     ]
    },
    {
     "name": "stdout",
     "output_type": "stream",
     "text": [
      "Best parameters: {'max_depth': 4, 'min_samples_leaf': 56})\n",
      "Training score 59 :  0.30392759035696515\n",
      "Testing score 59 :  0.37775331586801564\n",
      "Input :  [180, 22, 10, 0, 0, 0, 0, 1, 1, 0, 0, 1, 0, 0, 0, 1, 0, 0, 0, 0, 0, 1, 0, 0, 0]\n",
      "Prediction :  [113.109375]  minutes\n",
      "Fitting 10 folds for each of 553 candidates, totalling 5530 fits\n"
     ]
    },
    {
     "name": "stderr",
     "output_type": "stream",
     "text": [
      "[Parallel(n_jobs=-1)]: Done  58 tasks      | elapsed:    0.5s\n",
      "[Parallel(n_jobs=-1)]: Done 656 tasks      | elapsed:    3.6s\n",
      "[Parallel(n_jobs=-1)]: Done 1656 tasks      | elapsed:    8.6s\n",
      "[Parallel(n_jobs=-1)]: Done 3056 tasks      | elapsed:   16.0s\n",
      "[Parallel(n_jobs=-1)]: Done 4856 tasks      | elapsed:   25.5s\n",
      "[Parallel(n_jobs=-1)]: Done 5530 out of 5530 | elapsed:   29.2s finished\n",
      "[Parallel(n_jobs=-1)]: Using backend LokyBackend with 8 concurrent workers.\n"
     ]
    },
    {
     "name": "stdout",
     "output_type": "stream",
     "text": [
      "Best parameters: {'max_depth': 4, 'min_samples_leaf': 36})\n",
      "Training score 60 :  0.3665021669680033\n",
      "Testing score 60 :  0.26587952621516564\n",
      "Input :  [180, 22, 10, 0, 0, 0, 0, 1, 1, 0, 0, 1, 0, 0, 0, 1, 0, 0, 0, 0, 0, 1, 0, 0, 0]\n",
      "Prediction :  [106.24528302]  minutes\n",
      "Fitting 10 folds for each of 553 candidates, totalling 5530 fits\n"
     ]
    },
    {
     "name": "stderr",
     "output_type": "stream",
     "text": [
      "[Parallel(n_jobs=-1)]: Done  56 tasks      | elapsed:    0.5s\n",
      "[Parallel(n_jobs=-1)]: Done 1200 tasks      | elapsed:    6.3s\n",
      "[Parallel(n_jobs=-1)]: Done 3200 tasks      | elapsed:   15.8s\n",
      "[Parallel(n_jobs=-1)]: Done 5515 out of 5530 | elapsed:   27.0s remaining:    0.0s\n",
      "[Parallel(n_jobs=-1)]: Done 5530 out of 5530 | elapsed:   27.1s finished\n",
      "[Parallel(n_jobs=-1)]: Using backend LokyBackend with 8 concurrent workers.\n"
     ]
    },
    {
     "name": "stdout",
     "output_type": "stream",
     "text": [
      "Best parameters: {'max_depth': 3, 'min_samples_leaf': 1})\n",
      "Training score 61 :  0.3455038175241081\n",
      "Testing score 61 :  0.3337301985136295\n",
      "Input :  [180, 22, 10, 0, 0, 0, 0, 1, 1, 0, 0, 1, 0, 0, 0, 1, 0, 0, 0, 0, 0, 1, 0, 0, 0]\n",
      "Prediction :  [113.85714286]  minutes\n",
      "Fitting 10 folds for each of 553 candidates, totalling 5530 fits\n"
     ]
    },
    {
     "name": "stderr",
     "output_type": "stream",
     "text": [
      "[Parallel(n_jobs=-1)]: Done  58 tasks      | elapsed:    0.4s\n",
      "[Parallel(n_jobs=-1)]: Done 656 tasks      | elapsed:    3.7s\n",
      "[Parallel(n_jobs=-1)]: Done 1656 tasks      | elapsed:    8.8s\n",
      "[Parallel(n_jobs=-1)]: Done 3056 tasks      | elapsed:   16.0s\n",
      "[Parallel(n_jobs=-1)]: Done 4856 tasks      | elapsed:   25.5s\n",
      "[Parallel(n_jobs=-1)]: Done 5530 out of 5530 | elapsed:   29.3s finished\n",
      "[Parallel(n_jobs=-1)]: Using backend LokyBackend with 8 concurrent workers.\n"
     ]
    },
    {
     "name": "stdout",
     "output_type": "stream",
     "text": [
      "Best parameters: {'max_depth': 4, 'min_samples_leaf': 29})\n",
      "Training score 62 :  0.3588168646490868\n",
      "Testing score 62 :  0.31825262196491855\n",
      "Input :  [180, 22, 10, 0, 0, 0, 0, 1, 1, 0, 0, 1, 0, 0, 0, 1, 0, 0, 0, 0, 0, 1, 0, 0, 0]\n",
      "Prediction :  [101.65853659]  minutes\n",
      "Fitting 10 folds for each of 553 candidates, totalling 5530 fits\n"
     ]
    },
    {
     "name": "stderr",
     "output_type": "stream",
     "text": [
      "[Parallel(n_jobs=-1)]: Done  56 tasks      | elapsed:    0.3s\n",
      "[Parallel(n_jobs=-1)]: Done 1200 tasks      | elapsed:    6.1s\n",
      "[Parallel(n_jobs=-1)]: Done 3200 tasks      | elapsed:   15.3s\n",
      "[Parallel(n_jobs=-1)]: Done 5530 out of 5530 | elapsed:   26.0s finished\n",
      "[Parallel(n_jobs=-1)]: Using backend LokyBackend with 8 concurrent workers.\n"
     ]
    },
    {
     "name": "stdout",
     "output_type": "stream",
     "text": [
      "Best parameters: {'max_depth': 5, 'min_samples_leaf': 33})\n",
      "Training score 63 :  0.36776919702779476\n",
      "Testing score 63 :  0.260410426095393\n",
      "Input :  [180, 22, 10, 0, 0, 0, 0, 1, 1, 0, 0, 1, 0, 0, 0, 1, 0, 0, 0, 0, 0, 1, 0, 0, 0]\n",
      "Prediction :  [105.10434783]  minutes\n",
      "Fitting 10 folds for each of 553 candidates, totalling 5530 fits\n"
     ]
    },
    {
     "name": "stderr",
     "output_type": "stream",
     "text": [
      "[Parallel(n_jobs=-1)]: Done  56 tasks      | elapsed:    0.4s\n",
      "[Parallel(n_jobs=-1)]: Done 656 tasks      | elapsed:    4.2s\n",
      "[Parallel(n_jobs=-1)]: Done 1656 tasks      | elapsed:    9.6s\n",
      "[Parallel(n_jobs=-1)]: Done 3056 tasks      | elapsed:   16.7s\n",
      "[Parallel(n_jobs=-1)]: Done 4856 tasks      | elapsed:   25.5s\n",
      "[Parallel(n_jobs=-1)]: Done 5530 out of 5530 | elapsed:   29.5s finished\n"
     ]
    },
    {
     "name": "stdout",
     "output_type": "stream",
     "text": [
      "Best parameters: {'max_depth': 3, 'min_samples_leaf': 31})\n",
      "Training score 64 :  0.3307701106147408\n",
      "Testing score 64 :  0.3193941695275945\n",
      "Input :  [180, 22, 10, 0, 0, 0, 0, 1, 1, 0, 0, 1, 0, 0, 0, 1, 0, 0, 0, 0, 0, 1, 0, 0, 0]\n",
      "Prediction :  [104.72302158]  minutes\n",
      "Fitting 10 folds for each of 553 candidates, totalling 5530 fits\n"
     ]
    },
    {
     "name": "stderr",
     "output_type": "stream",
     "text": [
      "[Parallel(n_jobs=-1)]: Using backend LokyBackend with 8 concurrent workers.\n",
      "[Parallel(n_jobs=-1)]: Done  58 tasks      | elapsed:    0.4s\n",
      "[Parallel(n_jobs=-1)]: Done 656 tasks      | elapsed:    3.9s\n",
      "[Parallel(n_jobs=-1)]: Done 1656 tasks      | elapsed:    9.9s\n",
      "[Parallel(n_jobs=-1)]: Done 3056 tasks      | elapsed:   17.9s\n",
      "[Parallel(n_jobs=-1)]: Done 4856 tasks      | elapsed:   27.7s\n",
      "[Parallel(n_jobs=-1)]: Done 5515 out of 5530 | elapsed:   31.1s remaining:    0.0s\n",
      "[Parallel(n_jobs=-1)]: Done 5530 out of 5530 | elapsed:   31.2s finished\n",
      "[Parallel(n_jobs=-1)]: Using backend LokyBackend with 8 concurrent workers.\n"
     ]
    },
    {
     "name": "stdout",
     "output_type": "stream",
     "text": [
      "Best parameters: {'max_depth': 3, 'min_samples_leaf': 20})\n",
      "Training score 65 :  0.35618065892195205\n",
      "Testing score 65 :  0.3031350042923866\n",
      "Input :  [180, 22, 10, 0, 0, 0, 0, 1, 1, 0, 0, 1, 0, 0, 0, 1, 0, 0, 0, 0, 0, 1, 0, 0, 0]\n",
      "Prediction :  [107.53521127]  minutes\n",
      "Fitting 10 folds for each of 553 candidates, totalling 5530 fits\n"
     ]
    },
    {
     "name": "stderr",
     "output_type": "stream",
     "text": [
      "[Parallel(n_jobs=-1)]: Done  56 tasks      | elapsed:    0.4s\n",
      "[Parallel(n_jobs=-1)]: Done 656 tasks      | elapsed:    4.0s\n",
      "[Parallel(n_jobs=-1)]: Done 1656 tasks      | elapsed:    9.2s\n",
      "[Parallel(n_jobs=-1)]: Done 3056 tasks      | elapsed:   16.7s\n",
      "[Parallel(n_jobs=-1)]: Done 4856 tasks      | elapsed:   26.5s\n",
      "[Parallel(n_jobs=-1)]: Done 5515 out of 5530 | elapsed:   30.5s remaining:    0.0s\n",
      "[Parallel(n_jobs=-1)]: Done 5530 out of 5530 | elapsed:   30.5s finished\n",
      "[Parallel(n_jobs=-1)]: Using backend LokyBackend with 8 concurrent workers.\n"
     ]
    },
    {
     "name": "stdout",
     "output_type": "stream",
     "text": [
      "Best parameters: {'max_depth': 4, 'min_samples_leaf': 55})\n",
      "Training score 66 :  0.31440419812891707\n",
      "Testing score 66 :  0.36998148347691706\n",
      "Input :  [180, 22, 10, 0, 0, 0, 0, 1, 1, 0, 0, 1, 0, 0, 0, 1, 0, 0, 0, 0, 0, 1, 0, 0, 0]\n",
      "Prediction :  [110.90625]  minutes\n",
      "Fitting 10 folds for each of 553 candidates, totalling 5530 fits\n"
     ]
    },
    {
     "name": "stderr",
     "output_type": "stream",
     "text": [
      "[Parallel(n_jobs=-1)]: Done  58 tasks      | elapsed:    0.6s\n",
      "[Parallel(n_jobs=-1)]: Done 656 tasks      | elapsed:    5.0s\n",
      "[Parallel(n_jobs=-1)]: Done 1656 tasks      | elapsed:   10.1s\n",
      "[Parallel(n_jobs=-1)]: Done 3056 tasks      | elapsed:   17.5s\n",
      "[Parallel(n_jobs=-1)]: Done 4856 tasks      | elapsed:   27.2s\n",
      "[Parallel(n_jobs=-1)]: Done 5530 out of 5530 | elapsed:   31.2s finished\n",
      "[Parallel(n_jobs=-1)]: Using backend LokyBackend with 8 concurrent workers.\n"
     ]
    },
    {
     "name": "stdout",
     "output_type": "stream",
     "text": [
      "Best parameters: {'max_depth': 4, 'min_samples_leaf': 48})\n",
      "Training score 67 :  0.3535078589400086\n",
      "Testing score 67 :  0.28068606607260893\n",
      "Input :  [180, 22, 10, 0, 0, 0, 0, 1, 1, 0, 0, 1, 0, 0, 0, 1, 0, 0, 0, 0, 0, 1, 0, 0, 0]\n",
      "Prediction :  [113.65671642]  minutes\n",
      "Fitting 10 folds for each of 553 candidates, totalling 5530 fits\n"
     ]
    },
    {
     "name": "stderr",
     "output_type": "stream",
     "text": [
      "[Parallel(n_jobs=-1)]: Done  56 tasks      | elapsed:    0.4s\n",
      "[Parallel(n_jobs=-1)]: Done 1200 tasks      | elapsed:    5.5s\n",
      "[Parallel(n_jobs=-1)]: Done 3200 tasks      | elapsed:   15.3s\n",
      "[Parallel(n_jobs=-1)]: Done 5530 out of 5530 | elapsed:   25.3s finished\n",
      "[Parallel(n_jobs=-1)]: Using backend LokyBackend with 8 concurrent workers.\n"
     ]
    },
    {
     "name": "stdout",
     "output_type": "stream",
     "text": [
      "Best parameters: {'max_depth': 4, 'min_samples_leaf': 42})\n",
      "Training score 68 :  0.37940414298183145\n",
      "Testing score 68 :  0.24987490618390595\n",
      "Input :  [180, 22, 10, 0, 0, 0, 0, 1, 1, 0, 0, 1, 0, 0, 0, 1, 0, 0, 0, 0, 0, 1, 0, 0, 0]\n",
      "Prediction :  [179.83783784]  minutes\n",
      "Fitting 10 folds for each of 553 candidates, totalling 5530 fits\n"
     ]
    },
    {
     "name": "stderr",
     "output_type": "stream",
     "text": [
      "[Parallel(n_jobs=-1)]: Done  56 tasks      | elapsed:    0.5s\n",
      "[Parallel(n_jobs=-1)]: Done 656 tasks      | elapsed:    4.0s\n",
      "[Parallel(n_jobs=-1)]: Done 1656 tasks      | elapsed:    9.2s\n",
      "[Parallel(n_jobs=-1)]: Done 3056 tasks      | elapsed:   16.5s\n",
      "[Parallel(n_jobs=-1)]: Done 4856 tasks      | elapsed:   25.9s\n",
      "[Parallel(n_jobs=-1)]: Done 5530 out of 5530 | elapsed:   29.7s finished\n",
      "[Parallel(n_jobs=-1)]: Using backend LokyBackend with 8 concurrent workers.\n"
     ]
    },
    {
     "name": "stdout",
     "output_type": "stream",
     "text": [
      "Best parameters: {'max_depth': 4, 'min_samples_leaf': 47})\n",
      "Training score 69 :  0.3638774075549268\n",
      "Testing score 69 :  0.2572755962888761\n",
      "Input :  [180, 22, 10, 0, 0, 0, 0, 1, 1, 0, 0, 1, 0, 0, 0, 1, 0, 0, 0, 0, 0, 1, 0, 0, 0]\n",
      "Prediction :  [105.82222222]  minutes\n",
      "Fitting 10 folds for each of 553 candidates, totalling 5530 fits\n"
     ]
    },
    {
     "name": "stderr",
     "output_type": "stream",
     "text": [
      "[Parallel(n_jobs=-1)]: Done  60 tasks      | elapsed:    0.4s\n",
      "[Parallel(n_jobs=-1)]: Done 656 tasks      | elapsed:    4.2s\n",
      "[Parallel(n_jobs=-1)]: Done 1656 tasks      | elapsed:    9.5s\n",
      "[Parallel(n_jobs=-1)]: Done 3056 tasks      | elapsed:   16.5s\n",
      "[Parallel(n_jobs=-1)]: Done 4856 tasks      | elapsed:   26.8s\n",
      "[Parallel(n_jobs=-1)]: Done 5530 out of 5530 | elapsed:   30.7s finished\n",
      "[Parallel(n_jobs=-1)]: Using backend LokyBackend with 8 concurrent workers.\n"
     ]
    },
    {
     "name": "stdout",
     "output_type": "stream",
     "text": [
      "Best parameters: {'max_depth': 4, 'min_samples_leaf': 31})\n",
      "Training score 70 :  0.3659504157757977\n",
      "Testing score 70 :  0.2757337170414479\n",
      "Input :  [180, 22, 10, 0, 0, 0, 0, 1, 1, 0, 0, 1, 0, 0, 0, 1, 0, 0, 0, 0, 0, 1, 0, 0, 0]\n",
      "Prediction :  [97.65625]  minutes\n",
      "Fitting 10 folds for each of 553 candidates, totalling 5530 fits\n"
     ]
    },
    {
     "name": "stderr",
     "output_type": "stream",
     "text": [
      "[Parallel(n_jobs=-1)]: Done  56 tasks      | elapsed:    0.4s\n",
      "[Parallel(n_jobs=-1)]: Done 656 tasks      | elapsed:    3.6s\n",
      "[Parallel(n_jobs=-1)]: Done 1656 tasks      | elapsed:    9.2s\n",
      "[Parallel(n_jobs=-1)]: Done 3056 tasks      | elapsed:   16.9s\n",
      "[Parallel(n_jobs=-1)]: Done 4856 tasks      | elapsed:   26.4s\n",
      "[Parallel(n_jobs=-1)]: Done 5515 out of 5530 | elapsed:   29.9s remaining:    0.0s\n",
      "[Parallel(n_jobs=-1)]: Done 5530 out of 5530 | elapsed:   30.0s finished\n",
      "[Parallel(n_jobs=-1)]: Using backend LokyBackend with 8 concurrent workers.\n"
     ]
    },
    {
     "name": "stdout",
     "output_type": "stream",
     "text": [
      "Best parameters: {'max_depth': 3, 'min_samples_leaf': 1})\n",
      "Training score 71 :  0.3802125233157013\n",
      "Testing score 71 :  0.2787180210905741\n",
      "Input :  [180, 22, 10, 0, 0, 0, 0, 1, 1, 0, 0, 1, 0, 0, 0, 1, 0, 0, 0, 0, 0, 1, 0, 0, 0]\n",
      "Prediction :  [108.6442953]  minutes\n",
      "Fitting 10 folds for each of 553 candidates, totalling 5530 fits\n"
     ]
    },
    {
     "name": "stderr",
     "output_type": "stream",
     "text": [
      "[Parallel(n_jobs=-1)]: Done  56 tasks      | elapsed:    0.4s\n",
      "[Parallel(n_jobs=-1)]: Done 656 tasks      | elapsed:    3.9s\n",
      "[Parallel(n_jobs=-1)]: Done 1656 tasks      | elapsed:    9.0s\n",
      "[Parallel(n_jobs=-1)]: Done 3056 tasks      | elapsed:   16.5s\n",
      "[Parallel(n_jobs=-1)]: Done 4856 tasks      | elapsed:   25.2s\n",
      "[Parallel(n_jobs=-1)]: Done 5530 out of 5530 | elapsed:   28.6s finished\n"
     ]
    },
    {
     "name": "stdout",
     "output_type": "stream",
     "text": [
      "Best parameters: {'max_depth': 3, 'min_samples_leaf': 17})\n",
      "Training score 72 :  0.3365643897571411\n",
      "Testing score 72 :  0.28494364080500056\n",
      "Input :  [180, 22, 10, 0, 0, 0, 0, 1, 1, 0, 0, 1, 0, 0, 0, 1, 0, 0, 0, 0, 0, 1, 0, 0, 0]\n",
      "Prediction :  [116.06557377]  minutes\n",
      "Fitting 10 folds for each of 553 candidates, totalling 5530 fits\n"
     ]
    },
    {
     "name": "stderr",
     "output_type": "stream",
     "text": [
      "[Parallel(n_jobs=-1)]: Using backend LokyBackend with 8 concurrent workers.\n",
      "[Parallel(n_jobs=-1)]: Done  56 tasks      | elapsed:    0.4s\n",
      "[Parallel(n_jobs=-1)]: Done 656 tasks      | elapsed:    4.3s\n",
      "[Parallel(n_jobs=-1)]: Done 1656 tasks      | elapsed:    9.9s\n",
      "[Parallel(n_jobs=-1)]: Done 3056 tasks      | elapsed:   17.7s\n",
      "[Parallel(n_jobs=-1)]: Done 4856 tasks      | elapsed:   27.5s\n",
      "[Parallel(n_jobs=-1)]: Done 5530 out of 5530 | elapsed:   31.0s finished\n",
      "[Parallel(n_jobs=-1)]: Using backend LokyBackend with 8 concurrent workers.\n"
     ]
    },
    {
     "name": "stdout",
     "output_type": "stream",
     "text": [
      "Best parameters: {'max_depth': 3, 'min_samples_leaf': 19})\n",
      "Training score 73 :  0.3348842100927266\n",
      "Testing score 73 :  0.34461683923712494\n",
      "Input :  [180, 22, 10, 0, 0, 0, 0, 1, 1, 0, 0, 1, 0, 0, 0, 1, 0, 0, 0, 0, 0, 1, 0, 0, 0]\n",
      "Prediction :  [108.19354839]  minutes\n",
      "Fitting 10 folds for each of 553 candidates, totalling 5530 fits\n"
     ]
    },
    {
     "name": "stderr",
     "output_type": "stream",
     "text": [
      "[Parallel(n_jobs=-1)]: Done  56 tasks      | elapsed:    0.4s\n",
      "[Parallel(n_jobs=-1)]: Done 656 tasks      | elapsed:    4.0s\n",
      "[Parallel(n_jobs=-1)]: Done 1656 tasks      | elapsed:    9.2s\n",
      "[Parallel(n_jobs=-1)]: Done 3056 tasks      | elapsed:   16.7s\n",
      "[Parallel(n_jobs=-1)]: Done 4856 tasks      | elapsed:   26.1s\n",
      "[Parallel(n_jobs=-1)]: Done 5530 out of 5530 | elapsed:   30.2s finished\n",
      "[Parallel(n_jobs=-1)]: Using backend LokyBackend with 8 concurrent workers.\n"
     ]
    },
    {
     "name": "stdout",
     "output_type": "stream",
     "text": [
      "Best parameters: {'max_depth': 4, 'min_samples_leaf': 73})\n",
      "Training score 74 :  0.3391801629343155\n",
      "Testing score 74 :  0.27556601927125124\n",
      "Input :  [180, 22, 10, 0, 0, 0, 0, 1, 1, 0, 0, 1, 0, 0, 0, 1, 0, 0, 0, 0, 0, 1, 0, 0, 0]\n",
      "Prediction :  [115.60869565]  minutes\n",
      "Fitting 10 folds for each of 553 candidates, totalling 5530 fits\n"
     ]
    },
    {
     "name": "stderr",
     "output_type": "stream",
     "text": [
      "[Parallel(n_jobs=-1)]: Done  56 tasks      | elapsed:    0.3s\n",
      "[Parallel(n_jobs=-1)]: Done 1200 tasks      | elapsed:    5.7s\n",
      "[Parallel(n_jobs=-1)]: Done 3200 tasks      | elapsed:   15.7s\n",
      "[Parallel(n_jobs=-1)]: Done 5515 out of 5530 | elapsed:   26.8s remaining:    0.0s\n",
      "[Parallel(n_jobs=-1)]: Done 5530 out of 5530 | elapsed:   26.8s finished\n",
      "[Parallel(n_jobs=-1)]: Using backend LokyBackend with 8 concurrent workers.\n"
     ]
    },
    {
     "name": "stdout",
     "output_type": "stream",
     "text": [
      "Best parameters: {'max_depth': 3, 'min_samples_leaf': 5})\n",
      "Training score 75 :  0.38370174718249106\n",
      "Testing score 75 :  0.27727915285756144\n",
      "Input :  [180, 22, 10, 0, 0, 0, 0, 1, 1, 0, 0, 1, 0, 0, 0, 1, 0, 0, 0, 0, 0, 1, 0, 0, 0]\n",
      "Prediction :  [107.93877551]  minutes\n",
      "Fitting 10 folds for each of 553 candidates, totalling 5530 fits\n"
     ]
    },
    {
     "name": "stderr",
     "output_type": "stream",
     "text": [
      "[Parallel(n_jobs=-1)]: Done  56 tasks      | elapsed:    0.4s\n",
      "[Parallel(n_jobs=-1)]: Done 1200 tasks      | elapsed:    6.5s\n",
      "[Parallel(n_jobs=-1)]: Done 3200 tasks      | elapsed:   16.2s\n",
      "[Parallel(n_jobs=-1)]: Done 5530 out of 5530 | elapsed:   26.9s finished\n"
     ]
    },
    {
     "name": "stdout",
     "output_type": "stream",
     "text": [
      "Best parameters: {'max_depth': 3, 'min_samples_leaf': 28})\n",
      "Training score 76 :  0.3702447888899172\n",
      "Testing score 76 :  0.2598690609955516\n",
      "Input :  [180, 22, 10, 0, 0, 0, 0, 1, 1, 0, 0, 1, 0, 0, 0, 1, 0, 0, 0, 0, 0, 1, 0, 0, 0]\n",
      "Prediction :  [184.97014925]  minutes\n",
      "Fitting 10 folds for each of 553 candidates, totalling 5530 fits\n"
     ]
    },
    {
     "name": "stderr",
     "output_type": "stream",
     "text": [
      "[Parallel(n_jobs=-1)]: Using backend LokyBackend with 8 concurrent workers.\n",
      "[Parallel(n_jobs=-1)]: Done  56 tasks      | elapsed:    0.4s\n",
      "[Parallel(n_jobs=-1)]: Done 1200 tasks      | elapsed:    5.6s\n",
      "[Parallel(n_jobs=-1)]: Done 3200 tasks      | elapsed:   15.3s\n",
      "[Parallel(n_jobs=-1)]: Done 5515 out of 5530 | elapsed:   26.9s remaining:    0.0s\n",
      "[Parallel(n_jobs=-1)]: Done 5530 out of 5530 | elapsed:   27.0s finished\n",
      "[Parallel(n_jobs=-1)]: Using backend LokyBackend with 8 concurrent workers.\n"
     ]
    },
    {
     "name": "stdout",
     "output_type": "stream",
     "text": [
      "Best parameters: {'max_depth': 3, 'min_samples_leaf': 15})\n",
      "Training score 77 :  0.3480019475108381\n",
      "Testing score 77 :  0.294760137480946\n",
      "Input :  [180, 22, 10, 0, 0, 0, 0, 1, 1, 0, 0, 1, 0, 0, 0, 1, 0, 0, 0, 0, 0, 1, 0, 0, 0]\n",
      "Prediction :  [109.23684211]  minutes\n",
      "Fitting 10 folds for each of 553 candidates, totalling 5530 fits\n"
     ]
    },
    {
     "name": "stderr",
     "output_type": "stream",
     "text": [
      "[Parallel(n_jobs=-1)]: Done  56 tasks      | elapsed:    0.4s\n",
      "[Parallel(n_jobs=-1)]: Done 656 tasks      | elapsed:    3.9s\n",
      "[Parallel(n_jobs=-1)]: Done 1656 tasks      | elapsed:    9.2s\n",
      "[Parallel(n_jobs=-1)]: Done 3056 tasks      | elapsed:   16.3s\n",
      "[Parallel(n_jobs=-1)]: Done 4856 tasks      | elapsed:   26.3s\n",
      "[Parallel(n_jobs=-1)]: Done 5530 out of 5530 | elapsed:   30.1s finished\n",
      "[Parallel(n_jobs=-1)]: Using backend LokyBackend with 8 concurrent workers.\n"
     ]
    },
    {
     "name": "stdout",
     "output_type": "stream",
     "text": [
      "Best parameters: {'max_depth': 4, 'min_samples_leaf': 68})\n",
      "Training score 78 :  0.3179827508033676\n",
      "Testing score 78 :  0.3397463437262256\n",
      "Input :  [180, 22, 10, 0, 0, 0, 0, 1, 1, 0, 0, 1, 0, 0, 0, 1, 0, 0, 0, 0, 0, 1, 0, 0, 0]\n",
      "Prediction :  [110.40458015]  minutes\n",
      "Fitting 10 folds for each of 553 candidates, totalling 5530 fits\n"
     ]
    },
    {
     "name": "stderr",
     "output_type": "stream",
     "text": [
      "[Parallel(n_jobs=-1)]: Done  56 tasks      | elapsed:    0.5s\n",
      "[Parallel(n_jobs=-1)]: Done 656 tasks      | elapsed:    3.6s\n",
      "[Parallel(n_jobs=-1)]: Done 1656 tasks      | elapsed:    8.4s\n",
      "[Parallel(n_jobs=-1)]: Done 3056 tasks      | elapsed:   15.6s\n",
      "[Parallel(n_jobs=-1)]: Done 4856 tasks      | elapsed:   24.7s\n",
      "[Parallel(n_jobs=-1)]: Done 5515 out of 5530 | elapsed:   28.6s remaining:    0.0s\n",
      "[Parallel(n_jobs=-1)]: Done 5530 out of 5530 | elapsed:   28.6s finished\n",
      "[Parallel(n_jobs=-1)]: Using backend LokyBackend with 8 concurrent workers.\n"
     ]
    },
    {
     "name": "stdout",
     "output_type": "stream",
     "text": [
      "Best parameters: {'max_depth': 4, 'min_samples_leaf': 64})\n",
      "Training score 79 :  0.36505888051458935\n",
      "Testing score 79 :  0.22936186156661031\n",
      "Input :  [180, 22, 10, 0, 0, 0, 0, 1, 1, 0, 0, 1, 0, 0, 0, 1, 0, 0, 0, 0, 0, 1, 0, 0, 0]\n",
      "Prediction :  [115.2]  minutes\n",
      "Fitting 10 folds for each of 553 candidates, totalling 5530 fits\n"
     ]
    },
    {
     "name": "stderr",
     "output_type": "stream",
     "text": [
      "[Parallel(n_jobs=-1)]: Done  56 tasks      | elapsed:    0.4s\n",
      "[Parallel(n_jobs=-1)]: Done 1200 tasks      | elapsed:    5.9s\n",
      "[Parallel(n_jobs=-1)]: Done 3200 tasks      | elapsed:   15.6s\n",
      "[Parallel(n_jobs=-1)]: Done 5530 out of 5530 | elapsed:   27.7s finished\n"
     ]
    },
    {
     "name": "stdout",
     "output_type": "stream",
     "text": [
      "Best parameters: {'max_depth': 3, 'min_samples_leaf': 10})\n",
      "Training score 80 :  0.3651680213993497\n",
      "Testing score 80 :  0.23842390894268617\n",
      "Input :  [180, 22, 10, 0, 0, 0, 0, 1, 1, 0, 0, 1, 0, 0, 0, 1, 0, 0, 0, 0, 0, 1, 0, 0, 0]\n",
      "Prediction :  [103.34453782]  minutes\n",
      "Fitting 10 folds for each of 553 candidates, totalling 5530 fits\n"
     ]
    },
    {
     "name": "stderr",
     "output_type": "stream",
     "text": [
      "[Parallel(n_jobs=-1)]: Using backend LokyBackend with 8 concurrent workers.\n",
      "[Parallel(n_jobs=-1)]: Done  56 tasks      | elapsed:    0.4s\n",
      "[Parallel(n_jobs=-1)]: Done 656 tasks      | elapsed:    3.9s\n",
      "[Parallel(n_jobs=-1)]: Done 1656 tasks      | elapsed:    9.7s\n",
      "[Parallel(n_jobs=-1)]: Done 3056 tasks      | elapsed:   17.0s\n",
      "[Parallel(n_jobs=-1)]: Done 4856 tasks      | elapsed:   26.3s\n",
      "[Parallel(n_jobs=-1)]: Done 5515 out of 5530 | elapsed:   29.8s remaining:    0.0s\n",
      "[Parallel(n_jobs=-1)]: Done 5530 out of 5530 | elapsed:   29.9s finished\n",
      "[Parallel(n_jobs=-1)]: Using backend LokyBackend with 8 concurrent workers.\n"
     ]
    },
    {
     "name": "stdout",
     "output_type": "stream",
     "text": [
      "Best parameters: {'max_depth': 6, 'min_samples_leaf': 39})\n",
      "Training score 81 :  0.3864823621909148\n",
      "Testing score 81 :  0.21331872870974944\n",
      "Input :  [180, 22, 10, 0, 0, 0, 0, 1, 1, 0, 0, 1, 0, 0, 0, 1, 0, 0, 0, 0, 0, 1, 0, 0, 0]\n",
      "Prediction :  [181.6]  minutes\n",
      "Fitting 10 folds for each of 553 candidates, totalling 5530 fits\n"
     ]
    },
    {
     "name": "stderr",
     "output_type": "stream",
     "text": [
      "[Parallel(n_jobs=-1)]: Done  56 tasks      | elapsed:    0.4s\n",
      "[Parallel(n_jobs=-1)]: Done 656 tasks      | elapsed:    3.6s\n",
      "[Parallel(n_jobs=-1)]: Done 1656 tasks      | elapsed:    9.2s\n",
      "[Parallel(n_jobs=-1)]: Done 3056 tasks      | elapsed:   17.5s\n",
      "[Parallel(n_jobs=-1)]: Done 4856 tasks      | elapsed:   27.7s\n",
      "[Parallel(n_jobs=-1)]: Done 5515 out of 5530 | elapsed:   31.2s remaining:    0.0s\n",
      "[Parallel(n_jobs=-1)]: Done 5530 out of 5530 | elapsed:   31.3s finished\n"
     ]
    },
    {
     "name": "stdout",
     "output_type": "stream",
     "text": [
      "Best parameters: {'max_depth': 4, 'min_samples_leaf': 46})\n",
      "Training score 82 :  0.3319639347640865\n",
      "Testing score 82 :  0.3300426609457058\n",
      "Input :  [180, 22, 10, 0, 0, 0, 0, 1, 1, 0, 0, 1, 0, 0, 0, 1, 0, 0, 0, 0, 0, 1, 0, 0, 0]\n",
      "Prediction :  [114.07272727]  minutes\n",
      "Fitting 10 folds for each of 553 candidates, totalling 5530 fits\n"
     ]
    },
    {
     "name": "stderr",
     "output_type": "stream",
     "text": [
      "[Parallel(n_jobs=-1)]: Using backend LokyBackend with 8 concurrent workers.\n",
      "[Parallel(n_jobs=-1)]: Done  56 tasks      | elapsed:    0.4s\n",
      "[Parallel(n_jobs=-1)]: Done 656 tasks      | elapsed:    4.0s\n",
      "[Parallel(n_jobs=-1)]: Done 1656 tasks      | elapsed:    9.2s\n",
      "[Parallel(n_jobs=-1)]: Done 3056 tasks      | elapsed:   17.4s\n",
      "[Parallel(n_jobs=-1)]: Done 4856 tasks      | elapsed:   27.2s\n",
      "[Parallel(n_jobs=-1)]: Done 5530 out of 5530 | elapsed:   31.2s finished\n",
      "[Parallel(n_jobs=-1)]: Using backend LokyBackend with 8 concurrent workers.\n"
     ]
    },
    {
     "name": "stdout",
     "output_type": "stream",
     "text": [
      "Best parameters: {'max_depth': 4, 'min_samples_leaf': 62})\n",
      "Training score 83 :  0.3708287693948107\n",
      "Testing score 83 :  0.23743836690889664\n",
      "Input :  [180, 22, 10, 0, 0, 0, 0, 1, 1, 0, 0, 1, 0, 0, 0, 1, 0, 0, 0, 0, 0, 1, 0, 0, 0]\n",
      "Prediction :  [182.24675325]  minutes\n",
      "Fitting 10 folds for each of 553 candidates, totalling 5530 fits\n"
     ]
    },
    {
     "name": "stderr",
     "output_type": "stream",
     "text": [
      "[Parallel(n_jobs=-1)]: Done  58 tasks      | elapsed:    0.7s\n",
      "[Parallel(n_jobs=-1)]: Done 656 tasks      | elapsed:    3.5s\n",
      "[Parallel(n_jobs=-1)]: Done 1656 tasks      | elapsed:    9.4s\n",
      "[Parallel(n_jobs=-1)]: Done 3056 tasks      | elapsed:   17.0s\n",
      "[Parallel(n_jobs=-1)]: Done 4856 tasks      | elapsed:   26.7s\n",
      "[Parallel(n_jobs=-1)]: Done 5530 out of 5530 | elapsed:   30.7s finished\n",
      "[Parallel(n_jobs=-1)]: Using backend LokyBackend with 8 concurrent workers.\n"
     ]
    },
    {
     "name": "stdout",
     "output_type": "stream",
     "text": [
      "Best parameters: {'max_depth': 3, 'min_samples_leaf': 51})\n",
      "Training score 84 :  0.34436179918280496\n",
      "Testing score 84 :  0.2598475823582431\n",
      "Input :  [180, 22, 10, 0, 0, 0, 0, 1, 1, 0, 0, 1, 0, 0, 0, 1, 0, 0, 0, 0, 0, 1, 0, 0, 0]\n",
      "Prediction :  [110.24460432]  minutes\n",
      "Fitting 10 folds for each of 553 candidates, totalling 5530 fits\n"
     ]
    },
    {
     "name": "stderr",
     "output_type": "stream",
     "text": [
      "[Parallel(n_jobs=-1)]: Done  60 tasks      | elapsed:    0.3s\n",
      "[Parallel(n_jobs=-1)]: Done 1208 tasks      | elapsed:    6.2s\n",
      "[Parallel(n_jobs=-1)]: Done 3208 tasks      | elapsed:   16.4s\n",
      "[Parallel(n_jobs=-1)]: Done 5530 out of 5530 | elapsed:   27.6s finished\n",
      "[Parallel(n_jobs=-1)]: Using backend LokyBackend with 8 concurrent workers.\n"
     ]
    },
    {
     "name": "stdout",
     "output_type": "stream",
     "text": [
      "Best parameters: {'max_depth': 4, 'min_samples_leaf': 44})\n",
      "Training score 85 :  0.3521773533776267\n",
      "Testing score 85 :  0.2794281054048313\n",
      "Input :  [180, 22, 10, 0, 0, 0, 0, 1, 1, 0, 0, 1, 0, 0, 0, 1, 0, 0, 0, 0, 0, 1, 0, 0, 0]\n",
      "Prediction :  [108.28289474]  minutes\n",
      "Fitting 10 folds for each of 553 candidates, totalling 5530 fits\n"
     ]
    },
    {
     "name": "stderr",
     "output_type": "stream",
     "text": [
      "[Parallel(n_jobs=-1)]: Done  56 tasks      | elapsed:    0.4s\n",
      "[Parallel(n_jobs=-1)]: Done 1200 tasks      | elapsed:    6.2s\n",
      "[Parallel(n_jobs=-1)]: Done 3200 tasks      | elapsed:   15.7s\n",
      "[Parallel(n_jobs=-1)]: Done 5530 out of 5530 | elapsed:   26.7s finished\n",
      "[Parallel(n_jobs=-1)]: Using backend LokyBackend with 8 concurrent workers.\n"
     ]
    },
    {
     "name": "stdout",
     "output_type": "stream",
     "text": [
      "Best parameters: {'max_depth': 3, 'min_samples_leaf': 7})\n",
      "Training score 86 :  0.3869754087073064\n",
      "Testing score 86 :  0.26605019025379106\n",
      "Input :  [180, 22, 10, 0, 0, 0, 0, 1, 1, 0, 0, 1, 0, 0, 0, 1, 0, 0, 0, 0, 0, 1, 0, 0, 0]\n",
      "Prediction :  [120.]  minutes\n",
      "Fitting 10 folds for each of 553 candidates, totalling 5530 fits\n"
     ]
    },
    {
     "name": "stderr",
     "output_type": "stream",
     "text": [
      "[Parallel(n_jobs=-1)]: Done  60 tasks      | elapsed:    0.5s\n",
      "[Parallel(n_jobs=-1)]: Done 656 tasks      | elapsed:    3.6s\n",
      "[Parallel(n_jobs=-1)]: Done 1656 tasks      | elapsed:    8.9s\n",
      "[Parallel(n_jobs=-1)]: Done 3056 tasks      | elapsed:   16.2s\n",
      "[Parallel(n_jobs=-1)]: Done 4856 tasks      | elapsed:   25.8s\n",
      "[Parallel(n_jobs=-1)]: Done 5530 out of 5530 | elapsed:   29.8s finished\n",
      "[Parallel(n_jobs=-1)]: Using backend LokyBackend with 8 concurrent workers.\n"
     ]
    },
    {
     "name": "stdout",
     "output_type": "stream",
     "text": [
      "Best parameters: {'max_depth': 3, 'min_samples_leaf': 46})\n",
      "Training score 87 :  0.33830794484693216\n",
      "Testing score 87 :  0.307250595766265\n",
      "Input :  [180, 22, 10, 0, 0, 0, 0, 1, 1, 0, 0, 1, 0, 0, 0, 1, 0, 0, 0, 0, 0, 1, 0, 0, 0]\n",
      "Prediction :  [178.02]  minutes\n",
      "Fitting 10 folds for each of 553 candidates, totalling 5530 fits\n"
     ]
    },
    {
     "name": "stderr",
     "output_type": "stream",
     "text": [
      "[Parallel(n_jobs=-1)]: Done  58 tasks      | elapsed:    0.4s\n",
      "[Parallel(n_jobs=-1)]: Done 656 tasks      | elapsed:    3.9s\n",
      "[Parallel(n_jobs=-1)]: Done 1656 tasks      | elapsed:    9.5s\n",
      "[Parallel(n_jobs=-1)]: Done 3056 tasks      | elapsed:   16.9s\n",
      "[Parallel(n_jobs=-1)]: Done 4856 tasks      | elapsed:   26.8s\n",
      "[Parallel(n_jobs=-1)]: Done 5515 out of 5530 | elapsed:   30.3s remaining:    0.0s\n",
      "[Parallel(n_jobs=-1)]: Done 5530 out of 5530 | elapsed:   30.3s finished\n",
      "[Parallel(n_jobs=-1)]: Using backend LokyBackend with 8 concurrent workers.\n"
     ]
    },
    {
     "name": "stdout",
     "output_type": "stream",
     "text": [
      "Best parameters: {'max_depth': 3, 'min_samples_leaf': 45})\n",
      "Training score 88 :  0.3481187241977617\n",
      "Testing score 88 :  0.2689825661835571\n",
      "Input :  [180, 22, 10, 0, 0, 0, 0, 1, 1, 0, 0, 1, 0, 0, 0, 1, 0, 0, 0, 0, 0, 1, 0, 0, 0]\n",
      "Prediction :  [110.02112676]  minutes\n",
      "Fitting 10 folds for each of 553 candidates, totalling 5530 fits\n"
     ]
    },
    {
     "name": "stderr",
     "output_type": "stream",
     "text": [
      "[Parallel(n_jobs=-1)]: Done  42 tasks      | elapsed:    0.3s\n",
      "[Parallel(n_jobs=-1)]: Done 620 tasks      | elapsed:    3.9s\n",
      "[Parallel(n_jobs=-1)]: Done 1620 tasks      | elapsed:    9.2s\n",
      "[Parallel(n_jobs=-1)]: Done 3020 tasks      | elapsed:   17.0s\n",
      "[Parallel(n_jobs=-1)]: Done 4820 tasks      | elapsed:   27.6s\n",
      "[Parallel(n_jobs=-1)]: Done 5530 out of 5530 | elapsed:   31.8s finished\n",
      "[Parallel(n_jobs=-1)]: Using backend LokyBackend with 8 concurrent workers.\n"
     ]
    },
    {
     "name": "stdout",
     "output_type": "stream",
     "text": [
      "Best parameters: {'max_depth': 3, 'min_samples_leaf': 45})\n",
      "Training score 89 :  0.3356624532510617\n",
      "Testing score 89 :  0.3243777073351174\n",
      "Input :  [180, 22, 10, 0, 0, 0, 0, 1, 1, 0, 0, 1, 0, 0, 0, 1, 0, 0, 0, 0, 0, 1, 0, 0, 0]\n",
      "Prediction :  [107.34591195]  minutes\n",
      "Fitting 10 folds for each of 553 candidates, totalling 5530 fits\n"
     ]
    },
    {
     "name": "stderr",
     "output_type": "stream",
     "text": [
      "[Parallel(n_jobs=-1)]: Done  56 tasks      | elapsed:    0.4s\n",
      "[Parallel(n_jobs=-1)]: Done 656 tasks      | elapsed:    3.6s\n",
      "[Parallel(n_jobs=-1)]: Done 1656 tasks      | elapsed:    9.1s\n",
      "[Parallel(n_jobs=-1)]: Done 3056 tasks      | elapsed:   17.0s\n",
      "[Parallel(n_jobs=-1)]: Done 4856 tasks      | elapsed:   25.8s\n",
      "[Parallel(n_jobs=-1)]: Done 5515 out of 5530 | elapsed:   29.3s remaining:    0.0s\n",
      "[Parallel(n_jobs=-1)]: Done 5530 out of 5530 | elapsed:   29.3s finished\n",
      "[Parallel(n_jobs=-1)]: Using backend LokyBackend with 8 concurrent workers.\n"
     ]
    },
    {
     "name": "stdout",
     "output_type": "stream",
     "text": [
      "Best parameters: {'max_depth': 4, 'min_samples_leaf': 62})\n",
      "Training score 90 :  0.3152760962893011\n",
      "Testing score 90 :  0.33357904841295904\n",
      "Input :  [180, 22, 10, 0, 0, 0, 0, 1, 1, 0, 0, 1, 0, 0, 0, 1, 0, 0, 0, 0, 0, 1, 0, 0, 0]\n",
      "Prediction :  [106.34117647]  minutes\n",
      "Fitting 10 folds for each of 553 candidates, totalling 5530 fits\n"
     ]
    },
    {
     "name": "stderr",
     "output_type": "stream",
     "text": [
      "[Parallel(n_jobs=-1)]: Done  56 tasks      | elapsed:    0.4s\n",
      "[Parallel(n_jobs=-1)]: Done 1200 tasks      | elapsed:    5.6s\n",
      "[Parallel(n_jobs=-1)]: Done 3200 tasks      | elapsed:   16.1s\n",
      "[Parallel(n_jobs=-1)]: Done 5530 out of 5530 | elapsed:   27.7s finished\n",
      "[Parallel(n_jobs=-1)]: Using backend LokyBackend with 8 concurrent workers.\n"
     ]
    },
    {
     "name": "stdout",
     "output_type": "stream",
     "text": [
      "Best parameters: {'max_depth': 4, 'min_samples_leaf': 53})\n",
      "Training score 91 :  0.34719053643814834\n",
      "Testing score 91 :  0.3045434324668166\n",
      "Input :  [180, 22, 10, 0, 0, 0, 0, 1, 1, 0, 0, 1, 0, 0, 0, 1, 0, 0, 0, 0, 0, 1, 0, 0, 0]\n",
      "Prediction :  [117.12857143]  minutes\n",
      "Fitting 10 folds for each of 553 candidates, totalling 5530 fits\n"
     ]
    },
    {
     "name": "stderr",
     "output_type": "stream",
     "text": [
      "[Parallel(n_jobs=-1)]: Done  56 tasks      | elapsed:    0.4s\n",
      "[Parallel(n_jobs=-1)]: Done 656 tasks      | elapsed:    3.4s\n",
      "[Parallel(n_jobs=-1)]: Done 1656 tasks      | elapsed:    9.2s\n",
      "[Parallel(n_jobs=-1)]: Done 3056 tasks      | elapsed:   17.1s\n",
      "[Parallel(n_jobs=-1)]: Done 4856 tasks      | elapsed:   26.8s\n",
      "[Parallel(n_jobs=-1)]: Done 5515 out of 5530 | elapsed:   30.2s remaining:    0.0s\n",
      "[Parallel(n_jobs=-1)]: Done 5530 out of 5530 | elapsed:   30.3s finished\n"
     ]
    },
    {
     "name": "stdout",
     "output_type": "stream",
     "text": [
      "Best parameters: {'max_depth': 3, 'min_samples_leaf': 13})\n",
      "Training score 92 :  0.3438322746345148\n",
      "Testing score 92 :  0.3010307591882343\n",
      "Input :  [180, 22, 10, 0, 0, 0, 0, 1, 1, 0, 0, 1, 0, 0, 0, 1, 0, 0, 0, 0, 0, 1, 0, 0, 0]\n",
      "Prediction :  [106.62195122]  minutes\n",
      "Fitting 10 folds for each of 553 candidates, totalling 5530 fits\n"
     ]
    },
    {
     "name": "stderr",
     "output_type": "stream",
     "text": [
      "[Parallel(n_jobs=-1)]: Using backend LokyBackend with 8 concurrent workers.\n",
      "[Parallel(n_jobs=-1)]: Done  44 tasks      | elapsed:    0.6s\n",
      "[Parallel(n_jobs=-1)]: Done 1144 tasks      | elapsed:    6.3s\n",
      "[Parallel(n_jobs=-1)]: Done 3144 tasks      | elapsed:   15.7s\n",
      "[Parallel(n_jobs=-1)]: Done 5530 out of 5530 | elapsed:   26.5s finished\n",
      "[Parallel(n_jobs=-1)]: Using backend LokyBackend with 8 concurrent workers.\n"
     ]
    },
    {
     "name": "stdout",
     "output_type": "stream",
     "text": [
      "Best parameters: {'max_depth': 3, 'min_samples_leaf': 24})\n",
      "Training score 93 :  0.36801409486188974\n",
      "Testing score 93 :  0.2578086456572872\n",
      "Input :  [180, 22, 10, 0, 0, 0, 0, 1, 1, 0, 0, 1, 0, 0, 0, 1, 0, 0, 0, 0, 0, 1, 0, 0, 0]\n",
      "Prediction :  [106.1986755]  minutes\n",
      "Fitting 10 folds for each of 553 candidates, totalling 5530 fits\n"
     ]
    },
    {
     "name": "stderr",
     "output_type": "stream",
     "text": [
      "[Parallel(n_jobs=-1)]: Done  56 tasks      | elapsed:    0.3s\n",
      "[Parallel(n_jobs=-1)]: Done 1200 tasks      | elapsed:    5.5s\n",
      "[Parallel(n_jobs=-1)]: Done 3200 tasks      | elapsed:   15.2s\n",
      "[Parallel(n_jobs=-1)]: Done 5530 out of 5530 | elapsed:   26.3s finished\n",
      "[Parallel(n_jobs=-1)]: Using backend LokyBackend with 8 concurrent workers.\n"
     ]
    },
    {
     "name": "stdout",
     "output_type": "stream",
     "text": [
      "Best parameters: {'max_depth': 4, 'min_samples_leaf': 60})\n",
      "Training score 94 :  0.2967174235797083\n",
      "Testing score 94 :  0.4372919432403535\n",
      "Input :  [180, 22, 10, 0, 0, 0, 0, 1, 1, 0, 0, 1, 0, 0, 0, 1, 0, 0, 0, 0, 0, 1, 0, 0, 0]\n",
      "Prediction :  [110.13043478]  minutes\n",
      "Fitting 10 folds for each of 553 candidates, totalling 5530 fits\n"
     ]
    },
    {
     "name": "stderr",
     "output_type": "stream",
     "text": [
      "[Parallel(n_jobs=-1)]: Done  56 tasks      | elapsed:    0.5s\n",
      "[Parallel(n_jobs=-1)]: Done 656 tasks      | elapsed:    3.8s\n",
      "[Parallel(n_jobs=-1)]: Done 1656 tasks      | elapsed:    9.7s\n",
      "[Parallel(n_jobs=-1)]: Done 3056 tasks      | elapsed:   17.4s\n",
      "[Parallel(n_jobs=-1)]: Done 4856 tasks      | elapsed:   26.8s\n",
      "[Parallel(n_jobs=-1)]: Done 5515 out of 5530 | elapsed:   30.2s remaining:    0.0s\n",
      "[Parallel(n_jobs=-1)]: Done 5530 out of 5530 | elapsed:   30.2s finished\n",
      "[Parallel(n_jobs=-1)]: Using backend LokyBackend with 8 concurrent workers.\n"
     ]
    },
    {
     "name": "stdout",
     "output_type": "stream",
     "text": [
      "Best parameters: {'max_depth': 4, 'min_samples_leaf': 76})\n",
      "Training score 95 :  0.29105635269364194\n",
      "Testing score 95 :  0.3524993520565839\n",
      "Input :  [180, 22, 10, 0, 0, 0, 0, 1, 1, 0, 0, 1, 0, 0, 0, 1, 0, 0, 0, 0, 0, 1, 0, 0, 0]\n",
      "Prediction :  [115.15447154]  minutes\n",
      "Fitting 10 folds for each of 553 candidates, totalling 5530 fits\n"
     ]
    },
    {
     "name": "stderr",
     "output_type": "stream",
     "text": [
      "[Parallel(n_jobs=-1)]: Done  56 tasks      | elapsed:    0.4s\n",
      "[Parallel(n_jobs=-1)]: Done 1200 tasks      | elapsed:    5.8s\n",
      "[Parallel(n_jobs=-1)]: Done 3200 tasks      | elapsed:   15.2s\n",
      "[Parallel(n_jobs=-1)]: Done 5530 out of 5530 | elapsed:   26.1s finished\n",
      "[Parallel(n_jobs=-1)]: Using backend LokyBackend with 8 concurrent workers.\n"
     ]
    },
    {
     "name": "stdout",
     "output_type": "stream",
     "text": [
      "Best parameters: {'max_depth': 3, 'min_samples_leaf': 26})\n",
      "Training score 96 :  0.36677036410725317\n",
      "Testing score 96 :  0.2654298638731418\n",
      "Input :  [180, 22, 10, 0, 0, 0, 0, 1, 1, 0, 0, 1, 0, 0, 0, 1, 0, 0, 0, 0, 0, 1, 0, 0, 0]\n",
      "Prediction :  [107.06]  minutes\n",
      "Fitting 10 folds for each of 553 candidates, totalling 5530 fits\n"
     ]
    },
    {
     "name": "stderr",
     "output_type": "stream",
     "text": [
      "[Parallel(n_jobs=-1)]: Done  56 tasks      | elapsed:    0.4s\n",
      "[Parallel(n_jobs=-1)]: Done 1200 tasks      | elapsed:    6.9s\n",
      "[Parallel(n_jobs=-1)]: Done 3200 tasks      | elapsed:   17.2s\n",
      "[Parallel(n_jobs=-1)]: Done 5515 out of 5530 | elapsed:   28.1s remaining:    0.0s\n",
      "[Parallel(n_jobs=-1)]: Done 5530 out of 5530 | elapsed:   28.1s finished\n",
      "[Parallel(n_jobs=-1)]: Using backend LokyBackend with 8 concurrent workers.\n"
     ]
    },
    {
     "name": "stdout",
     "output_type": "stream",
     "text": [
      "Best parameters: {'max_depth': 4, 'min_samples_leaf': 71})\n",
      "Training score 97 :  0.3377613617901043\n",
      "Testing score 97 :  0.2492963725471118\n",
      "Input :  [180, 22, 10, 0, 0, 0, 0, 1, 1, 0, 0, 1, 0, 0, 0, 1, 0, 0, 0, 0, 0, 1, 0, 0, 0]\n",
      "Prediction :  [109.48360656]  minutes\n",
      "Fitting 10 folds for each of 553 candidates, totalling 5530 fits\n"
     ]
    },
    {
     "name": "stderr",
     "output_type": "stream",
     "text": [
      "[Parallel(n_jobs=-1)]: Done  56 tasks      | elapsed:    0.4s\n",
      "[Parallel(n_jobs=-1)]: Done 656 tasks      | elapsed:    3.7s\n",
      "[Parallel(n_jobs=-1)]: Done 1656 tasks      | elapsed:    9.3s\n",
      "[Parallel(n_jobs=-1)]: Done 3056 tasks      | elapsed:   16.6s\n",
      "[Parallel(n_jobs=-1)]: Done 4856 tasks      | elapsed:   25.9s\n",
      "[Parallel(n_jobs=-1)]: Done 5515 out of 5530 | elapsed:   29.7s remaining:    0.0s\n",
      "[Parallel(n_jobs=-1)]: Done 5530 out of 5530 | elapsed:   29.8s finished\n",
      "[Parallel(n_jobs=-1)]: Using backend LokyBackend with 8 concurrent workers.\n"
     ]
    },
    {
     "name": "stdout",
     "output_type": "stream",
     "text": [
      "Best parameters: {'max_depth': 5, 'min_samples_leaf': 29})\n",
      "Training score 98 :  0.39875791334933\n",
      "Testing score 98 :  0.20696621861290332\n",
      "Input :  [180, 22, 10, 0, 0, 0, 0, 1, 1, 0, 0, 1, 0, 0, 0, 1, 0, 0, 0, 0, 0, 1, 0, 0, 0]\n",
      "Prediction :  [95.43333333]  minutes\n",
      "Fitting 10 folds for each of 553 candidates, totalling 5530 fits\n"
     ]
    },
    {
     "name": "stderr",
     "output_type": "stream",
     "text": [
      "[Parallel(n_jobs=-1)]: Done  58 tasks      | elapsed:    0.5s\n",
      "[Parallel(n_jobs=-1)]: Done 656 tasks      | elapsed:    4.0s\n",
      "[Parallel(n_jobs=-1)]: Done 1656 tasks      | elapsed:    9.6s\n",
      "[Parallel(n_jobs=-1)]: Done 3056 tasks      | elapsed:   17.0s\n",
      "[Parallel(n_jobs=-1)]: Done 4856 tasks      | elapsed:   26.4s\n",
      "[Parallel(n_jobs=-1)]: Done 5515 out of 5530 | elapsed:   30.3s remaining:    0.0s\n",
      "[Parallel(n_jobs=-1)]: Done 5530 out of 5530 | elapsed:   30.4s finished\n",
      "[Parallel(n_jobs=-1)]: Using backend LokyBackend with 8 concurrent workers.\n"
     ]
    },
    {
     "name": "stdout",
     "output_type": "stream",
     "text": [
      "Best parameters: {'max_depth': 3, 'min_samples_leaf': 2})\n",
      "Training score 99 :  0.35049476596923135\n",
      "Testing score 99 :  0.26358057722849204\n",
      "Input :  [180, 22, 10, 0, 0, 0, 0, 1, 1, 0, 0, 1, 0, 0, 0, 1, 0, 0, 0, 0, 0, 1, 0, 0, 0]\n",
      "Prediction :  [119.49710983]  minutes\n",
      "Fitting 10 folds for each of 553 candidates, totalling 5530 fits\n"
     ]
    },
    {
     "name": "stderr",
     "output_type": "stream",
     "text": [
      "[Parallel(n_jobs=-1)]: Done  58 tasks      | elapsed:    0.4s\n",
      "[Parallel(n_jobs=-1)]: Done 1200 tasks      | elapsed:    6.2s\n",
      "[Parallel(n_jobs=-1)]: Done 3200 tasks      | elapsed:   16.3s\n"
     ]
    },
    {
     "name": "stdout",
     "output_type": "stream",
     "text": [
      "Best parameters: {'max_depth': 5, 'min_samples_leaf': 61})\n",
      "Training score 100 :  0.3692855892607042\n",
      "Testing score 100 :  0.16639598974337355\n",
      "Input :  [180, 22, 10, 0, 0, 0, 0, 1, 1, 0, 0, 1, 0, 0, 0, 1, 0, 0, 0, 0, 0, 1, 0, 0, 0]\n",
      "Prediction :  [167.47540984]  minutes\n",
      "------------------------------------------------------------------------------------------------\n",
      "Test scores :  [0.2487002992841284, 0.29015671798213305, 0.30855063640670355, 0.2403988054834475, 0.3003493122014572, 0.3064844777476632, 0.3052138936805632, 0.28146115437858077, 0.30876019180446734, 0.32308313409912315, 0.2561024940593205, 0.27939533334612954, 0.2720424808487816, 0.2838429894081599, 0.3034328061752637, 0.2580565195060597, 0.3134569910814361, 0.25893182558952177, 0.2743881868314918, 0.3099729307778102, 0.2767852231426683, 0.08033371592513594, 0.32510398660633055, 0.319753537917842, 0.22563888475308025, 0.3079758618845483, 0.3494331490383973, 0.20186526061467125, 0.17135451524558498, 0.3005075707911229, 0.2953688395353663, 0.29707542452347635, 0.23155520445074695, 0.1621254871022786, 0.334200365290087, 0.23454837095061487, 0.30575811937635244, 0.24704394954814202, 0.30497122691118017, 0.2964797447518629, 0.3303412800115002, 0.24323467587739822, 0.26221048262627755, 0.13475563687033432, 0.294973633477696, 0.2748000789082228, 0.2612219514884989, 0.19402789555876054, 0.3169912165579355, 0.2713395995059258, 0.20968901830906916, 0.3427546173178915, 0.35174095784240844, 0.32635711523507516, 0.39878195214855294, 0.249894542639428, 0.2659605819248816, 0.25074828715277075, 0.37775331586801564, 0.26587952621516564, 0.3337301985136295, 0.31825262196491855, 0.260410426095393, 0.3193941695275945, 0.3031350042923866, 0.36998148347691706, 0.28068606607260893, 0.24987490618390595, 0.2572755962888761, 0.2757337170414479, 0.2787180210905741, 0.28494364080500056, 0.34461683923712494, 0.27556601927125124, 0.27727915285756144, 0.2598690609955516, 0.294760137480946, 0.3397463437262256, 0.22936186156661031, 0.23842390894268617, 0.21331872870974944, 0.3300426609457058, 0.23743836690889664, 0.2598475823582431, 0.2794281054048313, 0.26605019025379106, 0.307250595766265, 0.2689825661835571, 0.3243777073351174, 0.33357904841295904, 0.3045434324668166, 0.3010307591882343, 0.2578086456572872, 0.4372919432403535, 0.3524993520565839, 0.2654298638731418, 0.2492963725471118, 0.20696621861290332, 0.26358057722849204, 0.16639598974337355]\n",
      "Test scores average :  0.28031033866912153\n",
      "------------------------------------------------------------------------------------------------\n",
      "[107.02614379084967, 170.84166666666667, 105.0, 101.81132075471699, 119.42857142857143, 117.4, 110.78461538461538, 110.36363636363636, 110.61864406779661, 111.38356164383562, 181.2112676056338, 180.63291139240508, 109.8974358974359, 109.64539007092199, 105.45098039215686, 113.53947368421052, 108.17567567567568, 136.25, 107.38317757009345, 106.88741721854305, 111.8092105263158, 192.3090909090909, 118.79629629629629, 107.41290322580645, 110.62820512820512, 108.66891891891892, 115.3956043956044, 108.76729559748428, 194.37777777777777, 179.5483870967742, 109.42567567567568, 112.3157894736842, 182.57692307692307, 112.49668874172185, 107.53086419753086, 104.34782608695652, 109.02580645161291, 109.152, 109.32484076433121, 110.47540983606558, 108.46666666666667, 108.97315436241611, 146.2608695652174, 105.60317460317461, 105.86896551724138, 110.96969696969697, 174.83333333333334, 163.25352112676057, 111.12676056338029, 104.89565217391305, 171.80672268907563, 107.65753424657534, 110.72297297297297, 108.96153846153847, 106.59722222222223, 108.59235668789809, 109.51904761904763, 142.93103448275863, 113.109375, 106.24528301886792, 113.85714285714286, 101.65853658536585, 105.10434782608695, 104.72302158273381, 107.53521126760563, 110.90625, 113.65671641791045, 179.83783783783784, 105.82222222222222, 97.65625, 108.64429530201342, 116.06557377049181, 108.19354838709677, 115.6086956521739, 107.93877551020408, 184.97014925373134, 109.23684210526316, 110.40458015267176, 115.2, 103.34453781512605, 181.6, 114.07272727272728, 182.24675324675326, 110.24460431654676, 108.28289473684211, 120.0, 178.02, 110.02112676056338, 107.34591194968553, 106.34117647058824, 117.12857142857143, 106.6219512195122, 106.19867549668874, 110.1304347826087, 115.15447154471545, 107.06, 109.48360655737704, 95.43333333333334, 119.4971098265896, 167.47540983606558]\n",
      "Average predicted length : 121.57235579392147\n"
     ]
    },
    {
     "name": "stderr",
     "output_type": "stream",
     "text": [
      "[Parallel(n_jobs=-1)]: Done 5530 out of 5530 | elapsed:   28.0s finished\n"
     ]
    }
   ],
   "source": [
    "### THE LOOP ###\n",
    "\n",
    "test_scores = []\n",
    "predictions = []\n",
    "\n",
    "iter = 100\n",
    "\n",
    "for i in range(iter) :\n",
    "\n",
    "    Xtrain, Xtest, ytrain, ytest = train_test_split(X, y, test_size=.3)\n",
    "    dtr_cv.fit(Xtrain, ytrain)\n",
    "\n",
    "    best_params = dtr_cv.best_params_\n",
    "    print(f\"Best parameters: {best_params})\")\n",
    "\n",
    "    dtr = DecisionTreeRegressor(**best_params)\n",
    "    dtr.fit(Xtrain, ytrain)\n",
    "\n",
    "    # Testing :\n",
    "\n",
    "    ypred = dtr.predict(Xtest)\n",
    "\n",
    "    print(f\"Training score {i+1} : \", dtr.score(Xtrain, ytrain))\n",
    "    print(f\"Testing score {i+1} : \", dtr.score(Xtest, ytest))\n",
    "    test_scores.append(dtr.score(Xtest, ytest))\n",
    "\n",
    "    predictions.append(custom_predict(dtr, scale_x, scale_y, 180, 22, 10, 0, 4, 1, 2, 4, 5))\n",
    "\n",
    "print(\"------------------------------------------------------------------------------------------------\")\n",
    "print(\"Test scores : \", test_scores)\n",
    "print(\"Test scores average : \", sum(test_scores)/len(test_scores))\n",
    "\n",
    "print(\"------------------------------------------------------------------------------------------------\")\n",
    "print(predictions)\n",
    "print(f\"Average predicted length : {sum(predictions) / len(predictions)}\")"
   ]
  },
  {
   "cell_type": "code",
   "execution_count": 54,
   "metadata": {},
   "outputs": [
    {
     "data": {
      "image/png": "[encoded data removed]",
      "text/plain": [
       "<Figure size 1296x432 with 1 Axes>"
      ]
     },
     "metadata": {
      "needs_background": "light"
     },
     "output_type": "display_data"
    }
   ],
   "source": [
    "### HISTOGRAM ###\n",
    "\n",
    "# ATP Colors\n",
    "# Dark blue : #002865\n",
    "# Light blue : #00AFF0\n",
    "\n",
    "time_step = 15  # precision : 15/30/30 minutes\n",
    "intervals=np.arange(60, 300 + time_step, time_step)\n",
    "\n",
    "fig, ax = plt.subplots(1, figsize=(18,6))\n",
    "\n",
    "n, bins, patches = plt.hist(predictions, bins=intervals, color='#00AFF0')\n",
    "\n",
    "plt.xticks(bins)\n",
    "plt.grid(color='white', lw = 1, axis='x')\n",
    "\n",
    "plt.title('Distribution of Match Length Predictions')\n",
    "plt.xlabel(\"Minutes\")\n",
    "plt.ylabel(\"Nb of predictions\")\n",
    "\n",
    "# ax.spines['bottom'].set_visible(False)\n",
    "ax.spines['top'].set_visible(False)\n",
    "ax.spines['left'].set_visible(False)\n",
    "ax.spines['right'].set_visible(False)\n",
    "\n",
    "xticks = [(bins[idx+1] + value)/2 for idx, value in enumerate(bins[:-1])]\n",
    "plt.yticks([])\n",
    "\n",
    "for idx, value in enumerate(n) :\n",
    "    if value > 0 :\n",
    "        plt.text(xticks[idx], value + 1, f\"{int(100 * value / iter)}%\", ha='center')\n",
    "        plt.text(xticks[idx], value / 2, int(value), ha='center', color='w')"
   ]
  },
  {
   "cell_type": "code",
   "execution_count": 53,
   "metadata": {},
   "outputs": [
    {
     "data": {
      "image/png": "[encoded data removed]",
      "text/plain": [
       "<IPython.core.display.Image object>"
      ]
     },
     "execution_count": 53,
     "metadata": {},
     "output_type": "execute_result"
    }
   ],
   "source": [
    "# TREE VISUALIZATION\n",
    "\n",
    "# Without True/False (sklearn)\n",
    "\n",
    "# x_ax = range(len(ytest))\n",
    "# plt.plot(x_ax, ytest, linewidth=1, label=\"original\")\n",
    "# plt.plot(x_ax, ypred, linewidth=1.1, label=\"predicted\")\n",
    "# plt.title(\"Y-test and y-predicted data\")\n",
    "# plt.xlabel('X-axis')\n",
    "# plt.ylabel('Y-axis')\n",
    "# plt.legend(loc='best',fancybox=True, shadow=True)\n",
    "# plt.grid(True)\n",
    "# plt.show()\n",
    "\n",
    "# plt.figure(figsize=(30,15))\n",
    "# tree.plot_tree(dtr,\n",
    "#           filled=True,\n",
    "#           rounded=True,\n",
    "#           fontsize=10,\n",
    "#           feature_names=[\"opp_ht\", \"opp_age\", \"rank_diff\", \"consecutive\", \"surface_Carpet\", \"surface_Clay\", \"surface_Grass\", \"surface_Hard\", \n",
    "#                          \"best_of_3\", \"best_of_5\", \"opp_hand_L\", \"opp_hand_R\", \n",
    "#                          'tourney_level_A', 'tourney_level_D', 'tourney_level_F', 'tourney_level_G', 'tourney_level_M', \n",
    "#                          'round_F', 'round_QF', 'round_R128', 'round_R16', 'round_R32', 'round_R64', 'round_RR', 'round_SF'])\n",
    "\n",
    "# # plt.savefig('tree_high_dpi', dpi=600)\n",
    "\n",
    "# # With True/False label (pydot)\n",
    "\n",
    "from IPython.display import Image\n",
    "from six import StringIO\n",
    "from sklearn.tree import export_graphviz\n",
    "import pydot\n",
    "\n",
    "# def visualize_tree(dtr) :\n",
    "\n",
    "features = list(player1.columns)\n",
    "features.remove(\"minutes\")\n",
    "\n",
    "dot_data = StringIO()\n",
    "export_graphviz(dtr, out_file=dot_data, feature_names=features, filled=True)\n",
    "graph = pydot.graph_from_dot_data(dot_data.getvalue())\n",
    "Image(graph[0].create_png())\n",
    "\n",
    "# visualize_tree(dtr)"
   ]
  },
  {
   "cell_type": "code",
   "execution_count": null,
   "metadata": {},
   "outputs": [],
   "source": []
  }
 ],
 "metadata": {
  "interpreter": {
   "hash": "0b93062363e5a5b4fa26c1845ae4a0b4a25f0e99a4bdf65960ff0b8d7a276f44"
  },
  "kernelspec": {
   "display_name": "Python 3.6.5 64-bit ('base': conda)",
   "language": "python",
   "name": "python3"
  },
  "language_info": {
   "codemirror_mode": {
    "name": "ipython",
    "version": 3
   },
   "file_extension": ".py",
   "mimetype": "text/x-python",
   "name": "python",
   "nbconvert_exporter": "python",
   "pygments_lexer": "ipython3",
   "version": "3.6.10"
  },
  "orig_nbformat": 4
 },
 "nbformat": 4,
 "nbformat_minor": 2
}
